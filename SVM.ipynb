{
 "cells": [
  {
   "cell_type": "code",
   "execution_count": 4,
   "metadata": {},
   "outputs": [],
   "source": [
    "import pandas as pd\n",
    "import numpy as np\n",
    "import matplotlib.pyplot as plt\n",
    "from sklearn.svm import SVC\n",
    "from sklearn.metrics import accuracy_score\n",
    "from sklearn.model_selection import cross_val_score\n",
    "from sklearn.model_selection import GridSearchCV\n",
    "from sklearn.model_selection import train_test_split"
   ]
  },
  {
   "cell_type": "code",
   "execution_count": 5,
   "metadata": {},
   "outputs": [
    {
     "name": "stdout",
     "output_type": "stream",
     "text": [
      "   C1  C2  C3  C4  C5  Class  S1_1  S1_2  S1_3  S1_4  ...  S3_3  S3_4  S4_1  \\\n",
      "0  10  11  13  12  14      2     1     0     0     0  ...     0     0     1   \n",
      "1  11  13  10  12  14      2     0     1     0     0  ...     0     0     0   \n",
      "2  12  11  13  10  14      2     0     0     1     0  ...     1     0     0   \n",
      "3  10  11  14  13  12      2     0     0     0     1  ...     0     1     0   \n",
      "4  14  13  12  11  10      2     0     0     0     1  ...     0     1     0   \n",
      "\n",
      "   S4_2  S4_3  S4_4  S5_1  S5_2  S5_3  S5_4  \n",
      "0     0     0     0     1     0     0     0  \n",
      "1     1     0     0     0     1     0     0  \n",
      "2     0     1     0     0     0     1     0  \n",
      "3     0     0     1     0     0     0     1  \n",
      "4     0     0     1     0     0     0     1  \n",
      "\n",
      "[5 rows x 26 columns]\n",
      "   C1  C2  C3  C4  C5  Class  S1_1  S1_2  S1_3  S1_4  ...  S3_3  S3_4  S4_1  \\\n",
      "0  14  13   4   3  12      0     1     0     0     0  ...     0     0     0   \n",
      "1  12   2  11   5   5      0     0     0     1     0  ...     1     0     0   \n",
      "2   9   6   4   2   9      0     1     0     0     0  ...     0     0     0   \n",
      "3   4  13  13  14   6      0     1     0     0     0  ...     0     0     0   \n",
      "4  10   7   2  11   9      0     0     0     1     0  ...     0     0     0   \n",
      "\n",
      "   S4_2  S4_3  S4_4  S5_1  S5_2  S5_3  S5_4  \n",
      "0     1     0     0     1     0     0     0  \n",
      "1     0     0     1     0     1     0     0  \n",
      "2     0     1     0     0     0     1     0  \n",
      "3     1     0     0     0     0     1     0  \n",
      "4     1     0     0     0     0     0     1  \n",
      "\n",
      "[5 rows x 26 columns]\n"
     ]
    }
   ],
   "source": [
    "# Dataset columns\n",
    "\n",
    "columns = ['S1', 'C1', 'S2', 'C2', 'S3', 'C3', 'S4', 'C4', 'S5', 'C5', 'Class']\n",
    "\n",
    "# Load your dataset\n",
    "training_data = pd.read_csv('poker-hand-training-true.csv', header=None, names=columns)\n",
    "testing_data = pd.read_csv('poker-hand-testing.csv', header=None, names=columns)\n",
    "\n",
    "# Adjust the ranks of cards, specifically changing Ace from 1 to 14\n",
    "def adjust_ranks(data):\n",
    "    for i in range(1, 6):  # For each card in the hand\n",
    "        data[f'C{i}'] = data[f'C{i}'].apply(lambda x: 14 if x == 1 else x)\n",
    "    return data\n",
    "\n",
    "# One-hot encode the suits of the cards\n",
    "def one_hot_encode_suits(data):\n",
    "    for i in range(1, 6):  # For each card in the hand\n",
    "        data = pd.concat([data, pd.get_dummies(data[f'S{i}'], prefix=f'S{i}')], axis=1).drop([f'S{i}'], axis=1)\n",
    "    return data\n",
    "\n",
    "# Make all rows with classes 0-3 to be 0, 4-6 to be 1, and 7-9 to be 2\n",
    "def adjust_classes(data):\n",
    "    data['Class'] = data['Class'].apply(lambda x: 0 if x < 4 else 1 if x < 7 else 2)\n",
    "    return data\n",
    "\n",
    "# Apply preprocessing steps\n",
    "def preprocess_data(data):\n",
    "    data = adjust_ranks(data)\n",
    "    data = one_hot_encode_suits(data)\n",
    "    data = adjust_classes(data)\n",
    "    return data\n",
    "\n",
    "training_data_preprocessed = preprocess_data(training_data)\n",
    "testing_data_preprocessed = preprocess_data(testing_data)\n",
    "\n",
    "# Split training and test data to just have the combinations where classes are 0,1 0,2 and 1,2\n",
    "training_data_preprocessed_01 = training_data_preprocessed[training_data_preprocessed['Class'] != 2]\n",
    "testing_data_preprocessed_01 = testing_data_preprocessed[testing_data_preprocessed['Class'] != 2]\n",
    "\n",
    "training_data_preprocessed_02 = training_data_preprocessed[training_data_preprocessed['Class'] != 1]\n",
    "testing_data_preprocessed_02 = testing_data_preprocessed[testing_data_preprocessed['Class'] != 1]\n",
    "\n",
    "training_data_preprocessed_12 = training_data_preprocessed[training_data_preprocessed['Class'] != 0]\n",
    "testing_data_preprocessed_12 = testing_data_preprocessed[testing_data_preprocessed['Class'] != 0]\n",
    "\n",
    "# X_train, X_val, y_train, y_val = train_test_split(training_data_preprocessed.drop('Class', axis=1).to_numpy(), training_data_preprocessed['Class'].to_numpy(), test_size=0.1, random_state=42)\n",
    "\n",
    "#Final Preprocessed DATA\n",
    "print(training_data_preprocessed.head())\n",
    "print(testing_data_preprocessed.head())"
   ]
  },
  {
   "cell_type": "code",
   "execution_count": 9,
   "metadata": {},
   "outputs": [
    {
     "name": "stdout",
     "output_type": "stream",
     "text": [
      "Best parameters: {'kernel': 'linear'}\n",
      "Best cross-validated score:  0.9926782475342607\n",
      "   mean_fit_time  std_fit_time  mean_score_time  std_score_time param_kernel  \\\n",
      "0       0.336742      0.004986         0.064831        0.000572       linear   \n",
      "1       1.563370      0.109379         0.088698        0.002504         poly   \n",
      "2       0.740765      0.039731         0.335576        0.015668          rbf   \n",
      "3       0.138792      0.003249         0.029917        0.002541      sigmoid   \n",
      "\n",
      "                  params  split0_test_score  split1_test_score  \\\n",
      "0   {'kernel': 'linear'}           0.992799           0.992599   \n",
      "1     {'kernel': 'poly'}           0.992799           0.992599   \n",
      "2      {'kernel': 'rbf'}           0.992799           0.992599   \n",
      "3  {'kernel': 'sigmoid'}           0.991598           0.990998   \n",
      "\n",
      "   split2_test_score  split3_test_score  split4_test_score  mean_test_score  \\\n",
      "0           0.992599           0.992599           0.992797         0.992678   \n",
      "1           0.992599           0.992599           0.992797         0.992678   \n",
      "2           0.992599           0.992599           0.992797         0.992678   \n",
      "3           0.991198           0.989998           0.991196         0.990998   \n",
      "\n",
      "   std_test_score  rank_test_score  \n",
      "0        0.000098                1  \n",
      "1        0.000098                1  \n",
      "2        0.000098                1  \n",
      "3        0.000537                4  \n"
     ]
    },
    {
     "data": {
      "image/png": "[encoded data removed]",
      "text/plain": [
       "<Figure size 640x480 with 1 Axes>"
      ]
     },
     "metadata": {},
     "output_type": "display_data"
    }
   ],
   "source": [
    "# perform 5-fold cross validation on the training dataset on the binary classification problem of class 0 versus 1\n",
    "param_grid = {\n",
    "    'kernel': ['linear', 'poly', 'rbf', 'sigmoid'],\n",
    "}\n",
    "clf = SVC()\n",
    "grid_search = GridSearchCV(clf, param_grid, cv=5)\n",
    "grid_search.fit(training_data_preprocessed_01.drop('Class', axis=1), training_data_preprocessed_01['Class'])\n",
    "\n",
    "print(\"Best parameters:\", grid_search.best_params_)\n",
    "print(\"Best cross-validated score: \", grid_search.best_score_)\n",
    "\n",
    "# plotting results\n",
    "results = pd.DataFrame(grid_search.cv_results_)\n",
    "print(results)\n",
    "\n",
    "# bar chart of results for each kernel\n",
    "fig, ax = plt.subplots()\n",
    "ax.plot(results['param_kernel'], results['mean_test_score'])\n",
    "\n",
    "ax.set_xlabel('Kernel')\n",
    "ax.set_ylabel('Mean Test Score')\n",
    "plt.show()\n",
    "\n",
    "# get best kernel\n",
    "best_kernel = grid_search.best_params_['kernel']"
   ]
  },
  {
   "cell_type": "code",
   "execution_count": 10,
   "metadata": {},
   "outputs": [
    {
     "name": "stdout",
     "output_type": "stream",
     "text": [
      "Accuracy on test data for class 0 versus 1: 0.99269320983641\n"
     ]
    }
   ],
   "source": [
    "# train the model on the training dataset with the best kernel and evaluate it on the test dataset\n",
    "clf = SVC(kernel=best_kernel, C=1, gamma=0.1)\n",
    "clf.fit(training_data_preprocessed_01.drop('Class', axis=1), training_data_preprocessed_01['Class'])\n",
    "# predicted_labels = clf.predict(testing_data_preprocessed_01.drop('Class', axis=1).to_numpy())\n",
    "accuracy = clf.score(testing_data_preprocessed_01.drop('Class', axis=1), testing_data_preprocessed_01['Class'])\n",
    "print(f'Accuracy on test data for class 0 versus 1: {accuracy}')"
   ]
  },
  {
   "cell_type": "code",
   "execution_count": 11,
   "metadata": {},
   "outputs": [
    {
     "name": "stdout",
     "output_type": "stream",
     "text": [
      "Best parameters: {'kernel': 'linear'}\n",
      "Best cross-validated score:  0.999355545199806\n",
      "   mean_fit_time  std_fit_time  mean_score_time  std_score_time param_kernel  \\\n",
      "0       0.095184      0.003749         0.020079        0.000593       linear   \n",
      "1       0.163064      0.025448         0.011103        0.000879         poly   \n",
      "2       0.086979      0.004806         0.045961        0.002666          rbf   \n",
      "3       0.023134      0.001039         0.005263        0.000213      sigmoid   \n",
      "\n",
      "                  params  split0_test_score  split1_test_score  \\\n",
      "0   {'kernel': 'linear'}           0.999195           0.999396   \n",
      "1     {'kernel': 'poly'}           0.999195           0.999396   \n",
      "2      {'kernel': 'rbf'}           0.999195           0.999396   \n",
      "3  {'kernel': 'sigmoid'}           0.999195           0.999396   \n",
      "\n",
      "   split2_test_score  split3_test_score  split4_test_score  mean_test_score  \\\n",
      "0           0.999396           0.999396           0.999396         0.999356   \n",
      "1           0.999396           0.999396           0.999396         0.999356   \n",
      "2           0.999396           0.999396           0.999396         0.999356   \n",
      "3           0.999396           0.999396           0.999396         0.999356   \n",
      "\n",
      "   std_test_score  rank_test_score  \n",
      "0        0.000081                1  \n",
      "1        0.000081                1  \n",
      "2        0.000081                1  \n",
      "3        0.000081                1  \n"
     ]
    },
    {
     "data": {
      "image/png": "[encoded data removed]",
      "text/plain": [
       "<Figure size 640x480 with 1 Axes>"
      ]
     },
     "metadata": {},
     "output_type": "display_data"
    }
   ],
   "source": [
    "# perform 5-fold cross validation on the training dataset on the binary classification problem of class 0 versus 2\n",
    "param_grid = {\n",
    "    'kernel': ['linear', 'poly', 'rbf', 'sigmoid'],\n",
    "}\n",
    "clf = SVC()\n",
    "grid_search = GridSearchCV(clf, param_grid, cv=5)\n",
    "grid_search.fit(training_data_preprocessed_02.drop('Class', axis=1), training_data_preprocessed_02['Class'])\n",
    "\n",
    "print(\"Best parameters:\", grid_search.best_params_)\n",
    "print(\"Best cross-validated score: \", grid_search.best_score_)\n",
    "\n",
    "# plotting results\n",
    "results = pd.DataFrame(grid_search.cv_results_)\n",
    "print(results)\n",
    "\n",
    "# scatter plot of results for each kernel\n",
    "fig, ax = plt.subplots()\n",
    "ax.scatter(results['param_kernel'], results['mean_test_score'])\n",
    "\n",
    "ax.set_xlabel('Kernel')\n",
    "ax.set_ylabel('Mean Test Score')\n",
    "plt.show()\n",
    "\n",
    "# get best kernel\n",
    "best_kernel = grid_search.best_params_['kernel']"
   ]
  },
  {
   "cell_type": "code",
   "execution_count": 12,
   "metadata": {},
   "outputs": [
    {
     "name": "stderr",
     "output_type": "stream",
     "text": [
      "/Library/Frameworks/Python.framework/Versions/3.11/lib/python3.11/site-packages/sklearn/base.py:493: UserWarning: X does not have valid feature names, but SVC was fitted with feature names\n",
      "  warnings.warn(\n"
     ]
    },
    {
     "name": "stdout",
     "output_type": "stream",
     "text": [
      "Accuracy on test data for class 0 versus 2: 0.9997531971048509\n"
     ]
    }
   ],
   "source": [
    "# train the model on the training dataset with the best kernel and evaluate it on the test dataset\n",
    "clf = SVC(kernel=best_kernel, C=1, gamma=0.1)\n",
    "clf.fit(training_data_preprocessed_02.drop('Class', axis=1), training_data_preprocessed_02['Class'])\n",
    "accuracy = clf.score(testing_data_preprocessed_02.drop('Class', axis=1), testing_data_preprocessed_02['Class'])\n",
    "print(f'Accuracy on test data for class 0 versus 2: {accuracy}')"
   ]
  },
  {
   "cell_type": "code",
   "execution_count": 13,
   "metadata": {},
   "outputs": [
    {
     "name": "stdout",
     "output_type": "stream",
     "text": [
      "Best parameters: {'kernel': 'linear'}\n",
      "Best cross-validated score:  0.9196153846153846\n",
      "   mean_fit_time  std_fit_time  mean_score_time  std_score_time param_kernel  \\\n",
      "0       0.001842      0.000428         0.000778        0.000069       linear   \n",
      "1       0.001389      0.000147         0.000607        0.000060         poly   \n",
      "2       0.000921      0.000043         0.000660        0.000049          rbf   \n",
      "3       0.000783      0.000053         0.000524        0.000015      sigmoid   \n",
      "\n",
      "                  params  split0_test_score  split1_test_score  \\\n",
      "0   {'kernel': 'linear'}                0.9              0.925   \n",
      "1     {'kernel': 'poly'}                0.9              0.925   \n",
      "2      {'kernel': 'rbf'}                0.9              0.925   \n",
      "3  {'kernel': 'sigmoid'}                0.9              0.925   \n",
      "\n",
      "   split2_test_score  split3_test_score  split4_test_score  mean_test_score  \\\n",
      "0              0.925              0.925           0.923077         0.919615   \n",
      "1              0.925              0.925           0.923077         0.919615   \n",
      "2              0.925              0.925           0.923077         0.919615   \n",
      "3              0.925              0.925           0.923077         0.919615   \n",
      "\n",
      "   std_test_score  rank_test_score  \n",
      "0        0.009836                1  \n",
      "1        0.009836                1  \n",
      "2        0.009836                1  \n",
      "3        0.009836                1  \n"
     ]
    },
    {
     "data": {
      "image/png": "[encoded data removed]",
      "text/plain": [
       "<Figure size 640x480 with 1 Axes>"
      ]
     },
     "metadata": {},
     "output_type": "display_data"
    }
   ],
   "source": [
    "# perform 5-fold cross validation on the training dataset on the binary classification problem of class 1 versus 2\n",
    "param_grid = {\n",
    "    'kernel': ['linear', 'poly', 'rbf', 'sigmoid'],\n",
    "}\n",
    "clf = SVC()\n",
    "grid_search = GridSearchCV(clf, param_grid, cv=5)\n",
    "grid_search.fit(training_data_preprocessed_12.drop('Class', axis=1), training_data_preprocessed_12['Class'])\n",
    "\n",
    "print(\"Best parameters:\", grid_search.best_params_)\n",
    "print(\"Best cross-validated score: \", grid_search.best_score_)\n",
    "\n",
    "# plotting results\n",
    "results = pd.DataFrame(grid_search.cv_results_)\n",
    "print(results)\n",
    "\n",
    "# scatter plot of results for each kernel\n",
    "fig, ax = plt.subplots()\n",
    "ax.scatter(results['param_kernel'], results['mean_test_score'])\n",
    "\n",
    "ax.set_xlabel('Kernel')\n",
    "ax.set_ylabel('Mean Test Score')\n",
    "plt.show()\n",
    "\n",
    "# get best kernel\n",
    "best_kernel = grid_search.best_params_['kernel']"
   ]
  },
  {
   "cell_type": "code",
   "execution_count": 14,
   "metadata": {},
   "outputs": [
    {
     "name": "stdout",
     "output_type": "stream",
     "text": [
      "Accuracy on test data for class 0 versus 2: 0.9675496688741722\n"
     ]
    }
   ],
   "source": [
    "# train the model on the training dataset with the best kernel and evaluate it on the test dataset for class 1 versus 2\n",
    "clf = SVC(kernel=best_kernel, C=1, gamma=0.1)\n",
    "clf.fit(training_data_preprocessed_12.drop('Class', axis=1), training_data_preprocessed_12['Class'])\n",
    "accuracy = clf.score(testing_data_preprocessed_12.drop('Class', axis=1), testing_data_preprocessed_12['Class'])\n",
    "print(f'Accuracy on test data for class 0 versus 2: {accuracy}')"
   ]
  },
  {
   "cell_type": "code",
   "execution_count": null,
   "metadata": {},
   "outputs": [],
   "source": []
  }
 ],
 "metadata": {
  "kernelspec": {
   "display_name": "Python 3",
   "language": "python",
   "name": "python3"
  },
  "language_info": {
   "codemirror_mode": {
    "name": "ipython",
    "version": 3
   },
   "file_extension": ".py",
   "mimetype": "text/x-python",
   "name": "python",
   "nbconvert_exporter": "python",
   "pygments_lexer": "ipython3",
   "version": "3.11.1"
  }
 },
 "nbformat": 4,
 "nbformat_minor": 2
}
