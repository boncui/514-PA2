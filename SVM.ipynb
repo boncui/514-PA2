{
 "cells": [
  {
   "cell_type": "code",
   "execution_count": 1,
   "metadata": {},
   "outputs": [],
   "source": [
    "import pandas as pd\n",
    "import numpy as np\n",
    "import matplotlib.pyplot as plt\n",
    "from sklearn.svm import SVC\n",
    "from sklearn.metrics import accuracy_score\n",
    "from sklearn.model_selection import cross_val_score\n",
    "from sklearn.model_selection import GridSearchCV\n",
    "from sklearn.model_selection import train_test_split"
   ]
  },
  {
   "cell_type": "code",
   "execution_count": 2,
   "metadata": {},
   "outputs": [
    {
     "name": "stdout",
     "output_type": "stream",
     "text": [
      "   C1  C2  C3  C4  C5  Class   S1_1   S1_2   S1_3   S1_4  ...   S3_3   S3_4  \\\n",
      "0  10  11  13  12  14      9   True  False  False  False  ...  False  False   \n",
      "1  11  13  10  12  14      9  False   True  False  False  ...  False  False   \n",
      "2  12  11  13  10  14      9  False  False   True  False  ...   True  False   \n",
      "3  10  11  14  13  12      9  False  False  False   True  ...  False   True   \n",
      "4  14  13  12  11  10      9  False  False  False   True  ...  False   True   \n",
      "\n",
      "    S4_1   S4_2   S4_3   S4_4   S5_1   S5_2   S5_3   S5_4  \n",
      "0   True  False  False  False   True  False  False  False  \n",
      "1  False   True  False  False  False   True  False  False  \n",
      "2  False  False   True  False  False  False   True  False  \n",
      "3  False  False  False   True  False  False  False   True  \n",
      "4  False  False  False   True  False  False  False   True  \n",
      "\n",
      "[5 rows x 26 columns]\n",
      "   C1  C2  C3  C4  C5  Class   S1_1   S1_2   S1_3   S1_4  ...   S3_3   S3_4  \\\n",
      "0  14  13   4   3  12      0   True  False  False  False  ...  False  False   \n",
      "1  12   2  11   5   5      1  False  False   True  False  ...   True  False   \n",
      "2   9   6   4   2   9      1   True  False  False  False  ...  False  False   \n",
      "3   4  13  13  14   6      1   True  False  False  False  ...  False  False   \n",
      "4  10   7   2  11   9      0  False  False   True  False  ...  False  False   \n",
      "\n",
      "    S4_1   S4_2   S4_3   S4_4   S5_1   S5_2   S5_3   S5_4  \n",
      "0  False   True  False  False   True  False  False  False  \n",
      "1  False  False  False   True  False   True  False  False  \n",
      "2  False  False   True  False  False  False   True  False  \n",
      "3  False   True  False  False  False  False   True  False  \n",
      "4  False   True  False  False  False  False  False   True  \n",
      "\n",
      "[5 rows x 26 columns]\n"
     ]
    }
   ],
   "source": [
    "# Dataset columns\n",
    "\n",
    "columns = ['S1', 'C1', 'S2', 'C2', 'S3', 'C3', 'S4', 'C4', 'S5', 'C5', 'Class']\n",
    "\n",
    "# Load your dataset\n",
    "training_data = pd.read_csv('poker-hand-training-true.csv', header=None, names=columns)\n",
    "testing_data = pd.read_csv('poker-hand-testing.csv', header=None, names=columns)\n",
    "\n",
    "# Adjust the ranks of cards, specifically changing Ace from 1 to 14\n",
    "def adjust_ranks(data):\n",
    "    for i in range(1, 6):  # For each card in the hand\n",
    "        data[f'C{i}'] = data[f'C{i}'].apply(lambda x: 14 if x == 1 else x)\n",
    "    return data\n",
    "\n",
    "# One-hot encode the suits of the cards\n",
    "def one_hot_encode_suits(data):\n",
    "    for i in range(1, 6):  # For each card in the hand\n",
    "        data = pd.concat([data, pd.get_dummies(data[f'S{i}'], prefix=f'S{i}')], axis=1).drop([f'S{i}'], axis=1)\n",
    "    return data\n",
    "\n",
    "# Apply preprocessing steps\n",
    "def preprocess_data(data):\n",
    "    data = adjust_ranks(data)\n",
    "    data = one_hot_encode_suits(data)\n",
    "    return data\n",
    "\n",
    "training_data_preprocessed = preprocess_data(training_data)\n",
    "testing_data_preprocessed = preprocess_data(testing_data)\n",
    "\n",
    "X_train, X_val, y_train, y_val = train_test_split(training_data_preprocessed.drop('Class', axis=1).to_numpy(), training_data_preprocessed['Class'].to_numpy(), test_size=0.2, random_state=42)\n",
    "\n",
    "#Final Preprocessed DATA\n",
    "print(training_data_preprocessed.head())\n",
    "print(testing_data_preprocessed.head())"
   ]
  },
  {
   "cell_type": "code",
   "execution_count": 3,
   "metadata": {},
   "outputs": [
    {
     "name": "stdout",
     "output_type": "stream",
     "text": [
      "Accuracy: 0.592405\n"
     ]
    }
   ],
   "source": [
    "# create a SVM classifier\n",
    "clf = SVC(kernel='rbf', C=1, gamma=0.1)\n",
    "clf.fit(X_train, y_train)\n",
    "predicted_labels = clf.predict(testing_data_preprocessed.drop('Class', axis=1).to_numpy())\n",
    "\n",
    "# calculate the accuracy\n",
    "accuracy = accuracy_score(testing_data_preprocessed['Class'].to_numpy(), predicted_labels)\n",
    "print(f'Accuracy: {accuracy}')\n"
   ]
  },
  {
   "cell_type": "code",
   "execution_count": 3,
   "metadata": {},
   "outputs": [
    {
     "name": "stderr",
     "output_type": "stream",
     "text": [
      "C:\\Users\\dantu\\AppData\\Local\\Packages\\PythonSoftwareFoundation.Python.3.12_qbz5n2kfra8p0\\LocalCache\\local-packages\\Python312\\site-packages\\sklearn\\model_selection\\_split.py:737: UserWarning: The least populated class in y has only 1 members, which is less than n_splits=5.\n",
      "  warnings.warn(\n"
     ]
    }
   ],
   "source": [
    "# cross validation to test different kernls and hyperparameters\n",
    "kernels = ['linear', 'poly', 'rbf', 'sigmoid']\n",
    "\n",
    "param_grid = {\n",
    "    'kernel': ['linear', 'poly', 'rbf', 'sigmoid'],\n",
    "    'C': [0, 1, 2, 5, 10],\n",
    "    'gamma': [0, 0.01, 0.1, 0.2]\n",
    "}\n",
    "\n",
    "clf = SVC()\n",
    "\n",
    "grid_search = GridSearchCV(clf, param_grid, cv=5)\n",
    "grid_search.fit(X_val, y_val)\n",
    "\n",
    "print(\"Best parameters:\", grid_search.best_params_)\n",
    "print(\"Best cross-validated score: \", grid_search.best_score_)"
   ]
  },
  {
   "cell_type": "code",
   "execution_count": null,
   "metadata": {},
   "outputs": [],
   "source": [
    "# plotting results\n",
    "results = pd.DataFrame(grid_search.cv_results_)\n",
    "\n",
    "fig, axes = plt.subplots(2, 2, figsize=(20, 12))\n",
    "axes = axes.flatten()  # Flatten to ease the iteration\n",
    "for idx, kernel in enumerate(['linear', 'poly', 'rbf', 'sigmoid']):\n",
    "    ax = axes[idx]\n",
    "    kernel_results = results[results['param_kernel'] == kernel]\n",
    "    \n",
    "    for C in [1, 2, 5, 10]:\n",
    "        subset = kernel_results[kernel_results['param_C'] == C]\n",
    "        gamma_values = subset['param_gamma'].astype(float)  # Ensure gamma is float for plotting\n",
    "        scores = subset['mean_test_score']\n",
    "        ax.plot(gamma_values, scores, marker='o', label=f'C={C}')\n",
    "        \n",
    "    ax.set_title(f'Kernel: {kernel}')\n",
    "    ax.set_xlabel('Gamma')\n",
    "    ax.set_ylabel('Mean Test Score')\n",
    "    ax.set_xscale('log')\n",
    "    ax.legend()\n",
    "\n",
    "plt.tight_layout()\n",
    "plt.show()"
   ]
  }
 ],
 "metadata": {
  "kernelspec": {
   "display_name": "Python 3",
   "language": "python",
   "name": "python3"
  },
  "language_info": {
   "codemirror_mode": {
    "name": "ipython",
    "version": 3
   },
   "file_extension": ".py",
   "mimetype": "text/x-python",
   "name": "python",
   "nbconvert_exporter": "python",
   "pygments_lexer": "ipython3",
   "version": "3.12.2"
  }
 },
 "nbformat": 4,
 "nbformat_minor": 2
}
