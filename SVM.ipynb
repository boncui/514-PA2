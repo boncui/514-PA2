{
 "cells": [
  {
   "cell_type": "code",
   "execution_count": 1,
   "metadata": {},
   "outputs": [],
   "source": [
    "import pandas as pd\n",
    "import numpy as np\n",
    "import matplotlib.pyplot as plt\n",
    "from sklearn.svm import SVC\n",
    "from sklearn.metrics import accuracy_score\n",
    "from sklearn.model_selection import cross_val_score\n",
    "from sklearn.model_selection import GridSearchCV\n",
    "from sklearn.model_selection import train_test_split"
   ]
  },
  {
   "cell_type": "code",
   "execution_count": 2,
   "metadata": {},
   "outputs": [
    {
     "name": "stdout",
     "output_type": "stream",
     "text": [
      "   C1  C2  C3  C4  C5  Class   S1_1   S1_2   S1_3   S1_4  ...   S3_3   S3_4  \\\n",
      "0  10  11  13  12  14      9   True  False  False  False  ...  False  False   \n",
      "1  11  13  10  12  14      9  False   True  False  False  ...  False  False   \n",
      "2  12  11  13  10  14      9  False  False   True  False  ...   True  False   \n",
      "3  10  11  14  13  12      9  False  False  False   True  ...  False   True   \n",
      "4  14  13  12  11  10      9  False  False  False   True  ...  False   True   \n",
      "\n",
      "    S4_1   S4_2   S4_3   S4_4   S5_1   S5_2   S5_3   S5_4  \n",
      "0   True  False  False  False   True  False  False  False  \n",
      "1  False   True  False  False  False   True  False  False  \n",
      "2  False  False   True  False  False  False   True  False  \n",
      "3  False  False  False   True  False  False  False   True  \n",
      "4  False  False  False   True  False  False  False   True  \n",
      "\n",
      "[5 rows x 26 columns]\n",
      "   C1  C2  C3  C4  C5  Class   S1_1   S1_2   S1_3   S1_4  ...   S3_3   S3_4  \\\n",
      "0  14  13   4   3  12      0   True  False  False  False  ...  False  False   \n",
      "1  12   2  11   5   5      1  False  False   True  False  ...   True  False   \n",
      "2   9   6   4   2   9      1   True  False  False  False  ...  False  False   \n",
      "3   4  13  13  14   6      1   True  False  False  False  ...  False  False   \n",
      "4  10   7   2  11   9      0  False  False   True  False  ...  False  False   \n",
      "\n",
      "    S4_1   S4_2   S4_3   S4_4   S5_1   S5_2   S5_3   S5_4  \n",
      "0  False   True  False  False   True  False  False  False  \n",
      "1  False  False  False   True  False   True  False  False  \n",
      "2  False  False   True  False  False  False   True  False  \n",
      "3  False   True  False  False  False  False   True  False  \n",
      "4  False   True  False  False  False  False  False   True  \n",
      "\n",
      "[5 rows x 26 columns]\n"
     ]
    }
   ],
   "source": [
    "# Dataset columns\n",
    "\n",
    "columns = ['S1', 'C1', 'S2', 'C2', 'S3', 'C3', 'S4', 'C4', 'S5', 'C5', 'Class']\n",
    "\n",
    "# Load your dataset\n",
    "training_data = pd.read_csv('poker-hand-training-true.csv', header=None, names=columns)\n",
    "testing_data = pd.read_csv('poker-hand-testing.csv', header=None, names=columns)\n",
    "\n",
    "# Adjust the ranks of cards, specifically changing Ace from 1 to 14\n",
    "def adjust_ranks(data):\n",
    "    for i in range(1, 6):  # For each card in the hand\n",
    "        data[f'C{i}'] = data[f'C{i}'].apply(lambda x: 14 if x == 1 else x)\n",
    "    return data\n",
    "\n",
    "# One-hot encode the suits of the cards\n",
    "def one_hot_encode_suits(data):\n",
    "    for i in range(1, 6):  # For each card in the hand\n",
    "        data = pd.concat([data, pd.get_dummies(data[f'S{i}'], prefix=f'S{i}')], axis=1).drop([f'S{i}'], axis=1)\n",
    "    return data\n",
    "\n",
    "# Apply preprocessing steps\n",
    "def preprocess_data(data):\n",
    "    data = adjust_ranks(data)\n",
    "    data = one_hot_encode_suits(data)\n",
    "    return data\n",
    "\n",
    "training_data_preprocessed = preprocess_data(training_data)\n",
    "testing_data_preprocessed = preprocess_data(testing_data)\n",
    "\n",
    "X_train, X_val, y_train, y_val = train_test_split(training_data_preprocessed.drop('Class', axis=1).to_numpy(), training_data_preprocessed['Class'].to_numpy(), test_size=0.2, random_state=42)\n",
    "\n",
    "#Final Preprocessed DATA\n",
    "print(training_data_preprocessed.head())\n",
    "print(testing_data_preprocessed.head())"
   ]
  },
  {
   "cell_type": "code",
   "execution_count": 3,
   "metadata": {},
   "outputs": [
    {
     "name": "stdout",
     "output_type": "stream",
     "text": [
      "Accuracy: 0.592405\n"
     ]
    }
   ],
   "source": [
    "# create a SVM classifier\n",
    "clf = SVC(kernel='rbf', C=1, gamma=0.1)\n",
    "clf.fit(X_train, y_train)\n",
    "predicted_labels = clf.predict(testing_data_preprocessed.drop('Class', axis=1).to_numpy())\n",
    "\n",
    "# calculate the accuracy\n",
    "accuracy = accuracy_score(testing_data_preprocessed['Class'].to_numpy(), predicted_labels)\n",
    "print(f'Accuracy: {accuracy}')\n"
   ]
  },
  {
   "cell_type": "code",
   "execution_count": 4,
   "metadata": {},
   "outputs": [
    {
     "name": "stderr",
     "output_type": "stream",
     "text": [
      "C:\\Users\\dantu\\AppData\\Local\\Packages\\PythonSoftwareFoundation.Python.3.12_qbz5n2kfra8p0\\LocalCache\\local-packages\\Python312\\site-packages\\sklearn\\model_selection\\_split.py:737: UserWarning: The least populated class in y has only 1 members, which is less than n_splits=5.\n",
      "  warnings.warn(\n"
     ]
    },
    {
     "name": "stdout",
     "output_type": "stream",
     "text": [
      "Best parameters: {'kernel': 'rbf'}\n",
      "Best cross-validated score:  0.5487782217782218\n"
     ]
    }
   ],
   "source": [
    "# cross validation to test different kernls and hyperparameters\n",
    "kernels = ['linear', 'poly', 'rbf', 'sigmoid']\n",
    "\n",
    "param_grid = {\n",
    "    'kernel': ['linear', 'poly', 'rbf', 'sigmoid'],\n",
    "}\n",
    "\n",
    "clf = SVC()\n",
    "\n",
    "grid_search = GridSearchCV(clf, param_grid, cv=5)\n",
    "grid_search.fit(X_val, y_val)\n",
    "\n",
    "print(\"Best parameters:\", grid_search.best_params_)\n",
    "print(\"Best cross-validated score: \", grid_search.best_score_)"
   ]
  },
  {
   "cell_type": "code",
   "execution_count": 6,
   "metadata": {},
   "outputs": [
    {
     "name": "stdout",
     "output_type": "stream",
     "text": [
      "   mean_fit_time  std_fit_time  mean_score_time  std_score_time param_kernel  \\\n",
      "0       0.702746      0.016169         0.045111        0.001680       linear   \n",
      "1       0.745407      0.017024         0.044863        0.001246         poly   \n",
      "2       0.434870      0.005305         0.284997        0.001065          rbf   \n",
      "3       0.265557      0.011074         0.056891        0.000839      sigmoid   \n",
      "\n",
      "                  params  split0_test_score  split1_test_score  \\\n",
      "0   {'kernel': 'linear'}           0.510490           0.510490   \n",
      "1     {'kernel': 'poly'}           0.536464           0.537463   \n",
      "2      {'kernel': 'rbf'}           0.553447           0.555445   \n",
      "3  {'kernel': 'sigmoid'}           0.470529           0.463536   \n",
      "\n",
      "   split2_test_score  split3_test_score  split4_test_score  mean_test_score  \\\n",
      "0              0.510              0.510              0.510         0.510196   \n",
      "1              0.533              0.538              0.533         0.535585   \n",
      "2              0.539              0.545              0.551         0.548778   \n",
      "3              0.454              0.418              0.479         0.457013   \n",
      "\n",
      "   std_test_score  rank_test_score  \n",
      "0        0.000240                3  \n",
      "1        0.002168                2  \n",
      "2        0.006018                1  \n",
      "3        0.021165                4  \n"
     ]
    },
    {
     "data": {
      "image/png": "[encoded data removed]",
      "text/plain": [
       "<Figure size 640x480 with 1 Axes>"
      ]
     },
     "metadata": {},
     "output_type": "display_data"
    }
   ],
   "source": [
    "# plotting results\n",
    "results = pd.DataFrame(grid_search.cv_results_)\n",
    "print(results)\n",
    "\n",
    "# scatter plot of results for each kernel\n",
    "fig, ax = plt.subplots()\n",
    "ax.scatter(results['param_kernel'], results['mean_test_score'])\n",
    "\n",
    "ax.set_xlabel('Kernel')\n",
    "ax.set_ylabel('Mean Test Score')\n",
    "plt.show()"
   ]
  }
 ],
 "metadata": {
  "kernelspec": {
   "display_name": "Python 3",
   "language": "python",
   "name": "python3"
  },
  "language_info": {
   "codemirror_mode": {
    "name": "ipython",
    "version": 3
   },
   "file_extension": ".py",
   "mimetype": "text/x-python",
   "name": "python",
   "nbconvert_exporter": "python",
   "pygments_lexer": "ipython3",
   "version": "3.12.2"
  }
 },
 "nbformat": 4,
 "nbformat_minor": 2
}
