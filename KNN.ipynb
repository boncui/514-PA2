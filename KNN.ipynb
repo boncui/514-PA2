{
 "cells": [
  {
   "cell_type": "code",
   "execution_count": 18,
   "metadata": {},
   "outputs": [
    {
     "name": "stdout",
     "output_type": "stream",
     "text": [
      "Defaulting to user installation because normal site-packages is not writeable\n",
      "Requirement already satisfied: numpy in c:\\users\\dantu\\appdata\\local\\packages\\pythonsoftwarefoundation.python.3.12_qbz5n2kfra8p0\\localcache\\local-packages\\python312\\site-packages (1.26.4)\n"
     ]
    }
   ],
   "source": [
    "import pandas as pd\n",
    "import numpy as np\n",
    "import matplotlib.pyplot as plt\n",
    "from sklearn.neighbors import KNeighborsClassifier\n",
    "from sklearn.model_selection import cross_val_score, cross_validate"
   ]
  },
  {
   "cell_type": "code",
   "execution_count": 5,
   "metadata": {},
   "outputs": [
    {
     "name": "stdout",
     "output_type": "stream",
     "text": [
      "   C1  C2  C3  C4  C5  Class   S1_1   S1_2   S1_3   S1_4  ...   S3_3   S3_4  \\\n",
      "0  10  11  13  12  14      9   True  False  False  False  ...  False  False   \n",
      "1  11  13  10  12  14      9  False   True  False  False  ...  False  False   \n",
      "2  12  11  13  10  14      9  False  False   True  False  ...   True  False   \n",
      "3  10  11  14  13  12      9  False  False  False   True  ...  False   True   \n",
      "4  14  13  12  11  10      9  False  False  False   True  ...  False   True   \n",
      "\n",
      "    S4_1   S4_2   S4_3   S4_4   S5_1   S5_2   S5_3   S5_4  \n",
      "0   True  False  False  False   True  False  False  False  \n",
      "1  False   True  False  False  False   True  False  False  \n",
      "2  False  False   True  False  False  False   True  False  \n",
      "3  False  False  False   True  False  False  False   True  \n",
      "4  False  False  False   True  False  False  False   True  \n",
      "\n",
      "[5 rows x 26 columns]\n",
      "   C1  C2  C3  C4  C5  Class   S1_1   S1_2   S1_3   S1_4  ...   S3_3   S3_4  \\\n",
      "0  14  13   4   3  12      0   True  False  False  False  ...  False  False   \n",
      "1  12   2  11   5   5      1  False  False   True  False  ...   True  False   \n",
      "2   9   6   4   2   9      1   True  False  False  False  ...  False  False   \n",
      "3   4  13  13  14   6      1   True  False  False  False  ...  False  False   \n",
      "4  10   7   2  11   9      0  False  False   True  False  ...  False  False   \n",
      "\n",
      "    S4_1   S4_2   S4_3   S4_4   S5_1   S5_2   S5_3   S5_4  \n",
      "0  False   True  False  False   True  False  False  False  \n",
      "1  False  False  False   True  False   True  False  False  \n",
      "2  False  False   True  False  False  False   True  False  \n",
      "3  False   True  False  False  False  False   True  False  \n",
      "4  False   True  False  False  False  False  False   True  \n",
      "\n",
      "[5 rows x 26 columns]\n"
     ]
    }
   ],
   "source": [
    "# Dataset columns\n",
    "\n",
    "columns = ['S1', 'C1', 'S2', 'C2', 'S3', 'C3', 'S4', 'C4', 'S5', 'C5', 'Class']\n",
    "\n",
    "# Load your dataset\n",
    "training_data = pd.read_csv('poker-hand-training-true.csv', header=None, names=columns)\n",
    "testing_data = pd.read_csv('poker-hand-testing.csv', header=None, names=columns)\n",
    "\n",
    "# Adjust the ranks of cards, specifically changing Ace from 1 to 14\n",
    "def adjust_ranks(data):\n",
    "    for i in range(1, 6):  # For each card in the hand\n",
    "        data[f'C{i}'] = data[f'C{i}'].apply(lambda x: 14 if x == 1 else x)\n",
    "    return data\n",
    "\n",
    "# One-hot encode the suits of the cards\n",
    "def one_hot_encode_suits(data):\n",
    "    for i in range(1, 6):  # For each card in the hand\n",
    "        data = pd.concat([data, pd.get_dummies(data[f'S{i}'], prefix=f'S{i}')], axis=1).drop([f'S{i}'], axis=1)\n",
    "    return data\n",
    "\n",
    "# Apply preprocessing steps\n",
    "def preprocess_data(data):\n",
    "    data = adjust_ranks(data)\n",
    "    data = one_hot_encode_suits(data)\n",
    "    return data\n",
    "\n",
    "training_data_preprocessed = preprocess_data(training_data)\n",
    "testing_data_preprocessed = preprocess_data(testing_data)\n",
    "\n",
    "#Final Preprocessed DATA\n",
    "print(training_data_preprocessed.head())\n",
    "print(testing_data_preprocessed.head())"
   ]
  },
  {
   "cell_type": "code",
   "execution_count": 25,
   "metadata": {},
   "outputs": [],
   "source": [
    "# create a knn classifier with k=5\n",
    "knn = KNeighborsClassifier(n_neighbors=5)\n",
    "knn.fit(training_data_preprocessed.drop('Class', axis=1).to_numpy(), training_data_preprocessed['Class'].to_numpy())\n",
    "predicted_labels = knn.predict(testing_data_preprocessed.drop('Class', axis=1).to_numpy())\n"
   ]
  },
  {
   "cell_type": "code",
   "execution_count": 28,
   "metadata": {},
   "outputs": [
    {
     "name": "stdout",
     "output_type": "stream",
     "text": [
      "Accuracy: 0.569112\n"
     ]
    }
   ],
   "source": [
    "# Calculate the accuracy of the model\n",
    "accuracy = knn.score(testing_data_preprocessed.drop('Class', axis=1).to_numpy(), testing_data_preprocessed['Class'])\n",
    "print(f'Accuracy: {accuracy}')"
   ]
  },
  {
   "cell_type": "code",
   "execution_count": 29,
   "metadata": {},
   "outputs": [
    {
     "name": "stdout",
     "output_type": "stream",
     "text": [
      "k=4: 0.5692522990803678\n",
      "k=5: 0.5646941223510595\n",
      "k=6: 0.5751699320271891\n",
      "k=7: 0.5686525389844063\n",
      "k=8: 0.579768092762895\n",
      "k=9: 0.5794482207117154\n",
      "Best k: 8\n"
     ]
    },
    {
     "data": {
      "image/png": "[encoded data removed]",
      "text/plain": [
       "<Figure size 640x480 with 1 Axes>"
      ]
     },
     "metadata": {},
     "output_type": "display_data"
    }
   ],
   "source": [
    "# cross validation to test different k values and pick the best one\n",
    "k_values = range(4, 10)\n",
    "cross_val_scores = []\n",
    "training_data_x = training_data_preprocessed.drop('Class', axis=1)\n",
    "for k in k_values:\n",
    "    knn_hyperparameterization = KNeighborsClassifier(n_neighbors=k)\n",
    "    scores = cross_val_score(knn_hyperparameterization, training_data_x, training_data_preprocessed['Class'], cv=5, scoring='accuracy')\n",
    "    cross_val_scores.append(scores.mean())\n",
    "\n",
    "for i in range(len(k_values)):\n",
    "    print(f'k={k_values[i]}: {cross_val_scores[i]}')\n",
    "\n",
    "plt.plot(k_values, cross_val_scores)\n",
    "print(f'Best k: {k_values[np.argmax(cross_val_scores)]}')"
   ]
  }
 ],
 "metadata": {
  "kernelspec": {
   "display_name": "Python 3",
   "language": "python",
   "name": "python3"
  },
  "language_info": {
   "codemirror_mode": {
    "name": "ipython",
    "version": 3
   },
   "file_extension": ".py",
   "mimetype": "text/x-python",
   "name": "python",
   "nbconvert_exporter": "python",
   "pygments_lexer": "ipython3",
   "version": "3.12.2"
  }
 },
 "nbformat": 4,
 "nbformat_minor": 2
}
