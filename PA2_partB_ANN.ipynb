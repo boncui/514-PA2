{
 "cells": [
  {
   "cell_type": "code",
   "execution_count": 2,
   "id": "9ea0e228",
   "metadata": {},
   "outputs": [],
   "source": [
    "import numpy as np\n",
    "import pandas as pd\n",
    "import matplotlib.pyplot as plt\n",
    "import seaborn as sns\n",
    "import copy\n",
    "import math\n",
    "%matplotlib inline"
   ]
  },
  {
   "cell_type": "markdown",
   "id": "1365bbdc",
   "metadata": {},
   "source": [
    "# 514 Programming Assignment 2\n",
    "#### Group: Rashaan, Ravi, David\n",
    "\n",
    "Data additional information\n",
    "Each record is an example of a hand consisting of five playing cards drawn from a standard deck of 52. \n",
    "Each card is described using two attributes (suit and rank), for a total of 10 predictive attributes. \n",
    "There is one Class attribute that describes the \"Poker Hand\". \n",
    "The order of cards is important, which is why there are 480 possible Royal Flush hands as compared to 4"
   ]
  },
  {
   "cell_type": "markdown",
   "id": "1f36a9b6",
   "metadata": {},
   "source": [
    "#### Load dataset"
   ]
  },
  {
   "cell_type": "code",
   "execution_count": 3,
   "id": "c19ce170",
   "metadata": {
    "scrolled": true
   },
   "outputs": [],
   "source": [
    "# Column names for the dataset\n",
    "# Define the column names for your dataset\n",
    "columns = ['S1', 'C1', 'S2', 'C2', 'S3', 'C3', 'S4', 'C4', 'S5', 'C5', 'Class']\n",
    "\n",
    "# Load your dataset\n",
    "training_data = pd.read_csv('poker-hand-training-true.csv', header=None, names=columns)\n",
    "testing_data = pd.read_csv('poker-hand-testing.csv', header=None, names=columns)\n",
    "\n",
    "# Adjust the ranks of cards, specifically changing Ace from 1 to 14\n",
    "def adjust_ranks(data):\n",
    "    for i in range(1, 6):  # For each card in the hand\n",
    "        data[f'C{i}'] = data[f'C{i}'].apply(lambda x: 14 if x == 1 else x)\n",
    "    return data\n",
    "\n",
    "# One-hot encode the suits of the cards\n",
    "def one_hot_encode_suits(data):\n",
    "    for i in range(1, 6):  # For each card in the hand\n",
    "        data = pd.concat([data, pd.get_dummies(data[f'S{i}'], prefix=f'S{i}')], axis=1).drop([f'S{i}'], axis=1)\n",
    "    return data\n",
    "\n",
    "# Apply preprocessing steps\n",
    "def preprocess_data(data):\n",
    "    data = adjust_ranks(data)\n",
    "    data = one_hot_encode_suits(data)\n",
    "    return data\n",
    "\n",
    "training_data_preprocessed = preprocess_data(training_data)\n",
    "testing_data_preprocessed = preprocess_data(testing_data)\n"
   ]
  },
  {
   "cell_type": "markdown",
   "id": "942c537e",
   "metadata": {},
   "source": [
    "#### Final Preprocessed DATA"
   ]
  },
  {
   "cell_type": "code",
   "execution_count": 4,
   "id": "fb690d09",
   "metadata": {},
   "outputs": [
    {
     "data": {
      "text/html": [
       "<div>\n",
       "<style scoped>\n",
       "    .dataframe tbody tr th:only-of-type {\n",
       "        vertical-align: middle;\n",
       "    }\n",
       "\n",
       "    .dataframe tbody tr th {\n",
       "        vertical-align: top;\n",
       "    }\n",
       "\n",
       "    .dataframe thead th {\n",
       "        text-align: right;\n",
       "    }\n",
       "</style>\n",
       "<table border=\"1\" class=\"dataframe\">\n",
       "  <thead>\n",
       "    <tr style=\"text-align: right;\">\n",
       "      <th></th>\n",
       "      <th>C1</th>\n",
       "      <th>C2</th>\n",
       "      <th>C3</th>\n",
       "      <th>C4</th>\n",
       "      <th>C5</th>\n",
       "      <th>Class</th>\n",
       "      <th>S1_1</th>\n",
       "      <th>S1_2</th>\n",
       "      <th>S1_3</th>\n",
       "      <th>S1_4</th>\n",
       "      <th>...</th>\n",
       "      <th>S3_3</th>\n",
       "      <th>S3_4</th>\n",
       "      <th>S4_1</th>\n",
       "      <th>S4_2</th>\n",
       "      <th>S4_3</th>\n",
       "      <th>S4_4</th>\n",
       "      <th>S5_1</th>\n",
       "      <th>S5_2</th>\n",
       "      <th>S5_3</th>\n",
       "      <th>S5_4</th>\n",
       "    </tr>\n",
       "  </thead>\n",
       "  <tbody>\n",
       "    <tr>\n",
       "      <th>0</th>\n",
       "      <td>10</td>\n",
       "      <td>11</td>\n",
       "      <td>13</td>\n",
       "      <td>12</td>\n",
       "      <td>14</td>\n",
       "      <td>9</td>\n",
       "      <td>True</td>\n",
       "      <td>False</td>\n",
       "      <td>False</td>\n",
       "      <td>False</td>\n",
       "      <td>...</td>\n",
       "      <td>False</td>\n",
       "      <td>False</td>\n",
       "      <td>True</td>\n",
       "      <td>False</td>\n",
       "      <td>False</td>\n",
       "      <td>False</td>\n",
       "      <td>True</td>\n",
       "      <td>False</td>\n",
       "      <td>False</td>\n",
       "      <td>False</td>\n",
       "    </tr>\n",
       "    <tr>\n",
       "      <th>1</th>\n",
       "      <td>11</td>\n",
       "      <td>13</td>\n",
       "      <td>10</td>\n",
       "      <td>12</td>\n",
       "      <td>14</td>\n",
       "      <td>9</td>\n",
       "      <td>False</td>\n",
       "      <td>True</td>\n",
       "      <td>False</td>\n",
       "      <td>False</td>\n",
       "      <td>...</td>\n",
       "      <td>False</td>\n",
       "      <td>False</td>\n",
       "      <td>False</td>\n",
       "      <td>True</td>\n",
       "      <td>False</td>\n",
       "      <td>False</td>\n",
       "      <td>False</td>\n",
       "      <td>True</td>\n",
       "      <td>False</td>\n",
       "      <td>False</td>\n",
       "    </tr>\n",
       "    <tr>\n",
       "      <th>2</th>\n",
       "      <td>12</td>\n",
       "      <td>11</td>\n",
       "      <td>13</td>\n",
       "      <td>10</td>\n",
       "      <td>14</td>\n",
       "      <td>9</td>\n",
       "      <td>False</td>\n",
       "      <td>False</td>\n",
       "      <td>True</td>\n",
       "      <td>False</td>\n",
       "      <td>...</td>\n",
       "      <td>True</td>\n",
       "      <td>False</td>\n",
       "      <td>False</td>\n",
       "      <td>False</td>\n",
       "      <td>True</td>\n",
       "      <td>False</td>\n",
       "      <td>False</td>\n",
       "      <td>False</td>\n",
       "      <td>True</td>\n",
       "      <td>False</td>\n",
       "    </tr>\n",
       "    <tr>\n",
       "      <th>3</th>\n",
       "      <td>10</td>\n",
       "      <td>11</td>\n",
       "      <td>14</td>\n",
       "      <td>13</td>\n",
       "      <td>12</td>\n",
       "      <td>9</td>\n",
       "      <td>False</td>\n",
       "      <td>False</td>\n",
       "      <td>False</td>\n",
       "      <td>True</td>\n",
       "      <td>...</td>\n",
       "      <td>False</td>\n",
       "      <td>True</td>\n",
       "      <td>False</td>\n",
       "      <td>False</td>\n",
       "      <td>False</td>\n",
       "      <td>True</td>\n",
       "      <td>False</td>\n",
       "      <td>False</td>\n",
       "      <td>False</td>\n",
       "      <td>True</td>\n",
       "    </tr>\n",
       "    <tr>\n",
       "      <th>4</th>\n",
       "      <td>14</td>\n",
       "      <td>13</td>\n",
       "      <td>12</td>\n",
       "      <td>11</td>\n",
       "      <td>10</td>\n",
       "      <td>9</td>\n",
       "      <td>False</td>\n",
       "      <td>False</td>\n",
       "      <td>False</td>\n",
       "      <td>True</td>\n",
       "      <td>...</td>\n",
       "      <td>False</td>\n",
       "      <td>True</td>\n",
       "      <td>False</td>\n",
       "      <td>False</td>\n",
       "      <td>False</td>\n",
       "      <td>True</td>\n",
       "      <td>False</td>\n",
       "      <td>False</td>\n",
       "      <td>False</td>\n",
       "      <td>True</td>\n",
       "    </tr>\n",
       "  </tbody>\n",
       "</table>\n",
       "<p>5 rows × 26 columns</p>\n",
       "</div>"
      ],
      "text/plain": [
       "   C1  C2  C3  C4  C5  Class   S1_1   S1_2   S1_3   S1_4  ...   S3_3   S3_4  \\\n",
       "0  10  11  13  12  14      9   True  False  False  False  ...  False  False   \n",
       "1  11  13  10  12  14      9  False   True  False  False  ...  False  False   \n",
       "2  12  11  13  10  14      9  False  False   True  False  ...   True  False   \n",
       "3  10  11  14  13  12      9  False  False  False   True  ...  False   True   \n",
       "4  14  13  12  11  10      9  False  False  False   True  ...  False   True   \n",
       "\n",
       "    S4_1   S4_2   S4_3   S4_4   S5_1   S5_2   S5_3   S5_4  \n",
       "0   True  False  False  False   True  False  False  False  \n",
       "1  False   True  False  False  False   True  False  False  \n",
       "2  False  False   True  False  False  False   True  False  \n",
       "3  False  False  False   True  False  False  False   True  \n",
       "4  False  False  False   True  False  False  False   True  \n",
       "\n",
       "[5 rows x 26 columns]"
      ]
     },
     "execution_count": 4,
     "metadata": {},
     "output_type": "execute_result"
    }
   ],
   "source": [
    "training_data_preprocessed.head()"
   ]
  },
  {
   "cell_type": "code",
   "execution_count": 5,
   "id": "e9d6bc01",
   "metadata": {},
   "outputs": [
    {
     "data": {
      "text/html": [
       "<div>\n",
       "<style scoped>\n",
       "    .dataframe tbody tr th:only-of-type {\n",
       "        vertical-align: middle;\n",
       "    }\n",
       "\n",
       "    .dataframe tbody tr th {\n",
       "        vertical-align: top;\n",
       "    }\n",
       "\n",
       "    .dataframe thead th {\n",
       "        text-align: right;\n",
       "    }\n",
       "</style>\n",
       "<table border=\"1\" class=\"dataframe\">\n",
       "  <thead>\n",
       "    <tr style=\"text-align: right;\">\n",
       "      <th></th>\n",
       "      <th>C1</th>\n",
       "      <th>C2</th>\n",
       "      <th>C3</th>\n",
       "      <th>C4</th>\n",
       "      <th>C5</th>\n",
       "      <th>Class</th>\n",
       "      <th>S1_1</th>\n",
       "      <th>S1_2</th>\n",
       "      <th>S1_3</th>\n",
       "      <th>S1_4</th>\n",
       "      <th>...</th>\n",
       "      <th>S3_3</th>\n",
       "      <th>S3_4</th>\n",
       "      <th>S4_1</th>\n",
       "      <th>S4_2</th>\n",
       "      <th>S4_3</th>\n",
       "      <th>S4_4</th>\n",
       "      <th>S5_1</th>\n",
       "      <th>S5_2</th>\n",
       "      <th>S5_3</th>\n",
       "      <th>S5_4</th>\n",
       "    </tr>\n",
       "  </thead>\n",
       "  <tbody>\n",
       "    <tr>\n",
       "      <th>0</th>\n",
       "      <td>14</td>\n",
       "      <td>13</td>\n",
       "      <td>4</td>\n",
       "      <td>3</td>\n",
       "      <td>12</td>\n",
       "      <td>0</td>\n",
       "      <td>True</td>\n",
       "      <td>False</td>\n",
       "      <td>False</td>\n",
       "      <td>False</td>\n",
       "      <td>...</td>\n",
       "      <td>False</td>\n",
       "      <td>False</td>\n",
       "      <td>False</td>\n",
       "      <td>True</td>\n",
       "      <td>False</td>\n",
       "      <td>False</td>\n",
       "      <td>True</td>\n",
       "      <td>False</td>\n",
       "      <td>False</td>\n",
       "      <td>False</td>\n",
       "    </tr>\n",
       "    <tr>\n",
       "      <th>1</th>\n",
       "      <td>12</td>\n",
       "      <td>2</td>\n",
       "      <td>11</td>\n",
       "      <td>5</td>\n",
       "      <td>5</td>\n",
       "      <td>1</td>\n",
       "      <td>False</td>\n",
       "      <td>False</td>\n",
       "      <td>True</td>\n",
       "      <td>False</td>\n",
       "      <td>...</td>\n",
       "      <td>True</td>\n",
       "      <td>False</td>\n",
       "      <td>False</td>\n",
       "      <td>False</td>\n",
       "      <td>False</td>\n",
       "      <td>True</td>\n",
       "      <td>False</td>\n",
       "      <td>True</td>\n",
       "      <td>False</td>\n",
       "      <td>False</td>\n",
       "    </tr>\n",
       "    <tr>\n",
       "      <th>2</th>\n",
       "      <td>9</td>\n",
       "      <td>6</td>\n",
       "      <td>4</td>\n",
       "      <td>2</td>\n",
       "      <td>9</td>\n",
       "      <td>1</td>\n",
       "      <td>True</td>\n",
       "      <td>False</td>\n",
       "      <td>False</td>\n",
       "      <td>False</td>\n",
       "      <td>...</td>\n",
       "      <td>False</td>\n",
       "      <td>False</td>\n",
       "      <td>False</td>\n",
       "      <td>False</td>\n",
       "      <td>True</td>\n",
       "      <td>False</td>\n",
       "      <td>False</td>\n",
       "      <td>False</td>\n",
       "      <td>True</td>\n",
       "      <td>False</td>\n",
       "    </tr>\n",
       "    <tr>\n",
       "      <th>3</th>\n",
       "      <td>4</td>\n",
       "      <td>13</td>\n",
       "      <td>13</td>\n",
       "      <td>14</td>\n",
       "      <td>6</td>\n",
       "      <td>1</td>\n",
       "      <td>True</td>\n",
       "      <td>False</td>\n",
       "      <td>False</td>\n",
       "      <td>False</td>\n",
       "      <td>...</td>\n",
       "      <td>False</td>\n",
       "      <td>False</td>\n",
       "      <td>False</td>\n",
       "      <td>True</td>\n",
       "      <td>False</td>\n",
       "      <td>False</td>\n",
       "      <td>False</td>\n",
       "      <td>False</td>\n",
       "      <td>True</td>\n",
       "      <td>False</td>\n",
       "    </tr>\n",
       "    <tr>\n",
       "      <th>4</th>\n",
       "      <td>10</td>\n",
       "      <td>7</td>\n",
       "      <td>2</td>\n",
       "      <td>11</td>\n",
       "      <td>9</td>\n",
       "      <td>0</td>\n",
       "      <td>False</td>\n",
       "      <td>False</td>\n",
       "      <td>True</td>\n",
       "      <td>False</td>\n",
       "      <td>...</td>\n",
       "      <td>False</td>\n",
       "      <td>False</td>\n",
       "      <td>False</td>\n",
       "      <td>True</td>\n",
       "      <td>False</td>\n",
       "      <td>False</td>\n",
       "      <td>False</td>\n",
       "      <td>False</td>\n",
       "      <td>False</td>\n",
       "      <td>True</td>\n",
       "    </tr>\n",
       "  </tbody>\n",
       "</table>\n",
       "<p>5 rows × 26 columns</p>\n",
       "</div>"
      ],
      "text/plain": [
       "   C1  C2  C3  C4  C5  Class   S1_1   S1_2   S1_3   S1_4  ...   S3_3   S3_4  \\\n",
       "0  14  13   4   3  12      0   True  False  False  False  ...  False  False   \n",
       "1  12   2  11   5   5      1  False  False   True  False  ...   True  False   \n",
       "2   9   6   4   2   9      1   True  False  False  False  ...  False  False   \n",
       "3   4  13  13  14   6      1   True  False  False  False  ...  False  False   \n",
       "4  10   7   2  11   9      0  False  False   True  False  ...  False  False   \n",
       "\n",
       "    S4_1   S4_2   S4_3   S4_4   S5_1   S5_2   S5_3   S5_4  \n",
       "0  False   True  False  False   True  False  False  False  \n",
       "1  False  False  False   True  False   True  False  False  \n",
       "2  False  False   True  False  False  False   True  False  \n",
       "3  False   True  False  False  False  False   True  False  \n",
       "4  False   True  False  False  False  False  False   True  \n",
       "\n",
       "[5 rows x 26 columns]"
      ]
     },
     "execution_count": 5,
     "metadata": {},
     "output_type": "execute_result"
    }
   ],
   "source": [
    "testing_data_preprocessed.head()"
   ]
  },
  {
   "cell_type": "code",
   "execution_count": 6,
   "id": "d3c72a0f",
   "metadata": {},
   "outputs": [
    {
     "data": {
      "text/html": [
       "<div>\n",
       "<style scoped>\n",
       "    .dataframe tbody tr th:only-of-type {\n",
       "        vertical-align: middle;\n",
       "    }\n",
       "\n",
       "    .dataframe tbody tr th {\n",
       "        vertical-align: top;\n",
       "    }\n",
       "\n",
       "    .dataframe thead th {\n",
       "        text-align: right;\n",
       "    }\n",
       "</style>\n",
       "<table border=\"1\" class=\"dataframe\">\n",
       "  <thead>\n",
       "    <tr style=\"text-align: right;\">\n",
       "      <th></th>\n",
       "      <th>C1</th>\n",
       "      <th>C2</th>\n",
       "      <th>C3</th>\n",
       "      <th>C4</th>\n",
       "      <th>C5</th>\n",
       "      <th>Class</th>\n",
       "    </tr>\n",
       "  </thead>\n",
       "  <tbody>\n",
       "    <tr>\n",
       "      <th>count</th>\n",
       "      <td>25010.000000</td>\n",
       "      <td>25010.000000</td>\n",
       "      <td>25010.000000</td>\n",
       "      <td>25010.000000</td>\n",
       "      <td>25010.000000</td>\n",
       "      <td>25010.000000</td>\n",
       "    </tr>\n",
       "    <tr>\n",
       "      <th>mean</th>\n",
       "      <td>8.025470</td>\n",
       "      <td>8.045982</td>\n",
       "      <td>7.999160</td>\n",
       "      <td>7.973211</td>\n",
       "      <td>7.986725</td>\n",
       "      <td>0.621152</td>\n",
       "    </tr>\n",
       "    <tr>\n",
       "      <th>std</th>\n",
       "      <td>3.746958</td>\n",
       "      <td>3.758723</td>\n",
       "      <td>3.743223</td>\n",
       "      <td>3.758728</td>\n",
       "      <td>3.748488</td>\n",
       "      <td>0.788361</td>\n",
       "    </tr>\n",
       "    <tr>\n",
       "      <th>min</th>\n",
       "      <td>2.000000</td>\n",
       "      <td>2.000000</td>\n",
       "      <td>2.000000</td>\n",
       "      <td>2.000000</td>\n",
       "      <td>2.000000</td>\n",
       "      <td>0.000000</td>\n",
       "    </tr>\n",
       "    <tr>\n",
       "      <th>25%</th>\n",
       "      <td>5.000000</td>\n",
       "      <td>5.000000</td>\n",
       "      <td>5.000000</td>\n",
       "      <td>5.000000</td>\n",
       "      <td>5.000000</td>\n",
       "      <td>0.000000</td>\n",
       "    </tr>\n",
       "    <tr>\n",
       "      <th>50%</th>\n",
       "      <td>8.000000</td>\n",
       "      <td>8.000000</td>\n",
       "      <td>8.000000</td>\n",
       "      <td>8.000000</td>\n",
       "      <td>8.000000</td>\n",
       "      <td>1.000000</td>\n",
       "    </tr>\n",
       "    <tr>\n",
       "      <th>75%</th>\n",
       "      <td>11.000000</td>\n",
       "      <td>11.000000</td>\n",
       "      <td>11.000000</td>\n",
       "      <td>11.000000</td>\n",
       "      <td>11.000000</td>\n",
       "      <td>1.000000</td>\n",
       "    </tr>\n",
       "    <tr>\n",
       "      <th>max</th>\n",
       "      <td>14.000000</td>\n",
       "      <td>14.000000</td>\n",
       "      <td>14.000000</td>\n",
       "      <td>14.000000</td>\n",
       "      <td>14.000000</td>\n",
       "      <td>9.000000</td>\n",
       "    </tr>\n",
       "  </tbody>\n",
       "</table>\n",
       "</div>"
      ],
      "text/plain": [
       "                 C1            C2            C3            C4            C5  \\\n",
       "count  25010.000000  25010.000000  25010.000000  25010.000000  25010.000000   \n",
       "mean       8.025470      8.045982      7.999160      7.973211      7.986725   \n",
       "std        3.746958      3.758723      3.743223      3.758728      3.748488   \n",
       "min        2.000000      2.000000      2.000000      2.000000      2.000000   \n",
       "25%        5.000000      5.000000      5.000000      5.000000      5.000000   \n",
       "50%        8.000000      8.000000      8.000000      8.000000      8.000000   \n",
       "75%       11.000000     11.000000     11.000000     11.000000     11.000000   \n",
       "max       14.000000     14.000000     14.000000     14.000000     14.000000   \n",
       "\n",
       "              Class  \n",
       "count  25010.000000  \n",
       "mean       0.621152  \n",
       "std        0.788361  \n",
       "min        0.000000  \n",
       "25%        0.000000  \n",
       "50%        1.000000  \n",
       "75%        1.000000  \n",
       "max        9.000000  "
      ]
     },
     "execution_count": 6,
     "metadata": {},
     "output_type": "execute_result"
    }
   ],
   "source": [
    "training_data_preprocessed.describe()"
   ]
  },
  {
   "cell_type": "markdown",
   "id": "f2354b5a",
   "metadata": {},
   "source": [
    "# Artificial Neural Network (ANN) - Part B"
   ]
  },
  {
   "cell_type": "code",
   "execution_count": 57,
   "id": "96dd5a15",
   "metadata": {
    "scrolled": true
   },
   "outputs": [],
   "source": [
    "from tensorflow.keras.models import Sequential \n",
    "from tensorflow.keras.layers import Dense\n",
    "from tensorflow.keras.callbacks import EarlyStopping\n",
    "from tensorflow.keras.optimizers import Adam\n",
    "from tensorflow.keras.models import load_model\n",
    "from tensorflow.keras import initializers\n",
    "from sklearn.model_selection import StratifiedKFold\n",
    "from sklearn.metrics import mean_absolute_error,mean_squared_error,classification_report,confusion_matrix"
   ]
  },
  {
   "cell_type": "markdown",
   "id": "6f3a61a7",
   "metadata": {},
   "source": [
    "##### PREPARE THE TRAINING AND TESTING SETS"
   ]
  },
  {
   "cell_type": "code",
   "execution_count": 8,
   "id": "f2fbc429",
   "metadata": {},
   "outputs": [],
   "source": [
    "x_train = training_data_preprocessed[['C1', 'C2', 'C3', 'C4', 'C5', 'S1_1', 'S1_2', 'S1_3', 'S1_4',\n",
    "       'S2_1', 'S2_2', 'S2_3', 'S2_4', 'S3_1', 'S3_2', 'S3_3', 'S3_4', 'S4_1',\n",
    "       'S4_2', 'S4_3', 'S4_4', 'S5_1', 'S5_2', 'S5_3', 'S5_4']]\n",
    "\n",
    "y_train = pd.DataFrame(training_data_preprocessed['Class'])\n",
    "\n",
    "x_test = testing_data_preprocessed[['C1', 'C2', 'C3', 'C4', 'C5', 'S1_1', 'S1_2', 'S1_3', 'S1_4',\n",
    "       'S2_1', 'S2_2', 'S2_3', 'S2_4', 'S3_1', 'S3_2', 'S3_3', 'S3_4', 'S4_1',\n",
    "       'S4_2', 'S4_3', 'S4_4', 'S5_1', 'S5_2', 'S5_3', 'S5_4']]\n",
    "\n",
    "y_test = pd.DataFrame(testing_data_preprocessed['Class'])"
   ]
  },
  {
   "cell_type": "markdown",
   "id": "b916a4d0",
   "metadata": {},
   "source": [
    "##### Adjust the classes such that each card is mapped to either BAD, GOOD, or GREAT then one-hot encode classes"
   ]
  },
  {
   "cell_type": "code",
   "execution_count": 9,
   "id": "69b774a1",
   "metadata": {},
   "outputs": [],
   "source": [
    "def adjust_class(data):\n",
    "        #BAD\n",
    "        data['Class'] = data['Class'].apply(lambda x: 0 if x == 0 else x)\n",
    "        data['Class'] = data['Class'].apply(lambda x: 0 if x == 1 else x)\n",
    "        data['Class'] = data['Class'].apply(lambda x: 0 if x == 2 else x)\n",
    "        data['Class'] = data['Class'].apply(lambda x: 0 if x == 3 else x)\n",
    "        #GOOD\n",
    "        data['Class'] = data['Class'].apply(lambda x: 4 if x == 4 else x)\n",
    "        data['Class'] = data['Class'].apply(lambda x: 4 if x == 5 else x)\n",
    "        data['Class'] = data['Class'].apply(lambda x: 4 if x == 6 else x)\n",
    "        #GREAT\n",
    "        data['Class'] = data['Class'].apply(lambda x: 9 if x == 7 else x)\n",
    "        data['Class'] = data['Class'].apply(lambda x: 9 if x == 8 else x)\n",
    "        data['Class'] = data['Class'].apply(lambda x: 9 if x == 9 else x)\n",
    "        return data\n",
    "\n",
    "def one_hot_encode_classes(data):\n",
    "    data = pd.get_dummies(data,columns=['Class'])\n",
    "    return data"
   ]
  },
  {
   "cell_type": "code",
   "execution_count": 10,
   "id": "2709ab1b",
   "metadata": {},
   "outputs": [],
   "source": [
    "x_train_float = np.asarray(x_train).astype('float32') \n",
    "\n",
    "x_test_float = np.asarray(x_test).astype('float32') \n",
    "\n",
    "y_train_one_hot = np.asarray(one_hot_encode_classes(adjust_class(y_train))).astype('float32')\n",
    "y_train_one_hot = pd.DataFrame(y_train_one_hot, columns=['Bad','Good','Great'])\n",
    "\n",
    "y_test_one_hot = np.asarray(one_hot_encode_classes(adjust_class(y_test))).astype('float32')\n",
    "y_test_one_hot = pd.DataFrame(y_test_one_hot, columns=['Bad','Good','Great'])"
   ]
  },
  {
   "cell_type": "markdown",
   "id": "3081dfd8",
   "metadata": {},
   "source": [
    "#### Display one-hot classifications of output card classes"
   ]
  },
  {
   "cell_type": "code",
   "execution_count": 11,
   "id": "fb7dd8f0",
   "metadata": {
    "scrolled": true
   },
   "outputs": [
    {
     "data": {
      "text/html": [
       "<div>\n",
       "<style scoped>\n",
       "    .dataframe tbody tr th:only-of-type {\n",
       "        vertical-align: middle;\n",
       "    }\n",
       "\n",
       "    .dataframe tbody tr th {\n",
       "        vertical-align: top;\n",
       "    }\n",
       "\n",
       "    .dataframe thead th {\n",
       "        text-align: right;\n",
       "    }\n",
       "</style>\n",
       "<table border=\"1\" class=\"dataframe\">\n",
       "  <thead>\n",
       "    <tr style=\"text-align: right;\">\n",
       "      <th></th>\n",
       "      <th>Bad</th>\n",
       "      <th>Good</th>\n",
       "      <th>Great</th>\n",
       "    </tr>\n",
       "  </thead>\n",
       "  <tbody>\n",
       "    <tr>\n",
       "      <th>count</th>\n",
       "      <td>25010.000000</td>\n",
       "      <td>25010.000000</td>\n",
       "      <td>25010.000000</td>\n",
       "    </tr>\n",
       "    <tr>\n",
       "      <th>mean</th>\n",
       "      <td>0.992043</td>\n",
       "      <td>0.007317</td>\n",
       "      <td>0.000640</td>\n",
       "    </tr>\n",
       "    <tr>\n",
       "      <th>std</th>\n",
       "      <td>0.088838</td>\n",
       "      <td>0.085243</td>\n",
       "      <td>0.025277</td>\n",
       "    </tr>\n",
       "    <tr>\n",
       "      <th>min</th>\n",
       "      <td>0.000000</td>\n",
       "      <td>0.000000</td>\n",
       "      <td>0.000000</td>\n",
       "    </tr>\n",
       "    <tr>\n",
       "      <th>25%</th>\n",
       "      <td>1.000000</td>\n",
       "      <td>0.000000</td>\n",
       "      <td>0.000000</td>\n",
       "    </tr>\n",
       "    <tr>\n",
       "      <th>50%</th>\n",
       "      <td>1.000000</td>\n",
       "      <td>0.000000</td>\n",
       "      <td>0.000000</td>\n",
       "    </tr>\n",
       "    <tr>\n",
       "      <th>75%</th>\n",
       "      <td>1.000000</td>\n",
       "      <td>0.000000</td>\n",
       "      <td>0.000000</td>\n",
       "    </tr>\n",
       "    <tr>\n",
       "      <th>max</th>\n",
       "      <td>1.000000</td>\n",
       "      <td>1.000000</td>\n",
       "      <td>1.000000</td>\n",
       "    </tr>\n",
       "  </tbody>\n",
       "</table>\n",
       "</div>"
      ],
      "text/plain": [
       "                Bad          Good         Great\n",
       "count  25010.000000  25010.000000  25010.000000\n",
       "mean       0.992043      0.007317      0.000640\n",
       "std        0.088838      0.085243      0.025277\n",
       "min        0.000000      0.000000      0.000000\n",
       "25%        1.000000      0.000000      0.000000\n",
       "50%        1.000000      0.000000      0.000000\n",
       "75%        1.000000      0.000000      0.000000\n",
       "max        1.000000      1.000000      1.000000"
      ]
     },
     "execution_count": 11,
     "metadata": {},
     "output_type": "execute_result"
    }
   ],
   "source": [
    "y_train_one_hot.describe()"
   ]
  },
  {
   "cell_type": "code",
   "execution_count": 12,
   "id": "f8b823f4",
   "metadata": {},
   "outputs": [
    {
     "data": {
      "text/plain": [
       "(25010, 3)"
      ]
     },
     "execution_count": 12,
     "metadata": {},
     "output_type": "execute_result"
    }
   ],
   "source": [
    "y_train_one_hot.shape"
   ]
  },
  {
   "cell_type": "code",
   "execution_count": 13,
   "id": "cd10f1e3",
   "metadata": {
    "scrolled": false
   },
   "outputs": [
    {
     "data": {
      "text/html": [
       "<div>\n",
       "<style scoped>\n",
       "    .dataframe tbody tr th:only-of-type {\n",
       "        vertical-align: middle;\n",
       "    }\n",
       "\n",
       "    .dataframe tbody tr th {\n",
       "        vertical-align: top;\n",
       "    }\n",
       "\n",
       "    .dataframe thead th {\n",
       "        text-align: right;\n",
       "    }\n",
       "</style>\n",
       "<table border=\"1\" class=\"dataframe\">\n",
       "  <thead>\n",
       "    <tr style=\"text-align: right;\">\n",
       "      <th></th>\n",
       "      <th>Bad</th>\n",
       "      <th>Good</th>\n",
       "      <th>Great</th>\n",
       "    </tr>\n",
       "  </thead>\n",
       "  <tbody>\n",
       "    <tr>\n",
       "      <th>count</th>\n",
       "      <td>1000000.00000</td>\n",
       "      <td>1000000.000000</td>\n",
       "      <td>1000000.000000</td>\n",
       "    </tr>\n",
       "    <tr>\n",
       "      <th>mean</th>\n",
       "      <td>0.99245</td>\n",
       "      <td>0.007305</td>\n",
       "      <td>0.000245</td>\n",
       "    </tr>\n",
       "    <tr>\n",
       "      <th>std</th>\n",
       "      <td>0.08628</td>\n",
       "      <td>0.084891</td>\n",
       "      <td>0.015649</td>\n",
       "    </tr>\n",
       "    <tr>\n",
       "      <th>min</th>\n",
       "      <td>0.00000</td>\n",
       "      <td>0.000000</td>\n",
       "      <td>0.000000</td>\n",
       "    </tr>\n",
       "    <tr>\n",
       "      <th>25%</th>\n",
       "      <td>1.00000</td>\n",
       "      <td>0.000000</td>\n",
       "      <td>0.000000</td>\n",
       "    </tr>\n",
       "    <tr>\n",
       "      <th>50%</th>\n",
       "      <td>1.00000</td>\n",
       "      <td>0.000000</td>\n",
       "      <td>0.000000</td>\n",
       "    </tr>\n",
       "    <tr>\n",
       "      <th>75%</th>\n",
       "      <td>1.00000</td>\n",
       "      <td>0.000000</td>\n",
       "      <td>0.000000</td>\n",
       "    </tr>\n",
       "    <tr>\n",
       "      <th>max</th>\n",
       "      <td>1.00000</td>\n",
       "      <td>1.000000</td>\n",
       "      <td>1.000000</td>\n",
       "    </tr>\n",
       "  </tbody>\n",
       "</table>\n",
       "</div>"
      ],
      "text/plain": [
       "                 Bad            Good           Great\n",
       "count  1000000.00000  1000000.000000  1000000.000000\n",
       "mean         0.99245        0.007305        0.000245\n",
       "std          0.08628        0.084891        0.015649\n",
       "min          0.00000        0.000000        0.000000\n",
       "25%          1.00000        0.000000        0.000000\n",
       "50%          1.00000        0.000000        0.000000\n",
       "75%          1.00000        0.000000        0.000000\n",
       "max          1.00000        1.000000        1.000000"
      ]
     },
     "execution_count": 13,
     "metadata": {},
     "output_type": "execute_result"
    }
   ],
   "source": [
    "y_test_one_hot.describe()"
   ]
  },
  {
   "cell_type": "code",
   "execution_count": 14,
   "id": "a454da59",
   "metadata": {},
   "outputs": [
    {
     "data": {
      "text/plain": [
       "(1000000, 3)"
      ]
     },
     "execution_count": 14,
     "metadata": {},
     "output_type": "execute_result"
    }
   ],
   "source": [
    "y_test_one_hot.shape"
   ]
  },
  {
   "cell_type": "markdown",
   "id": "0bb84df6",
   "metadata": {},
   "source": [
    "#### CREATE OUR ANN MODEL SKELETON "
   ]
  },
  {
   "cell_type": "markdown",
   "id": "2d21db88",
   "metadata": {},
   "source": [
    "#### Function to run Five-Fold CV on ANN "
   ]
  },
  {
   "cell_type": "code",
   "execution_count": 15,
   "id": "d0f00eda",
   "metadata": {},
   "outputs": [],
   "source": [
    "def five_fold_CV(x_train,y_train,x_test,y_test,runs,batch,v,act='sigmoid'):\n",
    "    #MODEL\n",
    "    model = Sequential()\n",
    "    model.add(Dense(units=25,use_bias=True,kernel_initializer='ones',bias_initializer='ones',activation=act));\n",
    "    model.add(Dense(3,activation='softmax'))\n",
    "    my_optimizer = Adam(learning_rate=0.001)\n",
    "    model.compile(optimizer=my_optimizer,loss='categorical_crossentropy',metrics=['accuracy'])\n",
    "    early_stop = EarlyStopping(monitor='val_loss',mode='min',patience=25,verbose=1)\n",
    "    \n",
    "    ### FOLDS ####\n",
    "    folds = StratifiedKFold(n_splits=5)\n",
    "    cv_folds = folds.split(x_train,y_train)\n",
    "    x_,y_,x_t,y_t = [],[],[],[]\n",
    "    for i, (train_index, test_index) in enumerate(cv_folds):\n",
    "        temp_x,temp_y = copy.deepcopy(x_train.iloc[train_index]),copy.deepcopy(y_train.iloc[train_index])\n",
    "        temp_x_test,temp_y_test = copy.deepcopy(x_train.iloc[test_index]),copy.deepcopy(y_train.iloc[test_index])\n",
    "        x_.append(temp_x)\n",
    "        y_.append(temp_y)\n",
    "        x_t.append(temp_x_test)\n",
    "        y_t.append(temp_y_test)\n",
    "        \n",
    "    #FOLD 1\n",
    "    x_train_float_fold1 = np.asarray(x_[0]).astype('float32') \n",
    "\n",
    "    y_train_float_fold1 = np.asarray(one_hot_encode_classes(adjust_class(y_[0]))).astype('float32')\n",
    "    y_train_float_fold1 = pd.DataFrame(y_train_float_fold1, columns=['Bad','Good','Great'])\n",
    "    \n",
    "    x_test_float_fold1 = np.asarray(x_t[0]).astype('float32') \n",
    "\n",
    "    y_test_float_fold1 = np.asarray(one_hot_encode_classes(adjust_class(y_t[0]))).astype('float32')\n",
    "    y_test_float_fold1 = pd.DataFrame(y_test_float_fold1, columns=['Bad','Good','Great'])\n",
    "\n",
    "    #FOLD 2\n",
    "    x_train_float_fold2 = np.asarray(x_[1]).astype('float32') \n",
    "\n",
    "    y_train_float_fold2 = np.asarray(one_hot_encode_classes(adjust_class(y_[1]))).astype('float32')\n",
    "    y_train_float_fold2 = pd.DataFrame(y_train_float_fold2, columns=['Bad','Good','Great'])\n",
    "    \n",
    "    x_test_float_fold2 = np.asarray(x_t[1]).astype('float32') \n",
    "\n",
    "    y_test_float_fold2 = np.asarray(one_hot_encode_classes(adjust_class(y_t[1]))).astype('float32')\n",
    "    y_test_float_fold2 = pd.DataFrame(y_test_float_fold2, columns=['Bad','Good','Great'])\n",
    "\n",
    "    #FOLD 3\n",
    "    x_train_float_fold3 = np.asarray(x_[2]).astype('float32') \n",
    "\n",
    "    y_train_float_fold3 = np.asarray(one_hot_encode_classes(adjust_class(y_[2]))).astype('float32')\n",
    "    y_train_float_fold3 = pd.DataFrame(y_train_float_fold3, columns=['Bad','Good','Great'])\n",
    "    \n",
    "    x_test_float_fold3 = np.asarray(x_t[2]).astype('float32') \n",
    "\n",
    "    y_test_float_fold3 = np.asarray(one_hot_encode_classes(adjust_class(y_t[2]))).astype('float32')\n",
    "    y_test_float_fold3 = pd.DataFrame(y_test_float_fold3, columns=['Bad','Good','Great'])\n",
    "\n",
    "    #FOLD 4\n",
    "    x_train_float_fold4 = np.asarray(x_[3]).astype('float32') \n",
    "\n",
    "    y_train_float_fold4 = np.asarray(one_hot_encode_classes(adjust_class(y_[3]))).astype('float32')\n",
    "    y_train_float_fold4 = pd.DataFrame(y_train_float_fold4, columns=['Bad','Good','Great'])\n",
    "    \n",
    "    x_test_float_fold4 = np.asarray(x_t[3]).astype('float32') \n",
    "\n",
    "    y_test_float_fold4 = np.asarray(one_hot_encode_classes(adjust_class(y_t[3]))).astype('float32')\n",
    "    y_test_float_fold4 = pd.DataFrame(y_test_float_fold4, columns=['Bad','Good','Great'])\n",
    "\n",
    "    #FOLD 5\n",
    "    x_train_float_fold5 = np.asarray(x_[4]).astype('float32') \n",
    "\n",
    "    y_train_float_fold5 = np.asarray(one_hot_encode_classes(adjust_class(y_[4]))).astype('float32')\n",
    "    y_train_float_fold5 = pd.DataFrame(y_train_float_fold5, columns=['Bad','Good','Great']) \n",
    "    \n",
    "    x_test_float_fold5 = np.asarray(x_t[4]).astype('float32') \n",
    "\n",
    "    y_test_float_fold5 = np.asarray(one_hot_encode_classes(adjust_class(y_t[4]))).astype('float32')\n",
    "    y_test_float_fold5 = pd.DataFrame(y_test_float_fold5, columns=['Bad','Good','Great'])\n",
    "    \n",
    "    ### TESTING ###\n",
    "    loss = []\n",
    "    scores = []\n",
    "    \n",
    "    x_test_float = np.asarray(x_test).astype('float32')\n",
    "    x_test = x_test_float\n",
    "    \n",
    "    y_test_one_hot = np.asarray(one_hot_encode_classes(adjust_class(y_test))).astype('float32')\n",
    "    y_test_one_hot = pd.DataFrame(y_test_one_hot, columns=['Bad','Good','Great'])\n",
    "    y_test = y_test_one_hot\n",
    "    \n",
    "    #First CV FOLD\n",
    "    print(\"First CV FOLD\")\n",
    "    x=x_train_float_fold1\n",
    "    y=y_train_float_fold1\n",
    "    model.fit(x=x,y=y,epochs=runs,validation_data=(x_test_float_fold1,y_test_float_fold1),batch_size=batch,callbacks=[early_stop],verbose=v)\n",
    "    loss.append(pd.DataFrame(model.history.history))\n",
    "    scores.append(model.evaluate(x_test_float_fold1,y_test_float_fold1,verbose=0))\n",
    "    model.save('first_cv.keras')\n",
    "    del model #clear cache\n",
    "    \n",
    "    #Second CV Fold\n",
    "    print(\"\\nSecond CV FOLD\")\n",
    "    model = load_model('first_cv.keras')\n",
    "    x=x_train_float_fold2\n",
    "    y=y_train_float_fold2\n",
    "    model.fit(x=x,y=y,epochs=runs,validation_data=(x_test_float_fold2,y_test_float_fold2),batch_size=batch,callbacks=[early_stop],verbose=v)\n",
    "    loss.append(pd.DataFrame(model.history.history))\n",
    "    scores.append(model.evaluate(x_test_float_fold2,y_test_float_fold2,verbose=0))\n",
    "    model.save('second_cv.keras')\n",
    "    del model #clear cache\n",
    "    \n",
    "    #Third CV Fold\n",
    "    print(\"\\nThird CV FOLD\")\n",
    "    model = load_model('second_cv.keras')\n",
    "    x=x_train_float_fold3\n",
    "    y=y_train_float_fold3\n",
    "    model.fit(x=x,y=y,epochs=runs,validation_data=(x_test_float_fold3,y_test_float_fold3),batch_size=batch,callbacks=[early_stop],verbose=v)\n",
    "    loss.append(pd.DataFrame(model.history.history))\n",
    "    scores.append(model.evaluate(x_test_float_fold3,y_test_float_fold3,verbose=0))\n",
    "    model.save('third_cv.keras')\n",
    "    del model #clear cache\n",
    "    \n",
    "    #Fourth CV Fold\n",
    "    print(\"\\nFourth CV FOLD\")\n",
    "    model = load_model('third_cv.keras')\n",
    "    x=x_train_float_fold4\n",
    "    y=y_train_float_fold4\n",
    "    model.fit(x=x,y=y,epochs=runs,validation_data=(x_test_float_fold4,y_test_float_fold4),batch_size=batch,callbacks=[early_stop],verbose=v)\n",
    "    loss.append(pd.DataFrame(model.history.history))\n",
    "    scores.append(model.evaluate(x_test_float_fold4,y_test_float_fold4,verbose=0))\n",
    "    model.save('fourth_cv.keras')\n",
    "    del model #clear cache\n",
    "    \n",
    "    #Fifth CV Fold\n",
    "    print(\"\\nFifth CV FOLD\")\n",
    "    model = load_model('fourth_cv.keras')\n",
    "    x=x_train_float_fold5\n",
    "    y=y_train_float_fold5\n",
    "    model.fit(x=x,y=y,epochs=runs,validation_data=(x_test_float_fold5,y_test_float_fold5),batch_size=batch,callbacks=[early_stop],verbose=v)\n",
    "    loss.append(pd.DataFrame(model.history.history))\n",
    "    scores.append(model.evaluate(x_test_float_fold5,y_test_float_fold5,verbose=0))\n",
    "    model.save('fifth_cv.keras')\n",
    "    \n",
    "    return model,loss,scores"
   ]
  },
  {
   "cell_type": "code",
   "execution_count": 16,
   "id": "c328c727",
   "metadata": {
    "scrolled": true
   },
   "outputs": [
    {
     "name": "stdout",
     "output_type": "stream",
     "text": [
      "First CV FOLD\n",
      "\n",
      "Second CV FOLD\n",
      "\n",
      "Third CV FOLD\n",
      "Epoch 25: early stopping\n",
      "\n",
      "Fourth CV FOLD\n",
      "Epoch 81: early stopping\n",
      "\n",
      "Fifth CV FOLD\n",
      "Epoch 25: early stopping\n"
     ]
    }
   ],
   "source": [
    "model,loss,scores = five_fold_CV(x_train,y_train,x_test,y_test,100,5000,0,act='sigmoid')"
   ]
  },
  {
   "cell_type": "code",
   "execution_count": 17,
   "id": "3b806285",
   "metadata": {},
   "outputs": [
    {
     "name": "stdout",
     "output_type": "stream",
     "text": [
      "First CV FOLD\n",
      "Epoch 37: early stopping\n",
      "\n",
      "Second CV FOLD\n",
      "Epoch 67: early stopping\n",
      "\n",
      "Third CV FOLD\n",
      "Epoch 25: early stopping\n",
      "\n",
      "Fourth CV FOLD\n",
      "Epoch 25: early stopping\n",
      "\n",
      "Fifth CV FOLD\n"
     ]
    }
   ],
   "source": [
    "model2,loss2,scores2 = five_fold_CV(x_train,y_train,x_test,y_test,100,5000,0,act='relu')"
   ]
  },
  {
   "cell_type": "code",
   "execution_count": 18,
   "id": "272dc8b1",
   "metadata": {},
   "outputs": [
    {
     "name": "stdout",
     "output_type": "stream",
     "text": [
      "First CV FOLD\n",
      "\n",
      "Second CV FOLD\n",
      "Epoch 62: early stopping\n",
      "\n",
      "Third CV FOLD\n",
      "Epoch 57: early stopping\n",
      "\n",
      "Fourth CV FOLD\n",
      "Epoch 58: early stopping\n",
      "\n",
      "Fifth CV FOLD\n",
      "Epoch 54: early stopping\n"
     ]
    }
   ],
   "source": [
    "model3,loss3,scores3 = five_fold_CV(x_train,y_train,x_test,y_test,100,5000,0,act='tanh')"
   ]
  },
  {
   "cell_type": "code",
   "execution_count": 19,
   "id": "cd4758d6",
   "metadata": {},
   "outputs": [
    {
     "name": "stdout",
     "output_type": "stream",
     "text": [
      "First CV FOLD\n",
      "Epoch 33: early stopping\n",
      "\n",
      "Second CV FOLD\n",
      "Epoch 43: early stopping\n",
      "\n",
      "Third CV FOLD\n",
      "Epoch 25: early stopping\n",
      "\n",
      "Fourth CV FOLD\n",
      "Epoch 39: early stopping\n",
      "\n",
      "Fifth CV FOLD\n",
      "Epoch 87: early stopping\n"
     ]
    }
   ],
   "source": [
    "model4,loss4,scores4 = five_fold_CV(x_train,y_train,x_test,y_test,100,5000,0,act='leaky_relu')"
   ]
  },
  {
   "cell_type": "code",
   "execution_count": 20,
   "id": "a6d33517",
   "metadata": {
    "scrolled": true
   },
   "outputs": [
    {
     "name": "stdout",
     "output_type": "stream",
     "text": [
      "First CV FOLD\n",
      "Epoch 39: early stopping\n",
      "\n",
      "Second CV FOLD\n",
      "Epoch 30: early stopping\n",
      "\n",
      "Third CV FOLD\n",
      "Epoch 25: early stopping\n",
      "\n",
      "Fourth CV FOLD\n",
      "Epoch 25: early stopping\n",
      "\n",
      "Fifth CV FOLD\n",
      "Epoch 30: early stopping\n"
     ]
    }
   ],
   "source": [
    "model5,loss5,scores5 = five_fold_CV(x_train,y_train,x_test,y_test,100,5000,0,act='linear')"
   ]
  },
  {
   "cell_type": "code",
   "execution_count": 27,
   "id": "461e3770",
   "metadata": {
    "scrolled": false
   },
   "outputs": [
    {
     "data": {
      "image/png": "[encoded data removed]",
      "text/plain": [
       "<Figure size 640x480 with 1 Axes>"
      ]
     },
     "metadata": {},
     "output_type": "display_data"
    }
   ],
   "source": [
    "def plot_cv_loss(loss):\n",
    "    colors = ['r','g','b','k','c','m']\n",
    "    x,y,count = 0,0,0\n",
    "    for i in range(len(loss)):\n",
    "        for j in range(len(loss[i]['val_loss'])):\n",
    "            x = count\n",
    "            y = loss[i]['val_loss'][j]\n",
    "            count+=1\n",
    "            if(j==0):\n",
    "                plt.plot(x,y,colors[i],ls='-',marker='o',label='fold '+str(i))\n",
    "            else:\n",
    "                plt.plot(x,y,colors[i],ls='-',marker='o')\n",
    "    plt.title(\"ANN Model 5Fold-CV: Val_Loss vs Iteration\")\n",
    "    plt.xlabel(\"iteration\")\n",
    "    plt.ylabel(\"val_loss\")\n",
    "    plt.legend(loc=\"upper right\")\n",
    "    plt.show()\n",
    "    \n",
    "plot_cv_loss(loss)"
   ]
  },
  {
   "cell_type": "code",
   "execution_count": 28,
   "id": "9af83b8f",
   "metadata": {},
   "outputs": [
    {
     "data": {
      "image/png": "[encoded data removed]",
      "text/plain": [
       "<Figure size 640x480 with 1 Axes>"
      ]
     },
     "metadata": {},
     "output_type": "display_data"
    }
   ],
   "source": [
    "plot_cv_loss(loss2)"
   ]
  },
  {
   "cell_type": "code",
   "execution_count": 29,
   "id": "37f6df67",
   "metadata": {},
   "outputs": [
    {
     "data": {
      "image/png": "[encoded data removed]",
      "text/plain": [
       "<Figure size 640x480 with 1 Axes>"
      ]
     },
     "metadata": {},
     "output_type": "display_data"
    }
   ],
   "source": [
    "plot_cv_loss(loss3)"
   ]
  },
  {
   "cell_type": "code",
   "execution_count": 30,
   "id": "6bff6b07",
   "metadata": {},
   "outputs": [
    {
     "data": {
      "image/png": "[encoded data removed]",
      "text/plain": [
       "<Figure size 640x480 with 1 Axes>"
      ]
     },
     "metadata": {},
     "output_type": "display_data"
    }
   ],
   "source": [
    "plot_cv_loss(loss4)"
   ]
  },
  {
   "cell_type": "code",
   "execution_count": 31,
   "id": "5e10e37d",
   "metadata": {},
   "outputs": [
    {
     "data": {
      "image/png": "[encoded data removed]",
      "text/plain": [
       "<Figure size 640x480 with 1 Axes>"
      ]
     },
     "metadata": {},
     "output_type": "display_data"
    }
   ],
   "source": [
    "plot_cv_loss(loss5)"
   ]
  },
  {
   "cell_type": "code",
   "execution_count": 56,
   "id": "23f53984",
   "metadata": {},
   "outputs": [
    {
     "data": {
      "image/png": "[encoded data removed]",
      "text/plain": [
       "<Figure size 3000x500 with 5 Axes>"
      ]
     },
     "metadata": {},
     "output_type": "display_data"
    }
   ],
   "source": [
    "figure,axis=plt.subplots(2,3)\n",
    "magmax = 1\n",
    "axis[0,0].plot(pd.DataFrame(loss[0]['val_loss']))\n",
    "axis[0,0].set_title(\"sigmoid val_loss\")\n",
    "axis[0,0].set_xlim([0,40])\n",
    "axis[0,0].set_ylim([0,2])\n",
    "\n",
    "axis[0,1].plot(pd.DataFrame(loss2[0]['val_loss']))\n",
    "axis[0,1].set_title(\"relu val_loss\")\n",
    "axis[0,1].set_xlim([0,40])\n",
    "axis[0,1].set_ylim([0,2])\n",
    "\n",
    "axis[0,2].plot(pd.DataFrame(loss3[0]['val_loss']))\n",
    "axis[0,2].set_title(\"tanh val_loss\")\n",
    "axis[0,2].set_xlim([0,40])\n",
    "axis[0,2].set_ylim([0,2])\n",
    "\n",
    "axis[1,0].plot(pd.DataFrame(loss4[0]['val_loss']))\n",
    "axis[1,0].set_title(\"leaky_relu val_loss\")\n",
    "axis[1,0].set_xlim([0,40])\n",
    "axis[1,0].set_ylim([0,2])\n",
    "\n",
    "axis[1,1].plot(pd.DataFrame(loss5[0]['val_loss']))\n",
    "axis[1,1].set_title(\"linear val_loss\")\n",
    "axis[1,1].set_xlim([0,40])\n",
    "axis[1,1].set_ylim([0,2])\n",
    "\n",
    "axis[1,2].remove()\n",
    "\n",
    "plt.subplots_adjust(left=0.1, bottom=0.1, right=0.5,top=0.9, wspace=0.5, hspace=0.4)\n",
    "figure.set_figheight(5)\n",
    "figure.set_figwidth(30)\n",
    "\n",
    "plt.show()"
   ]
  }
 ],
 "metadata": {
  "kernelspec": {
   "display_name": "Python 3 (ipykernel)",
   "language": "python",
   "name": "python3"
  },
  "language_info": {
   "codemirror_mode": {
    "name": "ipython",
    "version": 3
   },
   "file_extension": ".py",
   "mimetype": "text/x-python",
   "name": "python",
   "nbconvert_exporter": "python",
   "pygments_lexer": "ipython3",
   "version": "3.11.5"
  }
 },
 "nbformat": 4,
 "nbformat_minor": 5
}
