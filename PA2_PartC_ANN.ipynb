{
 "cells": [
  {
   "cell_type": "code",
   "execution_count": 153,
   "id": "9ea0e228",
   "metadata": {},
   "outputs": [],
   "source": [
    "import numpy as np\n",
    "import pandas as pd\n",
    "import matplotlib.pyplot as plt\n",
    "import seaborn as sns\n",
    "import copy\n",
    "import math\n",
    "%matplotlib inline"
   ]
  },
  {
   "cell_type": "markdown",
   "id": "1365bbdc",
   "metadata": {},
   "source": [
    "# 514 Programming Assignment 2\n",
    "#### Group: Rashaan, Ravi, David\n",
    "\n",
    "Data additional information\n",
    "Each record is an example of a hand consisting of five playing cards drawn from a standard deck of 52. \n",
    "Each card is described using two attributes (suit and rank), for a total of 10 predictive attributes. \n",
    "There is one Class attribute that describes the \"Poker Hand\". \n",
    "The order of cards is important, which is why there are 480 possible Royal Flush hands as compared to 4"
   ]
  },
  {
   "cell_type": "markdown",
   "id": "1f36a9b6",
   "metadata": {},
   "source": [
    "#### Load dataset"
   ]
  },
  {
   "cell_type": "code",
   "execution_count": 154,
   "id": "c19ce170",
   "metadata": {
    "scrolled": true
   },
   "outputs": [],
   "source": [
    "# Column names for the dataset\n",
    "# Define the column names for your dataset\n",
    "columns = ['S1', 'C1', 'S2', 'C2', 'S3', 'C3', 'S4', 'C4', 'S5', 'C5', 'Class']\n",
    "\n",
    "# Load your dataset\n",
    "training_data = pd.read_csv('poker-hand-training-true.csv', header=None, names=columns)\n",
    "testing_data = pd.read_csv('poker-hand-testing.csv', header=None, names=columns)\n",
    "\n",
    "# Adjust the ranks of cards, specifically changing Ace from 1 to 14\n",
    "def adjust_ranks(data):\n",
    "    for i in range(1, 6):  # For each card in the hand\n",
    "        data[f'C{i}'] = data[f'C{i}'].apply(lambda x: 14 if x == 1 else x)\n",
    "    return data\n",
    "\n",
    "# One-hot encode the suits of the cards\n",
    "def one_hot_encode_suits(data):\n",
    "    for i in range(1, 6):  # For each card in the hand\n",
    "        data = pd.concat([data, pd.get_dummies(data[f'S{i}'], prefix=f'S{i}')], axis=1).drop([f'S{i}'], axis=1)\n",
    "    return data\n",
    "\n",
    "# Apply preprocessing steps\n",
    "def preprocess_data(data):\n",
    "    data = adjust_ranks(data)\n",
    "    data = one_hot_encode_suits(data)\n",
    "    return data\n",
    "\n",
    "training_data_preprocessed = preprocess_data(training_data)\n",
    "testing_data_preprocessed = preprocess_data(testing_data)\n"
   ]
  },
  {
   "cell_type": "markdown",
   "id": "942c537e",
   "metadata": {},
   "source": [
    "#### Final Preprocessed DATA"
   ]
  },
  {
   "cell_type": "code",
   "execution_count": 155,
   "id": "fb690d09",
   "metadata": {},
   "outputs": [
    {
     "data": {
      "text/html": [
       "<div>\n",
       "<style scoped>\n",
       "    .dataframe tbody tr th:only-of-type {\n",
       "        vertical-align: middle;\n",
       "    }\n",
       "\n",
       "    .dataframe tbody tr th {\n",
       "        vertical-align: top;\n",
       "    }\n",
       "\n",
       "    .dataframe thead th {\n",
       "        text-align: right;\n",
       "    }\n",
       "</style>\n",
       "<table border=\"1\" class=\"dataframe\">\n",
       "  <thead>\n",
       "    <tr style=\"text-align: right;\">\n",
       "      <th></th>\n",
       "      <th>C1</th>\n",
       "      <th>C2</th>\n",
       "      <th>C3</th>\n",
       "      <th>C4</th>\n",
       "      <th>C5</th>\n",
       "      <th>Class</th>\n",
       "      <th>S1_1</th>\n",
       "      <th>S1_2</th>\n",
       "      <th>S1_3</th>\n",
       "      <th>S1_4</th>\n",
       "      <th>...</th>\n",
       "      <th>S3_3</th>\n",
       "      <th>S3_4</th>\n",
       "      <th>S4_1</th>\n",
       "      <th>S4_2</th>\n",
       "      <th>S4_3</th>\n",
       "      <th>S4_4</th>\n",
       "      <th>S5_1</th>\n",
       "      <th>S5_2</th>\n",
       "      <th>S5_3</th>\n",
       "      <th>S5_4</th>\n",
       "    </tr>\n",
       "  </thead>\n",
       "  <tbody>\n",
       "    <tr>\n",
       "      <th>0</th>\n",
       "      <td>10</td>\n",
       "      <td>11</td>\n",
       "      <td>13</td>\n",
       "      <td>12</td>\n",
       "      <td>14</td>\n",
       "      <td>9</td>\n",
       "      <td>True</td>\n",
       "      <td>False</td>\n",
       "      <td>False</td>\n",
       "      <td>False</td>\n",
       "      <td>...</td>\n",
       "      <td>False</td>\n",
       "      <td>False</td>\n",
       "      <td>True</td>\n",
       "      <td>False</td>\n",
       "      <td>False</td>\n",
       "      <td>False</td>\n",
       "      <td>True</td>\n",
       "      <td>False</td>\n",
       "      <td>False</td>\n",
       "      <td>False</td>\n",
       "    </tr>\n",
       "    <tr>\n",
       "      <th>1</th>\n",
       "      <td>11</td>\n",
       "      <td>13</td>\n",
       "      <td>10</td>\n",
       "      <td>12</td>\n",
       "      <td>14</td>\n",
       "      <td>9</td>\n",
       "      <td>False</td>\n",
       "      <td>True</td>\n",
       "      <td>False</td>\n",
       "      <td>False</td>\n",
       "      <td>...</td>\n",
       "      <td>False</td>\n",
       "      <td>False</td>\n",
       "      <td>False</td>\n",
       "      <td>True</td>\n",
       "      <td>False</td>\n",
       "      <td>False</td>\n",
       "      <td>False</td>\n",
       "      <td>True</td>\n",
       "      <td>False</td>\n",
       "      <td>False</td>\n",
       "    </tr>\n",
       "    <tr>\n",
       "      <th>2</th>\n",
       "      <td>12</td>\n",
       "      <td>11</td>\n",
       "      <td>13</td>\n",
       "      <td>10</td>\n",
       "      <td>14</td>\n",
       "      <td>9</td>\n",
       "      <td>False</td>\n",
       "      <td>False</td>\n",
       "      <td>True</td>\n",
       "      <td>False</td>\n",
       "      <td>...</td>\n",
       "      <td>True</td>\n",
       "      <td>False</td>\n",
       "      <td>False</td>\n",
       "      <td>False</td>\n",
       "      <td>True</td>\n",
       "      <td>False</td>\n",
       "      <td>False</td>\n",
       "      <td>False</td>\n",
       "      <td>True</td>\n",
       "      <td>False</td>\n",
       "    </tr>\n",
       "    <tr>\n",
       "      <th>3</th>\n",
       "      <td>10</td>\n",
       "      <td>11</td>\n",
       "      <td>14</td>\n",
       "      <td>13</td>\n",
       "      <td>12</td>\n",
       "      <td>9</td>\n",
       "      <td>False</td>\n",
       "      <td>False</td>\n",
       "      <td>False</td>\n",
       "      <td>True</td>\n",
       "      <td>...</td>\n",
       "      <td>False</td>\n",
       "      <td>True</td>\n",
       "      <td>False</td>\n",
       "      <td>False</td>\n",
       "      <td>False</td>\n",
       "      <td>True</td>\n",
       "      <td>False</td>\n",
       "      <td>False</td>\n",
       "      <td>False</td>\n",
       "      <td>True</td>\n",
       "    </tr>\n",
       "    <tr>\n",
       "      <th>4</th>\n",
       "      <td>14</td>\n",
       "      <td>13</td>\n",
       "      <td>12</td>\n",
       "      <td>11</td>\n",
       "      <td>10</td>\n",
       "      <td>9</td>\n",
       "      <td>False</td>\n",
       "      <td>False</td>\n",
       "      <td>False</td>\n",
       "      <td>True</td>\n",
       "      <td>...</td>\n",
       "      <td>False</td>\n",
       "      <td>True</td>\n",
       "      <td>False</td>\n",
       "      <td>False</td>\n",
       "      <td>False</td>\n",
       "      <td>True</td>\n",
       "      <td>False</td>\n",
       "      <td>False</td>\n",
       "      <td>False</td>\n",
       "      <td>True</td>\n",
       "    </tr>\n",
       "  </tbody>\n",
       "</table>\n",
       "<p>5 rows × 26 columns</p>\n",
       "</div>"
      ],
      "text/plain": [
       "   C1  C2  C3  C4  C5  Class   S1_1   S1_2   S1_3   S1_4  ...   S3_3   S3_4  \\\n",
       "0  10  11  13  12  14      9   True  False  False  False  ...  False  False   \n",
       "1  11  13  10  12  14      9  False   True  False  False  ...  False  False   \n",
       "2  12  11  13  10  14      9  False  False   True  False  ...   True  False   \n",
       "3  10  11  14  13  12      9  False  False  False   True  ...  False   True   \n",
       "4  14  13  12  11  10      9  False  False  False   True  ...  False   True   \n",
       "\n",
       "    S4_1   S4_2   S4_3   S4_4   S5_1   S5_2   S5_3   S5_4  \n",
       "0   True  False  False  False   True  False  False  False  \n",
       "1  False   True  False  False  False   True  False  False  \n",
       "2  False  False   True  False  False  False   True  False  \n",
       "3  False  False  False   True  False  False  False   True  \n",
       "4  False  False  False   True  False  False  False   True  \n",
       "\n",
       "[5 rows x 26 columns]"
      ]
     },
     "execution_count": 155,
     "metadata": {},
     "output_type": "execute_result"
    }
   ],
   "source": [
    "training_data_preprocessed.head()"
   ]
  },
  {
   "cell_type": "code",
   "execution_count": 156,
   "id": "e9d6bc01",
   "metadata": {},
   "outputs": [
    {
     "data": {
      "text/html": [
       "<div>\n",
       "<style scoped>\n",
       "    .dataframe tbody tr th:only-of-type {\n",
       "        vertical-align: middle;\n",
       "    }\n",
       "\n",
       "    .dataframe tbody tr th {\n",
       "        vertical-align: top;\n",
       "    }\n",
       "\n",
       "    .dataframe thead th {\n",
       "        text-align: right;\n",
       "    }\n",
       "</style>\n",
       "<table border=\"1\" class=\"dataframe\">\n",
       "  <thead>\n",
       "    <tr style=\"text-align: right;\">\n",
       "      <th></th>\n",
       "      <th>C1</th>\n",
       "      <th>C2</th>\n",
       "      <th>C3</th>\n",
       "      <th>C4</th>\n",
       "      <th>C5</th>\n",
       "      <th>Class</th>\n",
       "      <th>S1_1</th>\n",
       "      <th>S1_2</th>\n",
       "      <th>S1_3</th>\n",
       "      <th>S1_4</th>\n",
       "      <th>...</th>\n",
       "      <th>S3_3</th>\n",
       "      <th>S3_4</th>\n",
       "      <th>S4_1</th>\n",
       "      <th>S4_2</th>\n",
       "      <th>S4_3</th>\n",
       "      <th>S4_4</th>\n",
       "      <th>S5_1</th>\n",
       "      <th>S5_2</th>\n",
       "      <th>S5_3</th>\n",
       "      <th>S5_4</th>\n",
       "    </tr>\n",
       "  </thead>\n",
       "  <tbody>\n",
       "    <tr>\n",
       "      <th>0</th>\n",
       "      <td>14</td>\n",
       "      <td>13</td>\n",
       "      <td>4</td>\n",
       "      <td>3</td>\n",
       "      <td>12</td>\n",
       "      <td>0</td>\n",
       "      <td>True</td>\n",
       "      <td>False</td>\n",
       "      <td>False</td>\n",
       "      <td>False</td>\n",
       "      <td>...</td>\n",
       "      <td>False</td>\n",
       "      <td>False</td>\n",
       "      <td>False</td>\n",
       "      <td>True</td>\n",
       "      <td>False</td>\n",
       "      <td>False</td>\n",
       "      <td>True</td>\n",
       "      <td>False</td>\n",
       "      <td>False</td>\n",
       "      <td>False</td>\n",
       "    </tr>\n",
       "    <tr>\n",
       "      <th>1</th>\n",
       "      <td>12</td>\n",
       "      <td>2</td>\n",
       "      <td>11</td>\n",
       "      <td>5</td>\n",
       "      <td>5</td>\n",
       "      <td>1</td>\n",
       "      <td>False</td>\n",
       "      <td>False</td>\n",
       "      <td>True</td>\n",
       "      <td>False</td>\n",
       "      <td>...</td>\n",
       "      <td>True</td>\n",
       "      <td>False</td>\n",
       "      <td>False</td>\n",
       "      <td>False</td>\n",
       "      <td>False</td>\n",
       "      <td>True</td>\n",
       "      <td>False</td>\n",
       "      <td>True</td>\n",
       "      <td>False</td>\n",
       "      <td>False</td>\n",
       "    </tr>\n",
       "    <tr>\n",
       "      <th>2</th>\n",
       "      <td>9</td>\n",
       "      <td>6</td>\n",
       "      <td>4</td>\n",
       "      <td>2</td>\n",
       "      <td>9</td>\n",
       "      <td>1</td>\n",
       "      <td>True</td>\n",
       "      <td>False</td>\n",
       "      <td>False</td>\n",
       "      <td>False</td>\n",
       "      <td>...</td>\n",
       "      <td>False</td>\n",
       "      <td>False</td>\n",
       "      <td>False</td>\n",
       "      <td>False</td>\n",
       "      <td>True</td>\n",
       "      <td>False</td>\n",
       "      <td>False</td>\n",
       "      <td>False</td>\n",
       "      <td>True</td>\n",
       "      <td>False</td>\n",
       "    </tr>\n",
       "    <tr>\n",
       "      <th>3</th>\n",
       "      <td>4</td>\n",
       "      <td>13</td>\n",
       "      <td>13</td>\n",
       "      <td>14</td>\n",
       "      <td>6</td>\n",
       "      <td>1</td>\n",
       "      <td>True</td>\n",
       "      <td>False</td>\n",
       "      <td>False</td>\n",
       "      <td>False</td>\n",
       "      <td>...</td>\n",
       "      <td>False</td>\n",
       "      <td>False</td>\n",
       "      <td>False</td>\n",
       "      <td>True</td>\n",
       "      <td>False</td>\n",
       "      <td>False</td>\n",
       "      <td>False</td>\n",
       "      <td>False</td>\n",
       "      <td>True</td>\n",
       "      <td>False</td>\n",
       "    </tr>\n",
       "    <tr>\n",
       "      <th>4</th>\n",
       "      <td>10</td>\n",
       "      <td>7</td>\n",
       "      <td>2</td>\n",
       "      <td>11</td>\n",
       "      <td>9</td>\n",
       "      <td>0</td>\n",
       "      <td>False</td>\n",
       "      <td>False</td>\n",
       "      <td>True</td>\n",
       "      <td>False</td>\n",
       "      <td>...</td>\n",
       "      <td>False</td>\n",
       "      <td>False</td>\n",
       "      <td>False</td>\n",
       "      <td>True</td>\n",
       "      <td>False</td>\n",
       "      <td>False</td>\n",
       "      <td>False</td>\n",
       "      <td>False</td>\n",
       "      <td>False</td>\n",
       "      <td>True</td>\n",
       "    </tr>\n",
       "  </tbody>\n",
       "</table>\n",
       "<p>5 rows × 26 columns</p>\n",
       "</div>"
      ],
      "text/plain": [
       "   C1  C2  C3  C4  C5  Class   S1_1   S1_2   S1_3   S1_4  ...   S3_3   S3_4  \\\n",
       "0  14  13   4   3  12      0   True  False  False  False  ...  False  False   \n",
       "1  12   2  11   5   5      1  False  False   True  False  ...   True  False   \n",
       "2   9   6   4   2   9      1   True  False  False  False  ...  False  False   \n",
       "3   4  13  13  14   6      1   True  False  False  False  ...  False  False   \n",
       "4  10   7   2  11   9      0  False  False   True  False  ...  False  False   \n",
       "\n",
       "    S4_1   S4_2   S4_3   S4_4   S5_1   S5_2   S5_3   S5_4  \n",
       "0  False   True  False  False   True  False  False  False  \n",
       "1  False  False  False   True  False   True  False  False  \n",
       "2  False  False   True  False  False  False   True  False  \n",
       "3  False   True  False  False  False  False   True  False  \n",
       "4  False   True  False  False  False  False  False   True  \n",
       "\n",
       "[5 rows x 26 columns]"
      ]
     },
     "execution_count": 156,
     "metadata": {},
     "output_type": "execute_result"
    }
   ],
   "source": [
    "testing_data_preprocessed.head()"
   ]
  },
  {
   "cell_type": "code",
   "execution_count": 157,
   "id": "d3c72a0f",
   "metadata": {},
   "outputs": [
    {
     "data": {
      "text/html": [
       "<div>\n",
       "<style scoped>\n",
       "    .dataframe tbody tr th:only-of-type {\n",
       "        vertical-align: middle;\n",
       "    }\n",
       "\n",
       "    .dataframe tbody tr th {\n",
       "        vertical-align: top;\n",
       "    }\n",
       "\n",
       "    .dataframe thead th {\n",
       "        text-align: right;\n",
       "    }\n",
       "</style>\n",
       "<table border=\"1\" class=\"dataframe\">\n",
       "  <thead>\n",
       "    <tr style=\"text-align: right;\">\n",
       "      <th></th>\n",
       "      <th>C1</th>\n",
       "      <th>C2</th>\n",
       "      <th>C3</th>\n",
       "      <th>C4</th>\n",
       "      <th>C5</th>\n",
       "      <th>Class</th>\n",
       "    </tr>\n",
       "  </thead>\n",
       "  <tbody>\n",
       "    <tr>\n",
       "      <th>count</th>\n",
       "      <td>25010.000000</td>\n",
       "      <td>25010.000000</td>\n",
       "      <td>25010.000000</td>\n",
       "      <td>25010.000000</td>\n",
       "      <td>25010.000000</td>\n",
       "      <td>25010.000000</td>\n",
       "    </tr>\n",
       "    <tr>\n",
       "      <th>mean</th>\n",
       "      <td>8.025470</td>\n",
       "      <td>8.045982</td>\n",
       "      <td>7.999160</td>\n",
       "      <td>7.973211</td>\n",
       "      <td>7.986725</td>\n",
       "      <td>0.621152</td>\n",
       "    </tr>\n",
       "    <tr>\n",
       "      <th>std</th>\n",
       "      <td>3.746958</td>\n",
       "      <td>3.758723</td>\n",
       "      <td>3.743223</td>\n",
       "      <td>3.758728</td>\n",
       "      <td>3.748488</td>\n",
       "      <td>0.788361</td>\n",
       "    </tr>\n",
       "    <tr>\n",
       "      <th>min</th>\n",
       "      <td>2.000000</td>\n",
       "      <td>2.000000</td>\n",
       "      <td>2.000000</td>\n",
       "      <td>2.000000</td>\n",
       "      <td>2.000000</td>\n",
       "      <td>0.000000</td>\n",
       "    </tr>\n",
       "    <tr>\n",
       "      <th>25%</th>\n",
       "      <td>5.000000</td>\n",
       "      <td>5.000000</td>\n",
       "      <td>5.000000</td>\n",
       "      <td>5.000000</td>\n",
       "      <td>5.000000</td>\n",
       "      <td>0.000000</td>\n",
       "    </tr>\n",
       "    <tr>\n",
       "      <th>50%</th>\n",
       "      <td>8.000000</td>\n",
       "      <td>8.000000</td>\n",
       "      <td>8.000000</td>\n",
       "      <td>8.000000</td>\n",
       "      <td>8.000000</td>\n",
       "      <td>1.000000</td>\n",
       "    </tr>\n",
       "    <tr>\n",
       "      <th>75%</th>\n",
       "      <td>11.000000</td>\n",
       "      <td>11.000000</td>\n",
       "      <td>11.000000</td>\n",
       "      <td>11.000000</td>\n",
       "      <td>11.000000</td>\n",
       "      <td>1.000000</td>\n",
       "    </tr>\n",
       "    <tr>\n",
       "      <th>max</th>\n",
       "      <td>14.000000</td>\n",
       "      <td>14.000000</td>\n",
       "      <td>14.000000</td>\n",
       "      <td>14.000000</td>\n",
       "      <td>14.000000</td>\n",
       "      <td>9.000000</td>\n",
       "    </tr>\n",
       "  </tbody>\n",
       "</table>\n",
       "</div>"
      ],
      "text/plain": [
       "                 C1            C2            C3            C4            C5  \\\n",
       "count  25010.000000  25010.000000  25010.000000  25010.000000  25010.000000   \n",
       "mean       8.025470      8.045982      7.999160      7.973211      7.986725   \n",
       "std        3.746958      3.758723      3.743223      3.758728      3.748488   \n",
       "min        2.000000      2.000000      2.000000      2.000000      2.000000   \n",
       "25%        5.000000      5.000000      5.000000      5.000000      5.000000   \n",
       "50%        8.000000      8.000000      8.000000      8.000000      8.000000   \n",
       "75%       11.000000     11.000000     11.000000     11.000000     11.000000   \n",
       "max       14.000000     14.000000     14.000000     14.000000     14.000000   \n",
       "\n",
       "              Class  \n",
       "count  25010.000000  \n",
       "mean       0.621152  \n",
       "std        0.788361  \n",
       "min        0.000000  \n",
       "25%        0.000000  \n",
       "50%        1.000000  \n",
       "75%        1.000000  \n",
       "max        9.000000  "
      ]
     },
     "execution_count": 157,
     "metadata": {},
     "output_type": "execute_result"
    }
   ],
   "source": [
    "training_data_preprocessed.describe()"
   ]
  },
  {
   "cell_type": "markdown",
   "id": "f2354b5a",
   "metadata": {},
   "source": [
    "# Artificial Neural Network (ANN) - Part B"
   ]
  },
  {
   "cell_type": "code",
   "execution_count": 158,
   "id": "96dd5a15",
   "metadata": {
    "scrolled": true
   },
   "outputs": [],
   "source": [
    "from tensorflow.keras.models import Sequential \n",
    "from tensorflow.keras.layers import Dense\n",
    "from tensorflow.keras.callbacks import EarlyStopping\n",
    "from tensorflow.keras.optimizers import Adam\n",
    "from tensorflow.keras.models import load_model\n",
    "from tensorflow.keras import initializers\n",
    "from sklearn.model_selection import StratifiedKFold,KFold\n",
    "from sklearn.metrics import mean_absolute_error,mean_squared_error,classification_report,confusion_matrix"
   ]
  },
  {
   "cell_type": "markdown",
   "id": "6f3a61a7",
   "metadata": {},
   "source": [
    "##### PREPARE THE TRAINING AND TESTING SETS"
   ]
  },
  {
   "cell_type": "code",
   "execution_count": 159,
   "id": "f2fbc429",
   "metadata": {},
   "outputs": [],
   "source": [
    "x_train = training_data_preprocessed[['C1', 'C2', 'C3', 'C4', 'C5', 'S1_1', 'S1_2', 'S1_3', 'S1_4',\n",
    "       'S2_1', 'S2_2', 'S2_3', 'S2_4', 'S3_1', 'S3_2', 'S3_3', 'S3_4', 'S4_1',\n",
    "       'S4_2', 'S4_3', 'S4_4', 'S5_1', 'S5_2', 'S5_3', 'S5_4']]\n",
    "\n",
    "y_train = pd.DataFrame(training_data_preprocessed['Class'])\n",
    "\n",
    "x_test = testing_data_preprocessed[['C1', 'C2', 'C3', 'C4', 'C5', 'S1_1', 'S1_2', 'S1_3', 'S1_4',\n",
    "       'S2_1', 'S2_2', 'S2_3', 'S2_4', 'S3_1', 'S3_2', 'S3_3', 'S3_4', 'S4_1',\n",
    "       'S4_2', 'S4_3', 'S4_4', 'S5_1', 'S5_2', 'S5_3', 'S5_4']]\n",
    "\n",
    "y_test = pd.DataFrame(testing_data_preprocessed['Class'])"
   ]
  },
  {
   "cell_type": "markdown",
   "id": "b916a4d0",
   "metadata": {},
   "source": [
    "##### Adjust the classes such that each card is mapped to either BAD, GOOD, or GREAT then one-hot encode classes"
   ]
  },
  {
   "cell_type": "code",
   "execution_count": 160,
   "id": "69b774a1",
   "metadata": {},
   "outputs": [],
   "source": [
    "def adjust_class(data):\n",
    "        bad,good,great = 0,4,9\n",
    "        #BAD\n",
    "        data['Class'] = data['Class'].apply(lambda x: bad if x == 0 else x)\n",
    "        data['Class'] = data['Class'].apply(lambda x: bad if x == 1 else x)\n",
    "        data['Class'] = data['Class'].apply(lambda x: bad if x == 2 else x)\n",
    "        data['Class'] = data['Class'].apply(lambda x: bad if x == 3 else x)\n",
    "        #GOOD\n",
    "        data['Class'] = data['Class'].apply(lambda x: good if x == 4 else x)\n",
    "        data['Class'] = data['Class'].apply(lambda x: good if x == 5 else x)\n",
    "        data['Class'] = data['Class'].apply(lambda x: good if x == 6 else x)\n",
    "        #GREAT\n",
    "        data['Class'] = data['Class'].apply(lambda x: great if x == 7 else x)\n",
    "        data['Class'] = data['Class'].apply(lambda x: great if x == 8 else x)\n",
    "        data['Class'] = data['Class'].apply(lambda x: great if x == 9 else x)\n",
    "        return data\n",
    "\n",
    "def remove_val_df(df,v):\n",
    "    temp_df = copy.deepcopy(adjust_class(df))   \n",
    "    indexClass = temp_df[(temp_df['Class']==v)].index\n",
    "    temp_df.drop(indexClass,inplace=True)\n",
    "    return temp_df\n",
    "\n",
    "def one_hot_encode_classes(data):\n",
    "    data = pd.get_dummies(data,columns=['Class'])\n",
    "    return data"
   ]
  },
  {
   "cell_type": "code",
   "execution_count": 161,
   "id": "a11ca7f5",
   "metadata": {},
   "outputs": [],
   "source": [
    "df_rm_0 = remove_val_df(training_data_preprocessed,0)\n",
    "df_rm_4 = remove_val_df(training_data_preprocessed,4)\n",
    "df_rm_9 = remove_val_df(training_data_preprocessed,9)"
   ]
  },
  {
   "cell_type": "code",
   "execution_count": 162,
   "id": "f7f2eff3",
   "metadata": {},
   "outputs": [],
   "source": [
    "# CLASS 1: ONLY GOOD AND GREAT ###########\n",
    "x_train_0 = df_rm_0[['C1', 'C2', 'C3', 'C4', 'C5', 'S1_1', 'S1_2', 'S1_3', 'S1_4',\n",
    "       'S2_1', 'S2_2', 'S2_3', 'S2_4', 'S3_1', 'S3_2', 'S3_3', 'S3_4', 'S4_1',\n",
    "       'S4_2', 'S4_3', 'S4_4', 'S5_1', 'S5_2', 'S5_3', 'S5_4']]\n",
    "\n",
    "y_train_0 = pd.DataFrame(df_rm_0['Class'])\n",
    "\n",
    "x_test_0 = df_rm_0[['C1', 'C2', 'C3', 'C4', 'C5', 'S1_1', 'S1_2', 'S1_3', 'S1_4',\n",
    "       'S2_1', 'S2_2', 'S2_3', 'S2_4', 'S3_1', 'S3_2', 'S3_3', 'S3_4', 'S4_1',\n",
    "       'S4_2', 'S4_3', 'S4_4', 'S5_1', 'S5_2', 'S5_3', 'S5_4']]\n",
    "\n",
    "y_test_0 = pd.DataFrame(df_rm_0['Class'])\n",
    "\n",
    "# CLASS 2: ONLY BAD AND GREAT ###########\n",
    "x_train_4 = df_rm_4[['C1', 'C2', 'C3', 'C4', 'C5', 'S1_1', 'S1_2', 'S1_3', 'S1_4',\n",
    "       'S2_1', 'S2_2', 'S2_3', 'S2_4', 'S3_1', 'S3_2', 'S3_3', 'S3_4', 'S4_1',\n",
    "       'S4_2', 'S4_3', 'S4_4', 'S5_1', 'S5_2', 'S5_3', 'S5_4']]\n",
    "\n",
    "y_train_4 = pd.DataFrame(df_rm_4['Class'])\n",
    "\n",
    "x_test_4 = df_rm_4[['C1', 'C2', 'C3', 'C4', 'C5', 'S1_1', 'S1_2', 'S1_3', 'S1_4',\n",
    "       'S2_1', 'S2_2', 'S2_3', 'S2_4', 'S3_1', 'S3_2', 'S3_3', 'S3_4', 'S4_1',\n",
    "       'S4_2', 'S4_3', 'S4_4', 'S5_1', 'S5_2', 'S5_3', 'S5_4']]\n",
    "\n",
    "y_test_4 = pd.DataFrame(df_rm_4['Class'])\n",
    "\n",
    "# CLASS 3: ONLY BAD AND GOOD ###########\n",
    "x_train_9 = df_rm_9[['C1', 'C2', 'C3', 'C4', 'C5', 'S1_1', 'S1_2', 'S1_3', 'S1_4',\n",
    "       'S2_1', 'S2_2', 'S2_3', 'S2_4', 'S3_1', 'S3_2', 'S3_3', 'S3_4', 'S4_1',\n",
    "       'S4_2', 'S4_3', 'S4_4', 'S5_1', 'S5_2', 'S5_3', 'S5_4']]\n",
    "\n",
    "y_train_9 = pd.DataFrame(df_rm_9['Class'])\n",
    "\n",
    "x_test_9 = df_rm_9[['C1', 'C2', 'C3', 'C4', 'C5', 'S1_1', 'S1_2', 'S1_3', 'S1_4',\n",
    "       'S2_1', 'S2_2', 'S2_3', 'S2_4', 'S3_1', 'S3_2', 'S3_3', 'S3_4', 'S4_1',\n",
    "       'S4_2', 'S4_3', 'S4_4', 'S5_1', 'S5_2', 'S5_3', 'S5_4']]\n",
    "\n",
    "y_test_9 = pd.DataFrame(df_rm_9['Class'])\n",
    "\n",
    "# CLASS EC: ALL ###########\n",
    "x_train_all = training_data_preprocessed[['C1', 'C2', 'C3', 'C4', 'C5', 'S1_1', 'S1_2', 'S1_3', 'S1_4',\n",
    "       'S2_1', 'S2_2', 'S2_3', 'S2_4', 'S3_1', 'S3_2', 'S3_3', 'S3_4', 'S4_1',\n",
    "       'S4_2', 'S4_3', 'S4_4', 'S5_1', 'S5_2', 'S5_3', 'S5_4']]\n",
    "\n",
    "y_train_all = pd.DataFrame(training_data_preprocessed['Class'])\n",
    "\n",
    "x_test_all = training_data_preprocessed[['C1', 'C2', 'C3', 'C4', 'C5', 'S1_1', 'S1_2', 'S1_3', 'S1_4',\n",
    "       'S2_1', 'S2_2', 'S2_3', 'S2_4', 'S3_1', 'S3_2', 'S3_3', 'S3_4', 'S4_1',\n",
    "       'S4_2', 'S4_3', 'S4_4', 'S5_1', 'S5_2', 'S5_3', 'S5_4']]\n",
    "\n",
    "y_test_all = pd.DataFrame(training_data_preprocessed['Class'])"
   ]
  },
  {
   "cell_type": "code",
   "execution_count": 163,
   "id": "2709ab1b",
   "metadata": {},
   "outputs": [],
   "source": [
    "##### good and great \n",
    "x_train_float_0 = np.asarray(x_train_0).astype('float32') \n",
    "\n",
    "x_test_float_0 = np.asarray(x_test_0).astype('float32') \n",
    "\n",
    "y_train_one_hot_0 = np.asarray(one_hot_encode_classes(adjust_class(y_train_0))).astype('float32')\n",
    "y_train_one_hot_0 = pd.DataFrame(y_train_one_hot_0, columns=['Good','Great'])\n",
    "\n",
    "y_test_one_hot_0 = np.asarray(one_hot_encode_classes(adjust_class(y_test_0))).astype('float32')\n",
    "y_test_one_hot_0 = pd.DataFrame(y_test_one_hot_0, columns=['Good','Great'])\n",
    "\n",
    "##### bad and great \n",
    "x_train_float_4 = np.asarray(x_train_4).astype('float32') \n",
    "\n",
    "x_test_float_4 = np.asarray(x_test_4).astype('float32') \n",
    "\n",
    "y_train_one_hot_4 = np.asarray(one_hot_encode_classes(adjust_class(y_train_4))).astype('float32')\n",
    "y_train_one_hot_4 = pd.DataFrame(y_train_one_hot_4, columns=['Bad','Great'])\n",
    "\n",
    "y_test_one_hot_4 = np.asarray(one_hot_encode_classes(adjust_class(y_test_4))).astype('float32')\n",
    "y_test_one_hot_4 = pd.DataFrame(y_test_one_hot_4, columns=['Bad','Great'])\n",
    "\n",
    "##### bad and great \n",
    "x_train_float_9 = np.asarray(x_train_9).astype('float32') \n",
    "\n",
    "x_test_float_9  = np.asarray(x_test_9).astype('float32') \n",
    "\n",
    "y_train_one_hot_9  = np.asarray(one_hot_encode_classes(adjust_class(y_train_9))).astype('float32')\n",
    "y_train_one_hot_9  = pd.DataFrame(y_train_one_hot_9, columns=['Bad','Good'])\n",
    "\n",
    "y_test_one_hot_9  = np.asarray(one_hot_encode_classes(adjust_class(y_test_9))).astype('float32')\n",
    "y_test_one_hot_9  = pd.DataFrame(y_test_one_hot_9, columns=['Bad','Good'])\n",
    "\n",
    "##### ALLL \n",
    "x_train_float = np.asarray(x_train_all).astype('float32') \n",
    "\n",
    "x_test_float = np.asarray(x_test_all).astype('float32') \n",
    "\n",
    "y_train_one_hot = np.asarray(one_hot_encode_classes(adjust_class(y_train_all))).astype('float32')\n",
    "y_train_one_hot = pd.DataFrame(y_train_one_hot, columns=['Bad','Good','Great'])\n",
    "\n",
    "y_test_one_hot = np.asarray(one_hot_encode_classes(adjust_class(y_test_all))).astype('float32')\n",
    "y_test_one_hot = pd.DataFrame(y_test_one_hot, columns=['Bad','Good','Great'])"
   ]
  },
  {
   "cell_type": "markdown",
   "id": "3081dfd8",
   "metadata": {},
   "source": [
    "#### Display one-hot classifications of output card classes"
   ]
  },
  {
   "cell_type": "code",
   "execution_count": 164,
   "id": "fb7dd8f0",
   "metadata": {
    "scrolled": true
   },
   "outputs": [
    {
     "data": {
      "text/html": [
       "<div>\n",
       "<style scoped>\n",
       "    .dataframe tbody tr th:only-of-type {\n",
       "        vertical-align: middle;\n",
       "    }\n",
       "\n",
       "    .dataframe tbody tr th {\n",
       "        vertical-align: top;\n",
       "    }\n",
       "\n",
       "    .dataframe thead th {\n",
       "        text-align: right;\n",
       "    }\n",
       "</style>\n",
       "<table border=\"1\" class=\"dataframe\">\n",
       "  <thead>\n",
       "    <tr style=\"text-align: right;\">\n",
       "      <th></th>\n",
       "      <th>Bad</th>\n",
       "      <th>Good</th>\n",
       "      <th>Great</th>\n",
       "    </tr>\n",
       "  </thead>\n",
       "  <tbody>\n",
       "    <tr>\n",
       "      <th>count</th>\n",
       "      <td>25010.000000</td>\n",
       "      <td>25010.000000</td>\n",
       "      <td>25010.000000</td>\n",
       "    </tr>\n",
       "    <tr>\n",
       "      <th>mean</th>\n",
       "      <td>0.992043</td>\n",
       "      <td>0.007317</td>\n",
       "      <td>0.000640</td>\n",
       "    </tr>\n",
       "    <tr>\n",
       "      <th>std</th>\n",
       "      <td>0.088838</td>\n",
       "      <td>0.085243</td>\n",
       "      <td>0.025277</td>\n",
       "    </tr>\n",
       "    <tr>\n",
       "      <th>min</th>\n",
       "      <td>0.000000</td>\n",
       "      <td>0.000000</td>\n",
       "      <td>0.000000</td>\n",
       "    </tr>\n",
       "    <tr>\n",
       "      <th>25%</th>\n",
       "      <td>1.000000</td>\n",
       "      <td>0.000000</td>\n",
       "      <td>0.000000</td>\n",
       "    </tr>\n",
       "    <tr>\n",
       "      <th>50%</th>\n",
       "      <td>1.000000</td>\n",
       "      <td>0.000000</td>\n",
       "      <td>0.000000</td>\n",
       "    </tr>\n",
       "    <tr>\n",
       "      <th>75%</th>\n",
       "      <td>1.000000</td>\n",
       "      <td>0.000000</td>\n",
       "      <td>0.000000</td>\n",
       "    </tr>\n",
       "    <tr>\n",
       "      <th>max</th>\n",
       "      <td>1.000000</td>\n",
       "      <td>1.000000</td>\n",
       "      <td>1.000000</td>\n",
       "    </tr>\n",
       "  </tbody>\n",
       "</table>\n",
       "</div>"
      ],
      "text/plain": [
       "                Bad          Good         Great\n",
       "count  25010.000000  25010.000000  25010.000000\n",
       "mean       0.992043      0.007317      0.000640\n",
       "std        0.088838      0.085243      0.025277\n",
       "min        0.000000      0.000000      0.000000\n",
       "25%        1.000000      0.000000      0.000000\n",
       "50%        1.000000      0.000000      0.000000\n",
       "75%        1.000000      0.000000      0.000000\n",
       "max        1.000000      1.000000      1.000000"
      ]
     },
     "execution_count": 164,
     "metadata": {},
     "output_type": "execute_result"
    }
   ],
   "source": [
    "y_train_one_hot.describe()"
   ]
  },
  {
   "cell_type": "code",
   "execution_count": 165,
   "id": "f8b823f4",
   "metadata": {},
   "outputs": [
    {
     "data": {
      "text/plain": [
       "(25010, 3)"
      ]
     },
     "execution_count": 165,
     "metadata": {},
     "output_type": "execute_result"
    }
   ],
   "source": [
    "y_train_one_hot.shape"
   ]
  },
  {
   "cell_type": "code",
   "execution_count": 166,
   "id": "cd10f1e3",
   "metadata": {
    "scrolled": false
   },
   "outputs": [
    {
     "data": {
      "text/html": [
       "<div>\n",
       "<style scoped>\n",
       "    .dataframe tbody tr th:only-of-type {\n",
       "        vertical-align: middle;\n",
       "    }\n",
       "\n",
       "    .dataframe tbody tr th {\n",
       "        vertical-align: top;\n",
       "    }\n",
       "\n",
       "    .dataframe thead th {\n",
       "        text-align: right;\n",
       "    }\n",
       "</style>\n",
       "<table border=\"1\" class=\"dataframe\">\n",
       "  <thead>\n",
       "    <tr style=\"text-align: right;\">\n",
       "      <th></th>\n",
       "      <th>Bad</th>\n",
       "      <th>Good</th>\n",
       "      <th>Great</th>\n",
       "    </tr>\n",
       "  </thead>\n",
       "  <tbody>\n",
       "    <tr>\n",
       "      <th>count</th>\n",
       "      <td>25010.000000</td>\n",
       "      <td>25010.000000</td>\n",
       "      <td>25010.000000</td>\n",
       "    </tr>\n",
       "    <tr>\n",
       "      <th>mean</th>\n",
       "      <td>0.992043</td>\n",
       "      <td>0.007317</td>\n",
       "      <td>0.000640</td>\n",
       "    </tr>\n",
       "    <tr>\n",
       "      <th>std</th>\n",
       "      <td>0.088838</td>\n",
       "      <td>0.085243</td>\n",
       "      <td>0.025277</td>\n",
       "    </tr>\n",
       "    <tr>\n",
       "      <th>min</th>\n",
       "      <td>0.000000</td>\n",
       "      <td>0.000000</td>\n",
       "      <td>0.000000</td>\n",
       "    </tr>\n",
       "    <tr>\n",
       "      <th>25%</th>\n",
       "      <td>1.000000</td>\n",
       "      <td>0.000000</td>\n",
       "      <td>0.000000</td>\n",
       "    </tr>\n",
       "    <tr>\n",
       "      <th>50%</th>\n",
       "      <td>1.000000</td>\n",
       "      <td>0.000000</td>\n",
       "      <td>0.000000</td>\n",
       "    </tr>\n",
       "    <tr>\n",
       "      <th>75%</th>\n",
       "      <td>1.000000</td>\n",
       "      <td>0.000000</td>\n",
       "      <td>0.000000</td>\n",
       "    </tr>\n",
       "    <tr>\n",
       "      <th>max</th>\n",
       "      <td>1.000000</td>\n",
       "      <td>1.000000</td>\n",
       "      <td>1.000000</td>\n",
       "    </tr>\n",
       "  </tbody>\n",
       "</table>\n",
       "</div>"
      ],
      "text/plain": [
       "                Bad          Good         Great\n",
       "count  25010.000000  25010.000000  25010.000000\n",
       "mean       0.992043      0.007317      0.000640\n",
       "std        0.088838      0.085243      0.025277\n",
       "min        0.000000      0.000000      0.000000\n",
       "25%        1.000000      0.000000      0.000000\n",
       "50%        1.000000      0.000000      0.000000\n",
       "75%        1.000000      0.000000      0.000000\n",
       "max        1.000000      1.000000      1.000000"
      ]
     },
     "execution_count": 166,
     "metadata": {},
     "output_type": "execute_result"
    }
   ],
   "source": [
    "y_test_one_hot.describe()"
   ]
  },
  {
   "cell_type": "code",
   "execution_count": 167,
   "id": "a454da59",
   "metadata": {},
   "outputs": [
    {
     "data": {
      "text/plain": [
       "(25010, 3)"
      ]
     },
     "execution_count": 167,
     "metadata": {},
     "output_type": "execute_result"
    }
   ],
   "source": [
    "y_test_one_hot.shape"
   ]
  },
  {
   "cell_type": "markdown",
   "id": "0bb84df6",
   "metadata": {},
   "source": [
    "#### CREATE OUR ANN MODEL SKELETON "
   ]
  },
  {
   "cell_type": "markdown",
   "id": "2d21db88",
   "metadata": {},
   "source": [
    "#### Function to run Five-Fold CV on ANN "
   ]
  },
  {
   "cell_type": "code",
   "execution_count": 168,
   "id": "d0f00eda",
   "metadata": {},
   "outputs": [],
   "source": [
    "def five_fold_CV(x_train,y_train,x_test,y_test,runs,batch,v,act='sigmoid',cols=['Bad','Good','Great'],shape=3):\n",
    "    #MODEL\n",
    "    model = Sequential()\n",
    "    model.add(Dense(units=25,use_bias=True,kernel_initializer='ones',bias_initializer='ones',activation=act));\n",
    "    model.add(Dense(shape,activation='softmax'))\n",
    "    my_optimizer = Adam(learning_rate=0.001)\n",
    "    model.compile(optimizer=my_optimizer,loss='categorical_crossentropy',metrics=['accuracy'])\n",
    "    early_stop = EarlyStopping(monitor='val_loss',mode='min',patience=25,verbose=1)\n",
    "    \n",
    "    ### FOLDS ####\n",
    "    folds = KFold(n_splits=5, shuffle=True, random_state=42)\n",
    "    cv_folds = folds.split(x_train,y_train)\n",
    "    x_,y_,x_t,y_t = [],[],[],[]\n",
    "    x_train = pd.DataFrame(x_train)\n",
    "    y_train = pd.DataFrame(y_train)\n",
    "    x_test = pd.DataFrame(x_test)\n",
    "    y_test = pd.DataFrame(y_test)\n",
    "    for i, (train_index, test_index) in enumerate(cv_folds):\n",
    "        temp_x,temp_y = copy.deepcopy(x_train.iloc[train_index]),copy.deepcopy(y_train.iloc[train_index])\n",
    "        temp_x_test,temp_y_test = copy.deepcopy(x_train.iloc[test_index]),copy.deepcopy(y_train.iloc[test_index])\n",
    "        x_.append(temp_x)\n",
    "        y_.append(temp_y)\n",
    "        x_t.append(temp_x_test)\n",
    "        y_t.append(temp_y_test)\n",
    "        \n",
    "    #FOLD 1\n",
    "    x_train_float_fold1 = np.asarray(x_[0]).astype('float32') \n",
    "    \n",
    "    y_train_float_fold1 = y_[0];\n",
    "    y_test_float_fold1 = y_t[0];\n",
    "    #y_train_float_fold1 = np.asarray(one_hot_encode_classes(adjust_class(y_[0]))).astype('float32')\n",
    "    #y_train_float_fold1 = pd.DataFrame(y_train_float_fold1, columns=cols)\n",
    "    \n",
    "    x_test_float_fold1 = np.asarray(x_t[0]).astype('float32') \n",
    "    \n",
    "    \n",
    "    #y_test_float_fold1 = np.asarray(one_hot_encode_classes(adjust_class(y_t[0]))).astype('float32')\n",
    "    #y_test_float_fold1 = pd.DataFrame(y_test_float_fold1, columns=cols)\n",
    "\n",
    "    #FOLD 2\n",
    "    x_train_float_fold2 = np.asarray(x_[1]).astype('float32') \n",
    "    \n",
    "    y_train_float_fold2 = y_[1];\n",
    "    y_test_float_fold2 = y_t[1];\n",
    "    #y_train_float_fold2 = np.asarray(one_hot_encode_classes(adjust_class(y_[1]))).astype('float32')\n",
    "    #y_train_float_fold2 = pd.DataFrame(y_train_float_fold2, columns=cols)\n",
    "    \n",
    "    x_test_float_fold2 = np.asarray(x_t[1]).astype('float32') \n",
    "\n",
    "    #y_test_float_fold2 = np.asarray(one_hot_encode_classes(adjust_class(y_t[1]))).astype('float32')\n",
    "    #y_test_float_fold2 = pd.DataFrame(y_test_float_fold2, columns=cols)\n",
    "\n",
    "    #FOLD 3\n",
    "    x_train_float_fold3 = np.asarray(x_[2]).astype('float32') \n",
    "    \n",
    "    y_train_float_fold3 = y_[2];\n",
    "    y_test_float_fold3 = y_t[2];\n",
    "    #y_train_float_fold3 = np.asarray(one_hot_encode_classes(adjust_class(y_[2]))).astype('float32')\n",
    "    #y_train_float_fold3 = pd.DataFrame(y_train_float_fold3, columns=cols)\n",
    "    \n",
    "    x_test_float_fold3 = np.asarray(x_t[2]).astype('float32') \n",
    "\n",
    "    #y_test_float_fold3 = np.asarray(one_hot_encode_classes(adjust_class(y_t[2]))).astype('float32')\n",
    "    #y_test_float_fold3 = pd.DataFrame(y_test_float_fold3, columns=cols)\n",
    "\n",
    "    #FOLD 4\n",
    "    x_train_float_fold4 = np.asarray(x_[3]).astype('float32') \n",
    "    \n",
    "    y_train_float_fold4 = y_[3];\n",
    "    y_test_float_fold4 = y_t[3];\n",
    "    #y_train_float_fold4 = np.asarray(one_hot_encode_classes(adjust_class(y_[3]))).astype('float32')\n",
    "    #y_train_float_fold4 = pd.DataFrame(y_train_float_fold4, columns=cols)\n",
    "    \n",
    "    x_test_float_fold4 = np.asarray(x_t[3]).astype('float32') \n",
    "\n",
    "    #y_test_float_fold4 = np.asarray(one_hot_encode_classes(adjust_class(y_t[3]))).astype('float32')\n",
    "    #y_test_float_fold4 = pd.DataFrame(y_test_float_fold4, columns=cols)\n",
    "\n",
    "    #FOLD 5\n",
    "    x_train_float_fold5 = np.asarray(x_[4]).astype('float32') \n",
    "    \n",
    "    y_train_float_fold5 = y_[4];\n",
    "    y_test_float_fold5 = y_t[4];\n",
    "    #y_train_float_fold5 = np.asarray(one_hot_encode_classes(adjust_class(y_[4]))).astype('float32')\n",
    "    #y_train_float_fold5 = pd.DataFrame(y_train_float_fold5, columns=cols) \n",
    "    \n",
    "    x_test_float_fold5 = np.asarray(x_t[4]).astype('float32') \n",
    "\n",
    "    #y_test_float_fold5 = np.asarray(one_hot_encode_classes(adjust_class(y_t[4]))).astype('float32')\n",
    "    #y_test_float_fold5 = pd.DataFrame(y_test_float_fold5, columns=cols)\n",
    "    \n",
    "    ### TESTING ###\n",
    "    loss = []\n",
    "    scores = []\n",
    "    \n",
    "    x_test_float = np.asarray(x_test).astype('float32')\n",
    "    x_test = x_test_float\n",
    "    \n",
    "    #y_test_one_hot = np.asarray(one_hot_encode_classes(adjust_class(y_test))).astype('float32')\n",
    "    #y_test_one_hot = pd.DataFrame(y_test_one_hot, columns=cols)\n",
    "    y_test = y_test_one_hot\n",
    "    \n",
    "    #First CV FOLD\n",
    "    print(\"First CV FOLD\")\n",
    "    x=x_train_float_fold1\n",
    "    y=y_train_float_fold1\n",
    "    model.fit(x=x,y=y,epochs=runs,validation_data=(x_test_float_fold1,y_test_float_fold1),batch_size=batch,callbacks=[early_stop],verbose=v)\n",
    "    loss.append(pd.DataFrame(model.history.history))\n",
    "    scores.append(model.evaluate(x_test_float_fold1,y_test_float_fold1,verbose=0))\n",
    "    model.save('first_cv.keras')\n",
    "    del model #clear cache\n",
    "    \n",
    "    #Second CV Fold\n",
    "    print(\"\\nSecond CV FOLD\")\n",
    "    model = load_model('first_cv.keras')\n",
    "    x=x_train_float_fold2\n",
    "    y=y_train_float_fold2\n",
    "    model.fit(x=x,y=y,epochs=runs,validation_data=(x_test_float_fold2,y_test_float_fold2),batch_size=batch,callbacks=[early_stop],verbose=v)\n",
    "    loss.append(pd.DataFrame(model.history.history))\n",
    "    scores.append(model.evaluate(x_test_float_fold2,y_test_float_fold2,verbose=0))\n",
    "    model.save('second_cv.keras')\n",
    "    del model #clear cache\n",
    "    \n",
    "    #Third CV Fold\n",
    "    print(\"\\nThird CV FOLD\")\n",
    "    model = load_model('second_cv.keras')\n",
    "    x=x_train_float_fold3\n",
    "    y=y_train_float_fold3\n",
    "    model.fit(x=x,y=y,epochs=runs,validation_data=(x_test_float_fold3,y_test_float_fold3),batch_size=batch,callbacks=[early_stop],verbose=v)\n",
    "    loss.append(pd.DataFrame(model.history.history))\n",
    "    scores.append(model.evaluate(x_test_float_fold3,y_test_float_fold3,verbose=0))\n",
    "    model.save('third_cv.keras')\n",
    "    del model #clear cache\n",
    "    \n",
    "    #Fourth CV Fold\n",
    "    print(\"\\nFourth CV FOLD\")\n",
    "    model = load_model('third_cv.keras')\n",
    "    x=x_train_float_fold4\n",
    "    y=y_train_float_fold4\n",
    "    model.fit(x=x,y=y,epochs=runs,validation_data=(x_test_float_fold4,y_test_float_fold4),batch_size=batch,callbacks=[early_stop],verbose=v)\n",
    "    loss.append(pd.DataFrame(model.history.history))\n",
    "    scores.append(model.evaluate(x_test_float_fold4,y_test_float_fold4,verbose=0))\n",
    "    model.save('fourth_cv.keras')\n",
    "    del model #clear cache\n",
    "    \n",
    "    #Fifth CV Fold\n",
    "    print(\"\\nFifth CV FOLD\")\n",
    "    model = load_model('fourth_cv.keras')\n",
    "    x=x_train_float_fold5\n",
    "    y=y_train_float_fold5\n",
    "    model.fit(x=x,y=y,epochs=runs,validation_data=(x_test_float_fold5,y_test_float_fold5),batch_size=batch,callbacks=[early_stop],verbose=v)\n",
    "    loss.append(pd.DataFrame(model.history.history))\n",
    "    scores.append(model.evaluate(x_test_float_fold5,y_test_float_fold5,verbose=0))\n",
    "    model.save('fifth_cv.keras')\n",
    "    \n",
    "    return model,loss,scores"
   ]
  },
  {
   "cell_type": "code",
   "execution_count": 169,
   "id": "c328c727",
   "metadata": {
    "scrolled": true
   },
   "outputs": [
    {
     "name": "stdout",
     "output_type": "stream",
     "text": [
      "First CV FOLD\n",
      "\n",
      "Second CV FOLD\n",
      "Epoch 85: early stopping\n",
      "\n",
      "Third CV FOLD\n",
      "\n",
      "Fourth CV FOLD\n",
      "Epoch 74: early stopping\n",
      "\n",
      "Fifth CV FOLD\n",
      "Epoch 25: early stopping\n",
      "First CV FOLD\n",
      "\n",
      "Second CV FOLD\n",
      "Epoch 26: early stopping\n",
      "\n",
      "Third CV FOLD\n",
      "Epoch 56: early stopping\n",
      "\n",
      "Fourth CV FOLD\n",
      "Epoch 36: early stopping\n",
      "\n",
      "Fifth CV FOLD\n",
      "Epoch 37: early stopping\n",
      "First CV FOLD\n",
      "\n",
      "Second CV FOLD\n",
      "\n",
      "Third CV FOLD\n",
      "\n",
      "Fourth CV FOLD\n",
      "Epoch 38: early stopping\n",
      "\n",
      "Fifth CV FOLD\n",
      "Epoch 25: early stopping\n",
      "First CV FOLD\n",
      "Epoch 41: early stopping\n",
      "\n",
      "Second CV FOLD\n",
      "Epoch 26: early stopping\n",
      "\n",
      "Third CV FOLD\n",
      "Epoch 27: early stopping\n",
      "\n",
      "Fourth CV FOLD\n",
      "Epoch 33: early stopping\n",
      "\n",
      "Fifth CV FOLD\n",
      "Epoch 79: early stopping\n",
      "First CV FOLD\n",
      "Epoch 28: early stopping\n",
      "\n",
      "Second CV FOLD\n",
      "Epoch 25: early stopping\n",
      "\n",
      "Third CV FOLD\n",
      "Epoch 31: early stopping\n",
      "\n",
      "Fourth CV FOLD\n",
      "Epoch 32: early stopping\n",
      "\n",
      "Fifth CV FOLD\n",
      "Epoch 28: early stopping\n"
     ]
    }
   ],
   "source": [
    "x_train = x_train_float\n",
    "y_train = y_train_one_hot\n",
    "x_test = x_train_float\n",
    "y_test = y_test_one_hot\n",
    "model,loss,scores = five_fold_CV(x_train,y_train,x_test,y_test,100,5000,0,act='sigmoid')\n",
    "model2,loss2,scores2 = five_fold_CV(x_train,y_train,x_test,y_test,100,5000,0,act='relu')\n",
    "model3,loss3,scores3 = five_fold_CV(x_train,y_train,x_test,y_test,100,5000,0,act='tanh')\n",
    "model4,loss4,scores4 = five_fold_CV(x_train,y_train,x_test,y_test,100,5000,0,act='leaky_relu')\n",
    "model5,loss5,scores5 = five_fold_CV(x_train,y_train,x_test,y_test,100,5000,0,act='linear')"
   ]
  },
  {
   "cell_type": "code",
   "execution_count": 170,
   "id": "3b806285",
   "metadata": {
    "scrolled": true
   },
   "outputs": [
    {
     "name": "stdout",
     "output_type": "stream",
     "text": [
      "First CV FOLD\n",
      "Epoch 77: early stopping\n",
      "\n",
      "Second CV FOLD\n",
      "Epoch 42: early stopping\n",
      "\n",
      "Third CV FOLD\n",
      "Epoch 25: early stopping\n",
      "\n",
      "Fourth CV FOLD\n",
      "Epoch 25: early stopping\n",
      "\n",
      "Fifth CV FOLD\n",
      "Epoch 26: early stopping\n",
      "First CV FOLD\n",
      "Epoch 52: early stopping\n",
      "\n",
      "Second CV FOLD\n",
      "Epoch 25: early stopping\n",
      "\n",
      "Third CV FOLD\n",
      "Epoch 25: early stopping\n",
      "\n",
      "Fourth CV FOLD\n",
      "Epoch 38: early stopping\n",
      "\n",
      "Fifth CV FOLD\n",
      "Epoch 33: early stopping\n",
      "First CV FOLD\n",
      "\n",
      "Second CV FOLD\n",
      "\n",
      "Third CV FOLD\n",
      "Epoch 25: early stopping\n",
      "\n",
      "Fourth CV FOLD\n",
      "Epoch 25: early stopping\n",
      "\n",
      "Fifth CV FOLD\n",
      "Epoch 26: early stopping\n",
      "First CV FOLD\n",
      "Epoch 62: early stopping\n",
      "\n",
      "Second CV FOLD\n",
      "Epoch 25: early stopping\n",
      "\n",
      "Third CV FOLD\n",
      "Epoch 25: early stopping\n",
      "\n",
      "Fourth CV FOLD\n",
      "Epoch 43: early stopping\n",
      "\n",
      "Fifth CV FOLD\n",
      "Epoch 35: early stopping\n",
      "First CV FOLD\n",
      "Epoch 28: early stopping\n",
      "\n",
      "Second CV FOLD\n",
      "Epoch 25: early stopping\n",
      "\n",
      "Third CV FOLD\n",
      "Epoch 25: early stopping\n",
      "\n",
      "Fourth CV FOLD\n",
      "Epoch 25: early stopping\n",
      "\n",
      "Fifth CV FOLD\n",
      "Epoch 26: early stopping\n"
     ]
    }
   ],
   "source": [
    "x_train = x_train_float_0\n",
    "y_train = y_train_one_hot_0\n",
    "x_test = x_test_float_0\n",
    "y_test = y_test_one_hot_0\n",
    "col = ['Good','Great']\n",
    "s=2\n",
    "model_0,loss_0,scores_0 = five_fold_CV(x_train,y_train,x_test,y_test,100,5000,0,act='sigmoid',cols=col,shape=s)\n",
    "model2_0,loss2_0,scores2_0 = five_fold_CV(x_train,y_train,x_test,y_test,100,5000,0,act='relu',cols=col,shape=s)\n",
    "model3_0,loss3_0,scores3_0 = five_fold_CV(x_train,y_train,x_test,y_test,100,5000,0,act='tanh',cols=col,shape=s)\n",
    "model4_0,loss4_0,scores4_0 = five_fold_CV(x_train,y_train,x_test,y_test,100,5000,0,act='leaky_relu',cols=col,shape=s)\n",
    "model5_0,loss5_0,scores5_0 = five_fold_CV(x_train,y_train,x_test,y_test,100,5000,0,act='linear',cols=col,shape=s)"
   ]
  },
  {
   "cell_type": "code",
   "execution_count": 171,
   "id": "97438d63",
   "metadata": {},
   "outputs": [],
   "source": [
    "def score_sums(data):\n",
    "    s_sum = sum([data[i][1] for i in range(len(data))])/len(data)\n",
    "    return s_sum"
   ]
  },
  {
   "cell_type": "code",
   "execution_count": 172,
   "id": "caed980d",
   "metadata": {},
   "outputs": [
    {
     "name": "stdout",
     "output_type": "stream",
     "text": [
      "0.9198717832565307\n",
      "0.9198717832565307\n",
      "0.9198717832565307\n",
      "0.9198717832565307\n",
      "0.9198717832565307\n"
     ]
    }
   ],
   "source": [
    "print(score_sums(scores_0))\n",
    "print(score_sums(scores2_0))\n",
    "print(score_sums(scores3_0))\n",
    "print(score_sums(scores4_0))\n",
    "print(score_sums(scores5_0))"
   ]
  },
  {
   "cell_type": "code",
   "execution_count": 173,
   "id": "272dc8b1",
   "metadata": {
    "scrolled": false
   },
   "outputs": [
    {
     "name": "stdout",
     "output_type": "stream",
     "text": [
      "First CV FOLD\n",
      "\n",
      "Second CV FOLD\n",
      "\n",
      "Third CV FOLD\n",
      "\n",
      "Fourth CV FOLD\n",
      "Epoch 25: early stopping\n",
      "\n",
      "Fifth CV FOLD\n",
      "First CV FOLD\n",
      "\n",
      "Second CV FOLD\n",
      "Epoch 25: early stopping\n",
      "\n",
      "Third CV FOLD\n",
      "Epoch 25: early stopping\n",
      "\n",
      "Fourth CV FOLD\n",
      "Epoch 25: early stopping\n",
      "\n",
      "Fifth CV FOLD\n",
      "Epoch 27: early stopping\n",
      "First CV FOLD\n",
      "\n",
      "Second CV FOLD\n",
      "Epoch 25: early stopping\n",
      "\n",
      "Third CV FOLD\n",
      "\n",
      "Fourth CV FOLD\n",
      "Epoch 25: early stopping\n",
      "\n",
      "Fifth CV FOLD\n",
      "First CV FOLD\n",
      "\n",
      "Second CV FOLD\n",
      "Epoch 25: early stopping\n",
      "\n",
      "Third CV FOLD\n",
      "Epoch 25: early stopping\n",
      "\n",
      "Fourth CV FOLD\n",
      "Epoch 25: early stopping\n",
      "\n",
      "Fifth CV FOLD\n",
      "Epoch 30: early stopping\n",
      "First CV FOLD\n",
      "Epoch 28: early stopping\n",
      "\n",
      "Second CV FOLD\n",
      "Epoch 25: early stopping\n",
      "\n",
      "Third CV FOLD\n",
      "Epoch 25: early stopping\n",
      "\n",
      "Fourth CV FOLD\n",
      "Epoch 25: early stopping\n",
      "\n",
      "Fifth CV FOLD\n"
     ]
    }
   ],
   "source": [
    "x_train = x_train_float_4\n",
    "y_train = y_train_one_hot_4\n",
    "x_test = x_test_float_4\n",
    "y_test = y_test_one_hot_4\n",
    "col = ['Bad','Great']\n",
    "s=2\n",
    "model_4,loss_4,scores_4 = five_fold_CV(x_train,y_train,x_test,y_test,100,5000,0,act='sigmoid',cols=col,shape=s)\n",
    "model2_4,loss2_4,scores2_4 = five_fold_CV(x_train,y_train,x_test,y_test,100,5000,0,act='relu',cols=col,shape=s)\n",
    "model3_4,loss3_4,scores3_4 = five_fold_CV(x_train,y_train,x_test,y_test,100,5000,0,act='tanh',cols=col,shape=s)\n",
    "model4_4,loss4_4,scores4_4 = five_fold_CV(x_train,y_train,x_test,y_test,100,5000,0,act='leaky_relu',cols=col,shape=s)\n",
    "model5_4,loss5_4,scores5_4 = five_fold_CV(x_train,y_train,x_test,y_test,100,5000,0,act='linear',cols=col,shape=s)"
   ]
  },
  {
   "cell_type": "code",
   "execution_count": 174,
   "id": "0ebfd5e8",
   "metadata": {},
   "outputs": [
    {
     "name": "stdout",
     "output_type": "stream",
     "text": [
      "0.9993555545806885\n",
      "0.9993555545806885\n",
      "0.9993555545806885\n",
      "0.9993555545806885\n",
      "0.9993555545806885\n"
     ]
    }
   ],
   "source": [
    "print(score_sums(scores_4))\n",
    "print(score_sums(scores2_4))\n",
    "print(score_sums(scores3_4))\n",
    "print(score_sums(scores4_4))\n",
    "print(score_sums(scores5_4))"
   ]
  },
  {
   "cell_type": "code",
   "execution_count": 175,
   "id": "cd4758d6",
   "metadata": {
    "scrolled": true
   },
   "outputs": [
    {
     "name": "stdout",
     "output_type": "stream",
     "text": [
      "First CV FOLD\n",
      "\n",
      "Second CV FOLD\n",
      "Epoch 25: early stopping\n",
      "\n",
      "Third CV FOLD\n",
      "Epoch 25: early stopping\n",
      "\n",
      "Fourth CV FOLD\n",
      "Epoch 26: early stopping\n",
      "\n",
      "Fifth CV FOLD\n",
      "Epoch 26: early stopping\n",
      "First CV FOLD\n",
      "Epoch 32: early stopping\n",
      "\n",
      "Second CV FOLD\n",
      "Epoch 25: early stopping\n",
      "\n",
      "Third CV FOLD\n",
      "Epoch 25: early stopping\n",
      "\n",
      "Fourth CV FOLD\n",
      "\n",
      "Fifth CV FOLD\n",
      "First CV FOLD\n",
      "Epoch 70: early stopping\n",
      "\n",
      "Second CV FOLD\n",
      "Epoch 25: early stopping\n",
      "\n",
      "Third CV FOLD\n",
      "Epoch 25: early stopping\n",
      "\n",
      "Fourth CV FOLD\n",
      "Epoch 26: early stopping\n",
      "\n",
      "Fifth CV FOLD\n",
      "Epoch 26: early stopping\n",
      "First CV FOLD\n",
      "Epoch 34: early stopping\n",
      "\n",
      "Second CV FOLD\n",
      "Epoch 25: early stopping\n",
      "\n",
      "Third CV FOLD\n",
      "Epoch 25: early stopping\n",
      "\n",
      "Fourth CV FOLD\n",
      "\n",
      "Fifth CV FOLD\n",
      "First CV FOLD\n",
      "\n",
      "Second CV FOLD\n",
      "Epoch 25: early stopping\n",
      "\n",
      "Third CV FOLD\n",
      "Epoch 25: early stopping\n",
      "\n",
      "Fourth CV FOLD\n",
      "Epoch 26: early stopping\n",
      "\n",
      "Fifth CV FOLD\n",
      "Epoch 29: early stopping\n"
     ]
    }
   ],
   "source": [
    "x_train = x_train_float_9\n",
    "y_train = y_train_one_hot_9\n",
    "x_test = x_test_float_9\n",
    "y_test = y_test_one_hot_9\n",
    "col = ['Bad','Good']\n",
    "s=2\n",
    "model_9,loss_9,scores_9 = five_fold_CV(x_train,y_train,x_test,y_test,100,5000,0,act='sigmoid',cols=col,shape=s)\n",
    "model2_9,loss2_9,scores2_9 = five_fold_CV(x_train,y_train,x_test,y_test,100,5000,0,act='relu',cols=col,shape=s)\n",
    "model3_9,loss3_9,scores3_9 = five_fold_CV(x_train,y_train,x_test,y_test,100,5000,0,act='tanh',cols=col,shape=s)\n",
    "model4_9,loss4_9,scores4_9 = five_fold_CV(x_train,y_train,x_test,y_test,100,5000,0,act='leaky_relu',cols=col,shape=s)\n",
    "model5_9,loss5_9,scores5_9 = five_fold_CV(x_train,y_train,x_test,y_test,100,5000,0,act='linear',cols=col,shape=s)"
   ]
  },
  {
   "cell_type": "code",
   "execution_count": 176,
   "id": "b008abf3",
   "metadata": {},
   "outputs": [
    {
     "name": "stdout",
     "output_type": "stream",
     "text": [
      "0.9926782727241517\n",
      "0.9926782727241517\n",
      "0.9926782727241517\n",
      "0.9926782727241517\n",
      "0.9926782727241517\n"
     ]
    }
   ],
   "source": [
    "print(score_sums(scores_9))\n",
    "print(score_sums(scores2_9))\n",
    "print(score_sums(scores3_9))\n",
    "print(score_sums(scores4_9))\n",
    "print(score_sums(scores5_9))"
   ]
  },
  {
   "cell_type": "markdown",
   "id": "d845f0cf",
   "metadata": {},
   "source": [
    "# SCORING and RUNTIME"
   ]
  },
  {
   "cell_type": "markdown",
   "id": "6accffee",
   "metadata": {},
   "source": [
    "#### First Class"
   ]
  },
  {
   "cell_type": "code",
   "execution_count": 199,
   "id": "2d7edd49",
   "metadata": {},
   "outputs": [
    {
     "name": "stdout",
     "output_type": "stream",
     "text": [
      "First CV FOLD\n",
      "Epoch 49: early stopping\n",
      "\n",
      "Second CV FOLD\n",
      "Epoch 29: early stopping\n",
      "\n",
      "Third CV FOLD\n",
      "Epoch 25: early stopping\n",
      "\n",
      "Fourth CV FOLD\n",
      "Epoch 25: early stopping\n",
      "\n",
      "Fifth CV FOLD\n",
      "Epoch 26: early stopping\n",
      "CPU times: user 8.45 s, sys: 904 ms, total: 9.35 s\n",
      "Wall time: 8.47 s\n"
     ]
    }
   ],
   "source": [
    "%%time\n",
    "x_train = x_train_float_0\n",
    "y_train = y_train_one_hot_0\n",
    "x_test = x_test_float_0\n",
    "y_test = y_test_one_hot_0\n",
    "col = ['Good','Great']\n",
    "s=2\n",
    "model3_0,loss3_0,scores3_0 = five_fold_CV(x_train,y_train,x_test,y_test,100,5000,0,act='tanh',cols=col,shape=s)"
   ]
  },
  {
   "cell_type": "code",
   "execution_count": 200,
   "id": "e5fc1389",
   "metadata": {},
   "outputs": [
    {
     "name": "stdout",
     "output_type": "stream",
     "text": [
      "\u001b[1m7/7\u001b[0m \u001b[32m━━━━━━━━━━━━━━━━━━━━\u001b[0m\u001b[37m\u001b[0m \u001b[1m0s\u001b[0m 4ms/step \n",
      "CPU times: user 89 ms, sys: 5.67 ms, total: 94.7 ms\n",
      "Wall time: 90.9 ms\n"
     ]
    }
   ],
   "source": [
    "%%time\n",
    "y_=model3_0.predict(x_test)"
   ]
  },
  {
   "cell_type": "code",
   "execution_count": 201,
   "id": "c424f349",
   "metadata": {
    "scrolled": true
   },
   "outputs": [
    {
     "data": {
      "text/plain": [
       "[0.2595433294773102, 0.9195979833602905]"
      ]
     },
     "execution_count": 201,
     "metadata": {},
     "output_type": "execute_result"
    }
   ],
   "source": [
    "model3_0.evaluate(x_test,y_test,verbose=0)"
   ]
  },
  {
   "cell_type": "code",
   "execution_count": 202,
   "id": "772976bd",
   "metadata": {},
   "outputs": [
    {
     "data": {
      "text/plain": [
       "0.9198717832565307"
      ]
     },
     "execution_count": 202,
     "metadata": {},
     "output_type": "execute_result"
    }
   ],
   "source": [
    "score_sums(scores3_0)"
   ]
  },
  {
   "cell_type": "markdown",
   "id": "117a1387",
   "metadata": {},
   "source": [
    "#### Second Class"
   ]
  },
  {
   "cell_type": "code",
   "execution_count": 203,
   "id": "e0c0ae59",
   "metadata": {},
   "outputs": [
    {
     "name": "stdout",
     "output_type": "stream",
     "text": [
      "First CV FOLD\n",
      "\n",
      "Second CV FOLD\n",
      "\n",
      "Third CV FOLD\n",
      "Epoch 25: early stopping\n",
      "\n",
      "Fourth CV FOLD\n",
      "Epoch 25: early stopping\n",
      "\n",
      "Fifth CV FOLD\n",
      "Epoch 39: early stopping\n",
      "CPU times: user 13 s, sys: 1.51 s, total: 14.5 s\n",
      "Wall time: 12.9 s\n"
     ]
    }
   ],
   "source": [
    "%%time\n",
    "x_train = x_train_float_0\n",
    "y_train = y_train_one_hot_0\n",
    "x_test = x_test_float_0\n",
    "y_test = y_test_one_hot_0\n",
    "col = ['Bad','Great']\n",
    "s=2\n",
    "model3_4,loss3_4,scores3_4 = five_fold_CV(x_train,y_train,x_test,y_test,100,5000,0,act='tanh',cols=col,shape=s)"
   ]
  },
  {
   "cell_type": "code",
   "execution_count": 204,
   "id": "129405d0",
   "metadata": {},
   "outputs": [
    {
     "name": "stdout",
     "output_type": "stream",
     "text": [
      "\u001b[1m7/7\u001b[0m \u001b[32m━━━━━━━━━━━━━━━━━━━━\u001b[0m\u001b[37m\u001b[0m \u001b[1m0s\u001b[0m 4ms/step \n",
      "CPU times: user 100 ms, sys: 7.48 ms, total: 108 ms\n",
      "Wall time: 104 ms\n"
     ]
    }
   ],
   "source": [
    "%%time\n",
    "y_=model3_4.predict(x_test)"
   ]
  },
  {
   "cell_type": "code",
   "execution_count": 205,
   "id": "3a7d5842",
   "metadata": {
    "scrolled": true
   },
   "outputs": [
    {
     "data": {
      "text/plain": [
       "[0.25950461626052856, 0.9195979833602905]"
      ]
     },
     "execution_count": 205,
     "metadata": {},
     "output_type": "execute_result"
    }
   ],
   "source": [
    "model3_4.evaluate(x_test,y_test,verbose=0)"
   ]
  },
  {
   "cell_type": "code",
   "execution_count": 206,
   "id": "8a25ab2e",
   "metadata": {},
   "outputs": [
    {
     "data": {
      "text/plain": [
       "0.9198717832565307"
      ]
     },
     "execution_count": 206,
     "metadata": {},
     "output_type": "execute_result"
    }
   ],
   "source": [
    "score_sums(scores3_4)"
   ]
  },
  {
   "cell_type": "markdown",
   "id": "c8b35170",
   "metadata": {},
   "source": [
    "#### Third Class"
   ]
  },
  {
   "cell_type": "code",
   "execution_count": 207,
   "id": "978a3b58",
   "metadata": {},
   "outputs": [
    {
     "name": "stdout",
     "output_type": "stream",
     "text": [
      "First CV FOLD\n",
      "Epoch 89: early stopping\n",
      "\n",
      "Second CV FOLD\n",
      "Epoch 27: early stopping\n",
      "\n",
      "Third CV FOLD\n",
      "Epoch 25: early stopping\n",
      "\n",
      "Fourth CV FOLD\n",
      "Epoch 25: early stopping\n",
      "\n",
      "Fifth CV FOLD\n",
      "Epoch 26: early stopping\n",
      "CPU times: user 10.2 s, sys: 1.1 s, total: 11.3 s\n",
      "Wall time: 10.4 s\n"
     ]
    }
   ],
   "source": [
    "%%time\n",
    "x_train = x_train_float_0\n",
    "y_train = y_train_one_hot_0\n",
    "x_test = x_test_float_0\n",
    "y_test = y_test_one_hot_0\n",
    "col = ['Good','Great']\n",
    "s=2\n",
    "model3_9,loss3_9,scores3_9 = five_fold_CV(x_train,y_train,x_test,y_test,100,5000,0,act='tanh',cols=col,shape=s)"
   ]
  },
  {
   "cell_type": "code",
   "execution_count": 208,
   "id": "5969cdd1",
   "metadata": {},
   "outputs": [
    {
     "name": "stdout",
     "output_type": "stream",
     "text": [
      "\u001b[1m7/7\u001b[0m \u001b[32m━━━━━━━━━━━━━━━━━━━━\u001b[0m\u001b[37m\u001b[0m \u001b[1m0s\u001b[0m 4ms/step \n",
      "CPU times: user 99.7 ms, sys: 6.5 ms, total: 106 ms\n",
      "Wall time: 102 ms\n"
     ]
    }
   ],
   "source": [
    "%%time\n",
    "y_=model3_9.predict(x_test)"
   ]
  },
  {
   "cell_type": "code",
   "execution_count": 209,
   "id": "e6ba600e",
   "metadata": {},
   "outputs": [
    {
     "data": {
      "text/plain": [
       "[0.2620137631893158, 0.9195979833602905]"
      ]
     },
     "execution_count": 209,
     "metadata": {},
     "output_type": "execute_result"
    }
   ],
   "source": [
    "model3_9.evaluate(x_test,y_test,verbose=0)"
   ]
  },
  {
   "cell_type": "code",
   "execution_count": 210,
   "id": "618a353d",
   "metadata": {},
   "outputs": [
    {
     "data": {
      "text/plain": [
       "0.9198717832565307"
      ]
     },
     "execution_count": 210,
     "metadata": {},
     "output_type": "execute_result"
    }
   ],
   "source": [
    "score_sums(scores3_9)"
   ]
  },
  {
   "cell_type": "code",
   "execution_count": 211,
   "id": "461e3770",
   "metadata": {
    "scrolled": false
   },
   "outputs": [],
   "source": [
    "def plot_cv_loss(loss,title='title'):\n",
    "    colors = ['r','g','b','k','c','m']\n",
    "    x,y,count = 0,0,0\n",
    "    for i in range(len(loss)):\n",
    "        for j in range(len(loss[i]['val_loss'])):\n",
    "            x = count\n",
    "            y = loss[i]['val_loss'][j]\n",
    "            count+=1\n",
    "            if(j==0):\n",
    "                plt.plot(x,y,colors[i],ls='-',marker='o',label='fold '+str(i))\n",
    "            else:\n",
    "                plt.plot(x,y,colors[i],ls='-',marker='o')\n",
    "    plt.title(\"ANN Model 5Fold-CV: Val_Loss vs Iteration: \" + str(title))\n",
    "    plt.xlabel(\"iteration\")\n",
    "    plt.ylabel(\"val_loss\")\n",
    "    plt.legend(loc=\"upper right\")\n",
    "    plt.show()"
   ]
  },
  {
   "cell_type": "code",
   "execution_count": 190,
   "id": "37f6df67",
   "metadata": {},
   "outputs": [
    {
     "data": {
      "image/png": "[encoded data removed]",
      "text/plain": [
       "<Figure size 640x480 with 1 Axes>"
      ]
     },
     "metadata": {},
     "output_type": "display_data"
    }
   ],
   "source": [
    "plot_cv_loss(loss3)"
   ]
  },
  {
   "cell_type": "code",
   "execution_count": 191,
   "id": "23f53984",
   "metadata": {},
   "outputs": [
    {
     "data": {
      "image/png": "[encoded data removed]",
      "text/plain": [
       "<Figure size 3000x500 with 5 Axes>"
      ]
     },
     "metadata": {},
     "output_type": "display_data"
    }
   ],
   "source": [
    "figure,axis=plt.subplots(2,3)\n",
    "magmax = 1\n",
    "axis[0,0].plot(pd.DataFrame(loss[0]['val_loss']))\n",
    "axis[0,0].set_title(\"sigmoid val_loss\")\n",
    "axis[0,0].set_xlim([0,40])\n",
    "axis[0,0].set_ylim([0,2])\n",
    "\n",
    "axis[0,1].plot(pd.DataFrame(loss2[0]['val_loss']))\n",
    "axis[0,1].set_title(\"relu val_loss\")\n",
    "axis[0,1].set_xlim([0,40])\n",
    "axis[0,1].set_ylim([0,2])\n",
    "\n",
    "axis[0,2].plot(pd.DataFrame(loss3[0]['val_loss']))\n",
    "axis[0,2].set_title(\"tanh val_loss\")\n",
    "axis[0,2].set_xlim([0,40])\n",
    "axis[0,2].set_ylim([0,2])\n",
    "\n",
    "axis[1,0].plot(pd.DataFrame(loss4[0]['val_loss']))\n",
    "axis[1,0].set_title(\"leaky_relu val_loss\")\n",
    "axis[1,0].set_xlim([0,40])\n",
    "axis[1,0].set_ylim([0,2])\n",
    "\n",
    "axis[1,1].plot(pd.DataFrame(loss5[0]['val_loss']))\n",
    "axis[1,1].set_title(\"linear val_loss\")\n",
    "axis[1,1].set_xlim([0,40])\n",
    "axis[1,1].set_ylim([0,2])\n",
    "\n",
    "axis[1,2].remove()\n",
    "\n",
    "plt.subplots_adjust(left=0.1, bottom=0.1, right=0.5,top=0.9, wspace=0.5, hspace=0.4)\n",
    "figure.set_figheight(5)\n",
    "figure.set_figwidth(30)\n",
    "\n",
    "plt.show()"
   ]
  },
  {
   "cell_type": "code",
   "execution_count": 192,
   "id": "18d40623",
   "metadata": {
    "scrolled": false
   },
   "outputs": [
    {
     "data": {
      "image/png": "[encoded data removed]",
      "text/plain": [
       "<Figure size 640x480 with 1 Axes>"
      ]
     },
     "metadata": {},
     "output_type": "display_data"
    }
   ],
   "source": [
    "plot_cv_loss(loss3_0,\"Class 1: Good & Great\")"
   ]
  },
  {
   "cell_type": "code",
   "execution_count": 193,
   "id": "0b631add",
   "metadata": {},
   "outputs": [
    {
     "data": {
      "image/png": "[encoded data removed]",
      "text/plain": [
       "<Figure size 640x480 with 1 Axes>"
      ]
     },
     "metadata": {},
     "output_type": "display_data"
    }
   ],
   "source": [
    "plot_cv_loss(loss3_4,\"Class 2: Bad & Great\")"
   ]
  },
  {
   "cell_type": "code",
   "execution_count": 194,
   "id": "ac061f2a",
   "metadata": {},
   "outputs": [
    {
     "data": {
      "image/png": "[encoded data removed]",
      "text/plain": [
       "<Figure size 640x480 with 1 Axes>"
      ]
     },
     "metadata": {},
     "output_type": "display_data"
    }
   ],
   "source": [
    "plot_cv_loss(loss3_9,\"Class 3: Bad & Great\")"
   ]
  },
  {
   "cell_type": "markdown",
   "id": "a092996b",
   "metadata": {},
   "source": [
    "#### Use the best model to train on the entire training dataset"
   ]
  },
  {
   "cell_type": "code",
   "execution_count": 195,
   "id": "20e4773b",
   "metadata": {},
   "outputs": [],
   "source": [
    "model = load_model('fifth_cv.keras')"
   ]
  },
  {
   "cell_type": "code",
   "execution_count": 196,
   "id": "55e4a336",
   "metadata": {
    "scrolled": true
   },
   "outputs": [
    {
     "ename": "KeyError",
     "evalue": "'Class'",
     "output_type": "error",
     "traceback": [
      "\u001b[0;31m---------------------------------------------------------------------------\u001b[0m",
      "\u001b[0;31mKeyError\u001b[0m                                  Traceback (most recent call last)",
      "File \u001b[0;32m~/anaconda3/lib/python3.11/site-packages/pandas/core/indexes/base.py:3653\u001b[0m, in \u001b[0;36mIndex.get_loc\u001b[0;34m(self, key)\u001b[0m\n\u001b[1;32m   3652\u001b[0m \u001b[38;5;28;01mtry\u001b[39;00m:\n\u001b[0;32m-> 3653\u001b[0m     \u001b[38;5;28;01mreturn\u001b[39;00m \u001b[38;5;28mself\u001b[39m\u001b[38;5;241m.\u001b[39m_engine\u001b[38;5;241m.\u001b[39mget_loc(casted_key)\n\u001b[1;32m   3654\u001b[0m \u001b[38;5;28;01mexcept\u001b[39;00m \u001b[38;5;167;01mKeyError\u001b[39;00m \u001b[38;5;28;01mas\u001b[39;00m err:\n",
      "File \u001b[0;32m~/anaconda3/lib/python3.11/site-packages/pandas/_libs/index.pyx:147\u001b[0m, in \u001b[0;36mpandas._libs.index.IndexEngine.get_loc\u001b[0;34m()\u001b[0m\n",
      "File \u001b[0;32m~/anaconda3/lib/python3.11/site-packages/pandas/_libs/index.pyx:176\u001b[0m, in \u001b[0;36mpandas._libs.index.IndexEngine.get_loc\u001b[0;34m()\u001b[0m\n",
      "File \u001b[0;32mpandas/_libs/hashtable_class_helper.pxi:7080\u001b[0m, in \u001b[0;36mpandas._libs.hashtable.PyObjectHashTable.get_item\u001b[0;34m()\u001b[0m\n",
      "File \u001b[0;32mpandas/_libs/hashtable_class_helper.pxi:7088\u001b[0m, in \u001b[0;36mpandas._libs.hashtable.PyObjectHashTable.get_item\u001b[0;34m()\u001b[0m\n",
      "\u001b[0;31mKeyError\u001b[0m: 'Class'",
      "\nThe above exception was the direct cause of the following exception:\n",
      "\u001b[0;31mKeyError\u001b[0m                                  Traceback (most recent call last)",
      "Cell \u001b[0;32mIn[196], line 4\u001b[0m\n\u001b[1;32m      1\u001b[0m \u001b[38;5;66;03m### TRAIN\u001b[39;00m\n\u001b[1;32m      2\u001b[0m x \u001b[38;5;241m=\u001b[39m np\u001b[38;5;241m.\u001b[39masarray(x_train)\u001b[38;5;241m.\u001b[39mastype(\u001b[38;5;124m'\u001b[39m\u001b[38;5;124mfloat32\u001b[39m\u001b[38;5;124m'\u001b[39m)\n\u001b[0;32m----> 4\u001b[0m y_train_one_hot \u001b[38;5;241m=\u001b[39m np\u001b[38;5;241m.\u001b[39masarray(one_hot_encode_classes(adjust_class(y_train)))\u001b[38;5;241m.\u001b[39mastype(\u001b[38;5;124m'\u001b[39m\u001b[38;5;124mfloat32\u001b[39m\u001b[38;5;124m'\u001b[39m)\n\u001b[1;32m      5\u001b[0m y \u001b[38;5;241m=\u001b[39m pd\u001b[38;5;241m.\u001b[39mDataFrame(y_train_one_hot, columns\u001b[38;5;241m=\u001b[39m[\u001b[38;5;124m'\u001b[39m\u001b[38;5;124mBad\u001b[39m\u001b[38;5;124m'\u001b[39m,\u001b[38;5;124m'\u001b[39m\u001b[38;5;124mGood\u001b[39m\u001b[38;5;124m'\u001b[39m,\u001b[38;5;124m'\u001b[39m\u001b[38;5;124mGreat\u001b[39m\u001b[38;5;124m'\u001b[39m])\n\u001b[1;32m      7\u001b[0m \u001b[38;5;66;03m#### TEST\u001b[39;00m\n",
      "Cell \u001b[0;32mIn[160], line 4\u001b[0m, in \u001b[0;36madjust_class\u001b[0;34m(data)\u001b[0m\n\u001b[1;32m      2\u001b[0m bad,good,great \u001b[38;5;241m=\u001b[39m \u001b[38;5;241m0\u001b[39m,\u001b[38;5;241m4\u001b[39m,\u001b[38;5;241m9\u001b[39m\n\u001b[1;32m      3\u001b[0m \u001b[38;5;66;03m#BAD\u001b[39;00m\n\u001b[0;32m----> 4\u001b[0m data[\u001b[38;5;124m'\u001b[39m\u001b[38;5;124mClass\u001b[39m\u001b[38;5;124m'\u001b[39m] \u001b[38;5;241m=\u001b[39m data[\u001b[38;5;124m'\u001b[39m\u001b[38;5;124mClass\u001b[39m\u001b[38;5;124m'\u001b[39m]\u001b[38;5;241m.\u001b[39mapply(\u001b[38;5;28;01mlambda\u001b[39;00m x: bad \u001b[38;5;28;01mif\u001b[39;00m x \u001b[38;5;241m==\u001b[39m \u001b[38;5;241m0\u001b[39m \u001b[38;5;28;01melse\u001b[39;00m x)\n\u001b[1;32m      5\u001b[0m data[\u001b[38;5;124m'\u001b[39m\u001b[38;5;124mClass\u001b[39m\u001b[38;5;124m'\u001b[39m] \u001b[38;5;241m=\u001b[39m data[\u001b[38;5;124m'\u001b[39m\u001b[38;5;124mClass\u001b[39m\u001b[38;5;124m'\u001b[39m]\u001b[38;5;241m.\u001b[39mapply(\u001b[38;5;28;01mlambda\u001b[39;00m x: bad \u001b[38;5;28;01mif\u001b[39;00m x \u001b[38;5;241m==\u001b[39m \u001b[38;5;241m1\u001b[39m \u001b[38;5;28;01melse\u001b[39;00m x)\n\u001b[1;32m      6\u001b[0m data[\u001b[38;5;124m'\u001b[39m\u001b[38;5;124mClass\u001b[39m\u001b[38;5;124m'\u001b[39m] \u001b[38;5;241m=\u001b[39m data[\u001b[38;5;124m'\u001b[39m\u001b[38;5;124mClass\u001b[39m\u001b[38;5;124m'\u001b[39m]\u001b[38;5;241m.\u001b[39mapply(\u001b[38;5;28;01mlambda\u001b[39;00m x: bad \u001b[38;5;28;01mif\u001b[39;00m x \u001b[38;5;241m==\u001b[39m \u001b[38;5;241m2\u001b[39m \u001b[38;5;28;01melse\u001b[39;00m x)\n",
      "File \u001b[0;32m~/anaconda3/lib/python3.11/site-packages/pandas/core/frame.py:3761\u001b[0m, in \u001b[0;36mDataFrame.__getitem__\u001b[0;34m(self, key)\u001b[0m\n\u001b[1;32m   3759\u001b[0m \u001b[38;5;28;01mif\u001b[39;00m \u001b[38;5;28mself\u001b[39m\u001b[38;5;241m.\u001b[39mcolumns\u001b[38;5;241m.\u001b[39mnlevels \u001b[38;5;241m>\u001b[39m \u001b[38;5;241m1\u001b[39m:\n\u001b[1;32m   3760\u001b[0m     \u001b[38;5;28;01mreturn\u001b[39;00m \u001b[38;5;28mself\u001b[39m\u001b[38;5;241m.\u001b[39m_getitem_multilevel(key)\n\u001b[0;32m-> 3761\u001b[0m indexer \u001b[38;5;241m=\u001b[39m \u001b[38;5;28mself\u001b[39m\u001b[38;5;241m.\u001b[39mcolumns\u001b[38;5;241m.\u001b[39mget_loc(key)\n\u001b[1;32m   3762\u001b[0m \u001b[38;5;28;01mif\u001b[39;00m is_integer(indexer):\n\u001b[1;32m   3763\u001b[0m     indexer \u001b[38;5;241m=\u001b[39m [indexer]\n",
      "File \u001b[0;32m~/anaconda3/lib/python3.11/site-packages/pandas/core/indexes/base.py:3655\u001b[0m, in \u001b[0;36mIndex.get_loc\u001b[0;34m(self, key)\u001b[0m\n\u001b[1;32m   3653\u001b[0m     \u001b[38;5;28;01mreturn\u001b[39;00m \u001b[38;5;28mself\u001b[39m\u001b[38;5;241m.\u001b[39m_engine\u001b[38;5;241m.\u001b[39mget_loc(casted_key)\n\u001b[1;32m   3654\u001b[0m \u001b[38;5;28;01mexcept\u001b[39;00m \u001b[38;5;167;01mKeyError\u001b[39;00m \u001b[38;5;28;01mas\u001b[39;00m err:\n\u001b[0;32m-> 3655\u001b[0m     \u001b[38;5;28;01mraise\u001b[39;00m \u001b[38;5;167;01mKeyError\u001b[39;00m(key) \u001b[38;5;28;01mfrom\u001b[39;00m \u001b[38;5;21;01merr\u001b[39;00m\n\u001b[1;32m   3656\u001b[0m \u001b[38;5;28;01mexcept\u001b[39;00m \u001b[38;5;167;01mTypeError\u001b[39;00m:\n\u001b[1;32m   3657\u001b[0m     \u001b[38;5;66;03m# If we have a listlike key, _check_indexing_error will raise\u001b[39;00m\n\u001b[1;32m   3658\u001b[0m     \u001b[38;5;66;03m#  InvalidIndexError. Otherwise we fall through and re-raise\u001b[39;00m\n\u001b[1;32m   3659\u001b[0m     \u001b[38;5;66;03m#  the TypeError.\u001b[39;00m\n\u001b[1;32m   3660\u001b[0m     \u001b[38;5;28mself\u001b[39m\u001b[38;5;241m.\u001b[39m_check_indexing_error(key)\n",
      "\u001b[0;31mKeyError\u001b[0m: 'Class'"
     ]
    }
   ],
   "source": [
    "### TRAIN\n",
    "x = np.asarray(x_train).astype('float32')\n",
    "\n",
    "y_train_one_hot = np.asarray(one_hot_encode_classes(adjust_class(y_train))).astype('float32')\n",
    "y = pd.DataFrame(y_train_one_hot, columns=['Bad','Good','Great'])\n",
    "\n",
    "#### TEST\n",
    "x_test_float = np.asarray(x_test).astype('float32')\n",
    "x_test = x_test_float\n",
    "    \n",
    "y_test_one_hot = np.asarray(one_hot_encode_classes(adjust_class(y_test))).astype('float32')\n",
    "y_test_one_hot = pd.DataFrame(y_test_one_hot, columns=['Bad','Good','Great'])\n",
    "y_test = y_test_one_hot\n",
    "\n",
    "early_stop = EarlyStopping(monitor='val_loss',mode='min',patience=25,verbose=1)\n",
    "model.fit(x=x,y=y,epochs=500,validation_data=(x_test,y_test),batch_size=5000,callbacks=[early_stop],verbose=1)\n",
    "loss.append(pd.DataFrame(model.history.history))\n",
    "scores.append(model.evaluate(x_test,y_test,verbose=0))\n",
    "model.save('final_model_entire_train.keras')"
   ]
  }
 ],
 "metadata": {
  "kernelspec": {
   "display_name": "Python 3 (ipykernel)",
   "language": "python",
   "name": "python3"
  },
  "language_info": {
   "codemirror_mode": {
    "name": "ipython",
    "version": 3
   },
   "file_extension": ".py",
   "mimetype": "text/x-python",
   "name": "python",
   "nbconvert_exporter": "python",
   "pygments_lexer": "ipython3",
   "version": "3.11.5"
  }
 },
 "nbformat": 4,
 "nbformat_minor": 5
}
