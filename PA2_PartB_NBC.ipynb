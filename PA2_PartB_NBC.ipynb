{
 "cells": [
  {
   "cell_type": "code",
   "execution_count": 46,
   "id": "62a89114",
   "metadata": {},
   "outputs": [],
   "source": [
    "import numpy as np\n",
    "import pandas as pd\n",
    "import matplotlib.pyplot as plt\n",
    "import seaborn as sns\n",
    "import copy\n",
    "import math\n",
    "%matplotlib inline"
   ]
  },
  {
   "cell_type": "markdown",
   "id": "e44b0e10",
   "metadata": {},
   "source": [
    "# 514 Programming Assignment 2\n",
    "#### Group: Rashaan, Ravi, David\n",
    "\n",
    "Data additional information\n",
    "Each record is an example of a hand consisting of five playing cards drawn from a standard deck of 52. \n",
    "Each card is described using two attributes (suit and rank), for a total of 10 predictive attributes. \n",
    "There is one Class attribute that describes the \"Poker Hand\". \n",
    "The order of cards is important, which is why there are 480 possible Royal Flush hands as compared to 4"
   ]
  },
  {
   "cell_type": "markdown",
   "id": "185ac10e",
   "metadata": {},
   "source": [
    "#### Load dataset"
   ]
  },
  {
   "cell_type": "code",
   "execution_count": 47,
   "id": "9d7f3092",
   "metadata": {},
   "outputs": [],
   "source": [
    "# Column names for the dataset\n",
    "# Define the column names for your dataset\n",
    "columns = ['S1', 'C1', 'S2', 'C2', 'S3', 'C3', 'S4', 'C4', 'S5', 'C5', 'Class']\n",
    "\n",
    "# Load your dataset\n",
    "training_data = pd.read_csv('poker-hand-training-true.csv', header=None, names=columns)\n",
    "testing_data = pd.read_csv('poker-hand-testing.csv', header=None, names=columns)\n",
    "\n",
    "# Adjust the ranks of cards, specifically changing Ace from 1 to 14\n",
    "def adjust_ranks(data):\n",
    "    for i in range(1, 6):  # For each card in the hand\n",
    "        data[f'C{i}'] = data[f'C{i}'].apply(lambda x: 14 if x == 1 else x)\n",
    "    return data\n",
    "\n",
    "# One-hot encode the suits of the cards\n",
    "def one_hot_encode_suits(data):\n",
    "    for i in range(1, 6):  # For each card in the hand\n",
    "        data = pd.concat([data, pd.get_dummies(data[f'S{i}'], prefix=f'S{i}')], axis=1).drop([f'S{i}'], axis=1)\n",
    "    return data\n",
    "\n",
    "# Apply preprocessing steps\n",
    "def preprocess_data(data):\n",
    "    data = adjust_ranks(data)\n",
    "    data = one_hot_encode_suits(data)\n",
    "    return data\n",
    "\n",
    "training_data_preprocessed = preprocess_data(training_data)\n",
    "testing_data_preprocessed = preprocess_data(testing_data)\n"
   ]
  },
  {
   "cell_type": "markdown",
   "id": "82227c38",
   "metadata": {},
   "source": [
    "# Naïve Bayes Classifier - Part B"
   ]
  },
  {
   "cell_type": "code",
   "execution_count": 48,
   "id": "c9566829",
   "metadata": {},
   "outputs": [],
   "source": [
    "from sklearn.naive_bayes import CategoricalNB,BernoulliNB,MultinomialNB\n",
    "from sklearn.metrics import accuracy_score,classification_report\n",
    "from sklearn.model_selection import KFold,StratifiedKFold,cross_val_score\n",
    "from sklearn.metrics import mean_absolute_error,mean_squared_error,classification_report,confusion_matrix"
   ]
  },
  {
   "cell_type": "markdown",
   "id": "469dee09",
   "metadata": {},
   "source": [
    "##### PREPARE THE TRAINING AND TESTING SETS"
   ]
  },
  {
   "cell_type": "code",
   "execution_count": 49,
   "id": "34d502fd",
   "metadata": {},
   "outputs": [],
   "source": [
    "x_train = training_data_preprocessed[['C1', 'C2', 'C3', 'C4', 'C5', 'S1_1', 'S1_2', 'S1_3', 'S1_4',\n",
    "       'S2_1', 'S2_2', 'S2_3', 'S2_4', 'S3_1', 'S3_2', 'S3_3', 'S3_4', 'S4_1',\n",
    "       'S4_2', 'S4_3', 'S4_4', 'S5_1', 'S5_2', 'S5_3', 'S5_4']]\n",
    "\n",
    "y_train = pd.DataFrame(training_data_preprocessed['Class'])\n",
    "\n",
    "x_test = testing_data_preprocessed[['C1', 'C2', 'C3', 'C4', 'C5', 'S1_1', 'S1_2', 'S1_3', 'S1_4',\n",
    "       'S2_1', 'S2_2', 'S2_3', 'S2_4', 'S3_1', 'S3_2', 'S3_3', 'S3_4', 'S4_1',\n",
    "       'S4_2', 'S4_3', 'S4_4', 'S5_1', 'S5_2', 'S5_3', 'S5_4']]\n",
    "\n",
    "y_test = pd.DataFrame(testing_data_preprocessed['Class'])"
   ]
  },
  {
   "cell_type": "code",
   "execution_count": 50,
   "id": "85f51d58",
   "metadata": {},
   "outputs": [],
   "source": [
    "def adjust_class(data):\n",
    "        bad,good,great = 0,4,9\n",
    "        #BAD\n",
    "        data['Class'] = data['Class'].apply(lambda x: bad if x == 0 else x)\n",
    "        data['Class'] = data['Class'].apply(lambda x: bad if x == 1 else x)\n",
    "        data['Class'] = data['Class'].apply(lambda x: bad if x == 2 else x)\n",
    "        data['Class'] = data['Class'].apply(lambda x: bad if x == 3 else x)\n",
    "        #GOOD\n",
    "        data['Class'] = data['Class'].apply(lambda x: good if x == 4 else x)\n",
    "        data['Class'] = data['Class'].apply(lambda x: good if x == 5 else x)\n",
    "        data['Class'] = data['Class'].apply(lambda x: good if x == 6 else x)\n",
    "        #GREAT\n",
    "        data['Class'] = data['Class'].apply(lambda x: great if x == 7 else x)\n",
    "        data['Class'] = data['Class'].apply(lambda x: great if x == 8 else x)\n",
    "        data['Class'] = data['Class'].apply(lambda x: great if x == 9 else x)\n",
    "        return data"
   ]
  },
  {
   "cell_type": "code",
   "execution_count": 51,
   "id": "0f005e5f",
   "metadata": {},
   "outputs": [],
   "source": [
    "prior = [0.33,0.33,0.33]\n",
    "cnb = CategoricalNB(alpha=0.0000000001,force_alpha=True,class_prior=prior)"
   ]
  },
  {
   "cell_type": "code",
   "execution_count": 52,
   "id": "78731fa8",
   "metadata": {},
   "outputs": [],
   "source": [
    "def five_fold_CV_NBC(x_train,y_train,x_test,y_test):\n",
    "    ### FOLDS ####\n",
    "    folds = StratifiedKFold(n_splits=5)\n",
    "    cv_folds = folds.split(x_train,y_train)\n",
    "    x_,y_,x_t,y_t = [],[],[],[]\n",
    "    for i, (train_index, test_index) in enumerate(cv_folds):\n",
    "        temp_x,temp_y = copy.deepcopy(x_train.iloc[train_index]),copy.deepcopy(y_train.iloc[train_index])\n",
    "        temp_x_test,temp_y_test = copy.deepcopy(x_train.iloc[test_index]),copy.deepcopy(y_train.iloc[test_index])\n",
    "        x_.append(temp_x)\n",
    "        y_.append(temp_y)\n",
    "        x_t.append(temp_x_test)\n",
    "        y_t.append(temp_y_test)\n",
    "    #FOLD 1\n",
    "    x_train_float_fold1 = x_[0]\n",
    "    y_train_float_fold1 = adjust_class(y_[0]).values.ravel()\n",
    "    \n",
    "    x_train_float_fold1_t = x_t[0]\n",
    "    y_train_float_fold1_t = adjust_class(y_t[0]).values.ravel()\n",
    "\n",
    "    #FOLD 2\n",
    "    x_train_float_fold2 = x_[1]\n",
    "    y_train_float_fold2 = adjust_class(y_[1]).values.ravel()\n",
    "    \n",
    "    x_train_float_fold2_t = x_t[1]\n",
    "    y_train_float_fold2_t = adjust_class(y_t[1]).values.ravel()\n",
    "    \n",
    "    #FOLD 3\n",
    "    x_train_float_fold3 = x_[2]\n",
    "    y_train_float_fold3 = adjust_class(y_[2]).values.ravel()\n",
    "    \n",
    "    x_train_float_fold3_t = x_t[2]\n",
    "    y_train_float_fold3_t = adjust_class(y_t[2]).values.ravel()\n",
    "\n",
    "    #FOLD 4\n",
    "    x_train_float_fold4 = x_[3]\n",
    "    y_train_float_fold4 = adjust_class(y_[3]).values.ravel()\n",
    "    \n",
    "    x_train_float_fold4_t = x_t[3]\n",
    "    y_train_float_fold4_t = adjust_class(y_t[3]).values.ravel()\n",
    "\n",
    "    #FOLD 5\n",
    "    x_train_float_fold5 = x_[4]\n",
    "    y_train_float_fold5 = adjust_class(y_[4]).values.ravel()\n",
    "    \n",
    "    x_train_float_fold5_t = x_t[4]\n",
    "    y_train_float_fold5_t = adjust_class(y_t[4]).values.ravel()\n",
    "    \n",
    "    \n",
    "    ### TESTING ###\n",
    "    models = []\n",
    "    loss = []\n",
    "    scores = []\n",
    "    mod_score = []\n",
    "    pred,curr_err = 0,0\n",
    "    error = []\n",
    "    acc = []\n",
    "    \n",
    "    #########\n",
    "    w_ = np.ones(20008)/3\n",
    "    class_ = [0,4,9]\n",
    "    \n",
    "    ###### 1 #######\n",
    "    model1 = cnb.partial_fit(x_train_float_fold1,y_train_float_fold1,classes=class_,sample_weight=w_)\n",
    "    models.append(model1)\n",
    "    mod_score.append(model1.score(x_train_float_fold1,y_train_float_fold1))\n",
    "    scores.append(cross_val_score(model1, x_train_float_fold1_t, y_train_float_fold1_t, scoring='accuracy'))\n",
    "    pred = model1.predict(x_train_float_fold1_t)\n",
    "    curr_err = mean_squared_error(y_train_float_fold1_t,pred)\n",
    "    error.append(curr_err)\n",
    "    acc.append(accuracy_score(y_train_float_fold1_t,pred))\n",
    "    \n",
    "    ###### 2 #######\n",
    "    model2 = copy.deepcopy(model1)\n",
    "    model2 = cnb.partial_fit(x_train_float_fold2,y_train_float_fold2,classes=class_)\n",
    "    models.append(model2)\n",
    "    mod_score.append(model2.score(x_train_float_fold2_t,y_train_float_fold2_t))\n",
    "    scores.append(cross_val_score(model2, x_train_float_fold2_t, y_train_float_fold2_t, scoring='accuracy'))\n",
    "    pred = model2.predict(x_train_float_fold2_t)\n",
    "    curr_err = mean_squared_error(y_train_float_fold2_t,pred)\n",
    "    error.append(curr_err)\n",
    "    acc.append(accuracy_score(y_train_float_fold2_t,pred))\n",
    "    \n",
    "    ###### 3 #######\n",
    "    model3 = copy.deepcopy(model2)\n",
    "    model3 = cnb.partial_fit(x_train_float_fold3,y_train_float_fold3,classes=class_)\n",
    "    models.append(model3)\n",
    "    mod_score.append(model3.score(x_train_float_fold3_t,y_train_float_fold3_t))\n",
    "    scores.append(cross_val_score(model3, x_train_float_fold3_t, y_train_float_fold3_t, scoring='accuracy'))\n",
    "    pred = model3.predict(x_train_float_fold3_t)\n",
    "    curr_err = mean_squared_error(y_train_float_fold3_t,pred)\n",
    "    error.append(curr_err)\n",
    "    acc.append(accuracy_score(y_train_float_fold3_t,pred))\n",
    "    \n",
    "    ###### 4 #######\n",
    "    model4 = copy.deepcopy(model3)\n",
    "    model4 = cnb.partial_fit(x_train_float_fold4,y_train_float_fold4,classes=class_)\n",
    "    models.append(model4)\n",
    "    mod_score.append(model4.score(x_train_float_fold4_t,y_train_float_fold4_t))\n",
    "    scores.append(cross_val_score(model4, x_train_float_fold4_t, y_train_float_fold4_t, scoring='accuracy'))\n",
    "    pred = model4.predict(x_train_float_fold4_t)\n",
    "    curr_err = mean_squared_error(y_train_float_fold4_t,pred)\n",
    "    error.append(curr_err)\n",
    "    acc.append(accuracy_score(y_train_float_fold4_t,pred))\n",
    "    \n",
    "    ###### 5 #######\n",
    "    model5 = copy.deepcopy(model4)\n",
    "    model5 = cnb.partial_fit(x_train_float_fold5,y_train_float_fold5,classes=class_)\n",
    "    models.append(model5)\n",
    "    mod_score.append(model5.score(x_train_float_fold5,y_train_float_fold5))\n",
    "    scores.append(cross_val_score(model5, x_train_float_fold5_t, y_train_float_fold5_t, scoring='accuracy'))\n",
    "    pred = model5.predict(x_train_float_fold5_t)\n",
    "    curr_err = mean_squared_error(y_train_float_fold5_t,pred)\n",
    "    error.append(curr_err)\n",
    "    acc.append(accuracy_score(y_train_float_fold5_t,pred))\n",
    "    \n",
    "    return models,scores,error,acc,mod_score"
   ]
  },
  {
   "cell_type": "code",
   "execution_count": 53,
   "id": "9b524005",
   "metadata": {
    "scrolled": true
   },
   "outputs": [
    {
     "name": "stderr",
     "output_type": "stream",
     "text": [
      "/Users/rashaanyapp/anaconda3/lib/python3.11/site-packages/sklearn/model_selection/_split.py:725: UserWarning: The least populated class in y has only 3 members, which is less than n_splits=5.\n",
      "  warnings.warn(\n",
      "/Users/rashaanyapp/anaconda3/lib/python3.11/site-packages/sklearn/model_selection/_split.py:725: UserWarning: The least populated class in y has only 3 members, which is less than n_splits=5.\n",
      "  warnings.warn(\n",
      "/Users/rashaanyapp/anaconda3/lib/python3.11/site-packages/sklearn/model_selection/_split.py:725: UserWarning: The least populated class in y has only 3 members, which is less than n_splits=5.\n",
      "  warnings.warn(\n",
      "/Users/rashaanyapp/anaconda3/lib/python3.11/site-packages/sklearn/model_selection/_split.py:725: UserWarning: The least populated class in y has only 3 members, which is less than n_splits=5.\n",
      "  warnings.warn(\n",
      "/Users/rashaanyapp/anaconda3/lib/python3.11/site-packages/sklearn/model_selection/_split.py:725: UserWarning: The least populated class in y has only 4 members, which is less than n_splits=5.\n",
      "  warnings.warn(\n"
     ]
    }
   ],
   "source": [
    "models,scores,error,acc,mod_score = five_fold_CV_NBC(x_train,y_train,x_test,y_test)"
   ]
  },
  {
   "cell_type": "code",
   "execution_count": 54,
   "id": "c05abfc2",
   "metadata": {
    "scrolled": true
   },
   "outputs": [],
   "source": [
    "def plot_score(data,fig,side):\n",
    "    colors = ['r','g','b','k','c']\n",
    "    plt.plot(pd.DataFrame(data))\n",
    "    for i in range(len(data)):\n",
    "        plt.plot(i,data[i],colors[i],label='fold '+str(i),marker='o')\n",
    "    plt.title(\"Naïve Bayes Classifier Model: 5Fold-CV: \" + str(fig) + \" vs Iteration\")\n",
    "    plt.xlabel(\"iteration\")\n",
    "    plt.ylabel(str(fig))\n",
    "    plt.legend(loc=\"upper \"+side)\n",
    "    plt.show()"
   ]
  },
  {
   "cell_type": "code",
   "execution_count": 55,
   "id": "cbafc12a",
   "metadata": {},
   "outputs": [
    {
     "data": {
      "image/png": "[encoded data removed]",
      "text/plain": [
       "<Figure size 640x480 with 1 Axes>"
      ]
     },
     "metadata": {},
     "output_type": "display_data"
    }
   ],
   "source": [
    "plot_score(acc,'Accuracy','right')"
   ]
  }
 ],
 "metadata": {
  "kernelspec": {
   "display_name": "Python 3 (ipykernel)",
   "language": "python",
   "name": "python3"
  },
  "language_info": {
   "codemirror_mode": {
    "name": "ipython",
    "version": 3
   },
   "file_extension": ".py",
   "mimetype": "text/x-python",
   "name": "python",
   "nbconvert_exporter": "python",
   "pygments_lexer": "ipython3",
   "version": "3.11.5"
  }
 },
 "nbformat": 4,
 "nbformat_minor": 5
}
